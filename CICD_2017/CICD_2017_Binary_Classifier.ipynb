{
  "cells": [
    {
      "cell_type": "markdown",
      "metadata": {
        "id": "view-in-github",
        "colab_type": "text"
      },
      "source": [
        "<a href=\"https://colab.research.google.com/github/Isha-Ismail/Network-Intrusion-Implementation/blob/main/CICD_2017/CICD_2017_Binary_Classifier.ipynb\" target=\"_parent\"><img src=\"https://colab.research.google.com/assets/colab-badge.svg\" alt=\"Open In Colab\"/></a>"
      ]
    },
    {
      "cell_type": "code",
      "execution_count": null,
      "metadata": {
        "id": "7MblIbMu31gO"
      },
      "outputs": [],
      "source": [
        "from sklearn.metrics import accuracy_score # for calculating accuracy of model\n",
        "from sklearn.model_selection import train_test_split # for splitting the dataset for training and testing\n",
        "from sklearn.metrics import classification_report # for generating a classification report of model\n",
        "import pickle # saving and loading trained model\n",
        "from os import path\n",
        "import numpy as np\n",
        "import pandas as pd\n",
        "import matplotlib.pyplot as plt"
      ]
    },
    {
      "cell_type": "code",
      "execution_count": null,
      "metadata": {
        "id": "18mwiCuSJzeR",
        "outputId": "68d82a24-8671-4761-9e08-42d410aec4a4"
      },
      "outputs": [
        {
          "name": "stdout",
          "output_type": "stream",
          "text": [
            "Requirement already satisfied: wget in g:\\pycharm projects\\machine learning\\venv\\lib\\site-packages (3.2)\n"
          ]
        },
        {
          "name": "stderr",
          "output_type": "stream",
          "text": [
            "WARNING: You are using pip version 22.0.3; however, version 22.1 is available.\n",
            "You should consider upgrading via the 'g:\\pycharm projects\\machine learning\\venv\\scripts\\python.exe -m pip install --upgrade pip' command.\n"
          ]
        }
      ],
      "source": [
        "!pip install wget"
      ]
    },
    {
      "cell_type": "code",
      "execution_count": null,
      "metadata": {
        "id": "r_1BeeCCJzeT",
        "outputId": "e24ec78f-b2f3-44d5-d60f-2fd74a2423ca"
      },
      "outputs": [
        {
          "name": "stdout",
          "output_type": "stream",
          "text": [
            "100% [........................................................................] 77123859 / 77123859"
          ]
        }
      ],
      "source": [
        "import wget\n",
        "data = wget.download('https://dl.dropboxusercontent.com/s/iv5lxk1mayst93a/Friday-WorkingHours-Afternoon-DDos.pcap_ISCX.csv?dl=0')"
      ]
    },
    {
      "cell_type": "markdown",
      "metadata": {
        "id": "G968KVJLeK7f"
      },
      "source": [
        "## Loading data"
      ]
    },
    {
      "cell_type": "code",
      "execution_count": null,
      "metadata": {
        "id": "gznEbdp2eK7i"
      },
      "outputs": [],
      "source": [
        "bin_data = pd.read_csv(data)\n",
        "# bin_data.drop(bin_data.columns[0],axis=1,inplace=True)\n",
        "# le1_classes_ = np.load('labels/le1_classes.npy',allow_pickle=True)"
      ]
    },
    {
      "cell_type": "code",
      "execution_count": null,
      "metadata": {
        "colab": {
          "base_uri": "https://localhost:8080/",
          "height": 352
        },
        "id": "LLuQ75H0eK7j",
        "outputId": "e275e3ae-b9ef-490f-e115-c35719f74a13"
      },
      "outputs": [
        {
          "data": {
            "text/html": [
              "<div>\n",
              "<style scoped>\n",
              "    .dataframe tbody tr th:only-of-type {\n",
              "        vertical-align: middle;\n",
              "    }\n",
              "\n",
              "    .dataframe tbody tr th {\n",
              "        vertical-align: top;\n",
              "    }\n",
              "\n",
              "    .dataframe thead th {\n",
              "        text-align: right;\n",
              "    }\n",
              "</style>\n",
              "<table border=\"1\" class=\"dataframe\">\n",
              "  <thead>\n",
              "    <tr style=\"text-align: right;\">\n",
              "      <th></th>\n",
              "      <th>Destination Port</th>\n",
              "      <th>Flow Duration</th>\n",
              "      <th>Total Fwd Packets</th>\n",
              "      <th>Total Backward Packets</th>\n",
              "      <th>Total Length of Fwd Packets</th>\n",
              "      <th>Total Length of Bwd Packets</th>\n",
              "      <th>Fwd Packet Length Max</th>\n",
              "      <th>Fwd Packet Length Min</th>\n",
              "      <th>Fwd Packet Length Mean</th>\n",
              "      <th>Fwd Packet Length Std</th>\n",
              "      <th>...</th>\n",
              "      <th>min_seg_size_forward</th>\n",
              "      <th>Active Mean</th>\n",
              "      <th>Active Std</th>\n",
              "      <th>Active Max</th>\n",
              "      <th>Active Min</th>\n",
              "      <th>Idle Mean</th>\n",
              "      <th>Idle Std</th>\n",
              "      <th>Idle Max</th>\n",
              "      <th>Idle Min</th>\n",
              "      <th>Label</th>\n",
              "    </tr>\n",
              "  </thead>\n",
              "  <tbody>\n",
              "    <tr>\n",
              "      <th>0</th>\n",
              "      <td>54865</td>\n",
              "      <td>3</td>\n",
              "      <td>2</td>\n",
              "      <td>0</td>\n",
              "      <td>12</td>\n",
              "      <td>0</td>\n",
              "      <td>6</td>\n",
              "      <td>6</td>\n",
              "      <td>6.0</td>\n",
              "      <td>0.0</td>\n",
              "      <td>...</td>\n",
              "      <td>20</td>\n",
              "      <td>0.0</td>\n",
              "      <td>0.0</td>\n",
              "      <td>0</td>\n",
              "      <td>0</td>\n",
              "      <td>0.0</td>\n",
              "      <td>0.0</td>\n",
              "      <td>0</td>\n",
              "      <td>0</td>\n",
              "      <td>BENIGN</td>\n",
              "    </tr>\n",
              "    <tr>\n",
              "      <th>1</th>\n",
              "      <td>55054</td>\n",
              "      <td>109</td>\n",
              "      <td>1</td>\n",
              "      <td>1</td>\n",
              "      <td>6</td>\n",
              "      <td>6</td>\n",
              "      <td>6</td>\n",
              "      <td>6</td>\n",
              "      <td>6.0</td>\n",
              "      <td>0.0</td>\n",
              "      <td>...</td>\n",
              "      <td>20</td>\n",
              "      <td>0.0</td>\n",
              "      <td>0.0</td>\n",
              "      <td>0</td>\n",
              "      <td>0</td>\n",
              "      <td>0.0</td>\n",
              "      <td>0.0</td>\n",
              "      <td>0</td>\n",
              "      <td>0</td>\n",
              "      <td>BENIGN</td>\n",
              "    </tr>\n",
              "    <tr>\n",
              "      <th>2</th>\n",
              "      <td>55055</td>\n",
              "      <td>52</td>\n",
              "      <td>1</td>\n",
              "      <td>1</td>\n",
              "      <td>6</td>\n",
              "      <td>6</td>\n",
              "      <td>6</td>\n",
              "      <td>6</td>\n",
              "      <td>6.0</td>\n",
              "      <td>0.0</td>\n",
              "      <td>...</td>\n",
              "      <td>20</td>\n",
              "      <td>0.0</td>\n",
              "      <td>0.0</td>\n",
              "      <td>0</td>\n",
              "      <td>0</td>\n",
              "      <td>0.0</td>\n",
              "      <td>0.0</td>\n",
              "      <td>0</td>\n",
              "      <td>0</td>\n",
              "      <td>BENIGN</td>\n",
              "    </tr>\n",
              "    <tr>\n",
              "      <th>3</th>\n",
              "      <td>46236</td>\n",
              "      <td>34</td>\n",
              "      <td>1</td>\n",
              "      <td>1</td>\n",
              "      <td>6</td>\n",
              "      <td>6</td>\n",
              "      <td>6</td>\n",
              "      <td>6</td>\n",
              "      <td>6.0</td>\n",
              "      <td>0.0</td>\n",
              "      <td>...</td>\n",
              "      <td>20</td>\n",
              "      <td>0.0</td>\n",
              "      <td>0.0</td>\n",
              "      <td>0</td>\n",
              "      <td>0</td>\n",
              "      <td>0.0</td>\n",
              "      <td>0.0</td>\n",
              "      <td>0</td>\n",
              "      <td>0</td>\n",
              "      <td>BENIGN</td>\n",
              "    </tr>\n",
              "    <tr>\n",
              "      <th>4</th>\n",
              "      <td>54863</td>\n",
              "      <td>3</td>\n",
              "      <td>2</td>\n",
              "      <td>0</td>\n",
              "      <td>12</td>\n",
              "      <td>0</td>\n",
              "      <td>6</td>\n",
              "      <td>6</td>\n",
              "      <td>6.0</td>\n",
              "      <td>0.0</td>\n",
              "      <td>...</td>\n",
              "      <td>20</td>\n",
              "      <td>0.0</td>\n",
              "      <td>0.0</td>\n",
              "      <td>0</td>\n",
              "      <td>0</td>\n",
              "      <td>0.0</td>\n",
              "      <td>0.0</td>\n",
              "      <td>0</td>\n",
              "      <td>0</td>\n",
              "      <td>BENIGN</td>\n",
              "    </tr>\n",
              "  </tbody>\n",
              "</table>\n",
              "<p>5 rows × 79 columns</p>\n",
              "</div>"
            ],
            "text/plain": [
              "    Destination Port   Flow Duration   Total Fwd Packets  \\\n",
              "0              54865               3                   2   \n",
              "1              55054             109                   1   \n",
              "2              55055              52                   1   \n",
              "3              46236              34                   1   \n",
              "4              54863               3                   2   \n",
              "\n",
              "    Total Backward Packets  Total Length of Fwd Packets  \\\n",
              "0                        0                           12   \n",
              "1                        1                            6   \n",
              "2                        1                            6   \n",
              "3                        1                            6   \n",
              "4                        0                           12   \n",
              "\n",
              "    Total Length of Bwd Packets   Fwd Packet Length Max  \\\n",
              "0                             0                       6   \n",
              "1                             6                       6   \n",
              "2                             6                       6   \n",
              "3                             6                       6   \n",
              "4                             0                       6   \n",
              "\n",
              "    Fwd Packet Length Min   Fwd Packet Length Mean   Fwd Packet Length Std  \\\n",
              "0                       6                      6.0                     0.0   \n",
              "1                       6                      6.0                     0.0   \n",
              "2                       6                      6.0                     0.0   \n",
              "3                       6                      6.0                     0.0   \n",
              "4                       6                      6.0                     0.0   \n",
              "\n",
              "   ...   min_seg_size_forward  Active Mean   Active Std   Active Max  \\\n",
              "0  ...                     20          0.0          0.0            0   \n",
              "1  ...                     20          0.0          0.0            0   \n",
              "2  ...                     20          0.0          0.0            0   \n",
              "3  ...                     20          0.0          0.0            0   \n",
              "4  ...                     20          0.0          0.0            0   \n",
              "\n",
              "    Active Min  Idle Mean   Idle Std   Idle Max   Idle Min   Label  \n",
              "0            0        0.0        0.0          0          0  BENIGN  \n",
              "1            0        0.0        0.0          0          0  BENIGN  \n",
              "2            0        0.0        0.0          0          0  BENIGN  \n",
              "3            0        0.0        0.0          0          0  BENIGN  \n",
              "4            0        0.0        0.0          0          0  BENIGN  \n",
              "\n",
              "[5 rows x 79 columns]"
            ]
          },
          "execution_count": 5,
          "metadata": {},
          "output_type": "execute_result"
        }
      ],
      "source": [
        "bin_data.head()"
      ]
    },
    {
      "cell_type": "code",
      "execution_count": null,
      "metadata": {
        "id": "WRtXGfvneK7k"
      },
      "outputs": [],
      "source": [
        "# print('Binary-classification labels:')\n",
        "# le1_classes_\n"
      ]
    },
    {
      "cell_type": "code",
      "execution_count": null,
      "metadata": {
        "id": "695tL2x2eK7m"
      },
      "outputs": [],
      "source": [
        "bin_data = bin_data.drop([' Fwd Packet Length Mean', ' Fwd Packet Length Std',\n",
        "       ' Bwd Packet Length Mean', ' Bwd Packet Length Std', 'Flow Bytes/s',\n",
        "       ' Flow Packets/s', ' Flow IAT Mean', ' Flow IAT Std', ' Fwd IAT Mean',\n",
        "       ' Fwd IAT Std', ' Bwd IAT Mean', ' Bwd IAT Std', 'Fwd Packets/s',\n",
        "       ' Bwd Packets/s', ' Packet Length Mean', ' Packet Length Std',\n",
        "       ' Packet Length Variance', ' Average Packet Size',\n",
        "       ' Avg Fwd Segment Size', ' Avg Bwd Segment Size', 'Active Mean',\n",
        "       ' Active Std', 'Idle Mean', ' Idle Std'], axis =1)"
      ]
    },
    {
      "cell_type": "code",
      "execution_count": null,
      "metadata": {
        "id": "unfJQ00jvvq1"
      },
      "outputs": [],
      "source": [
        "bin_data = bin_data.rename(columns = {\" Label\":\"label\"})"
      ]
    },
    {
      "cell_type": "code",
      "execution_count": null,
      "metadata": {
        "colab": {
          "base_uri": "https://localhost:8080/",
          "height": 352
        },
        "id": "Xwt99cH3zwpb",
        "outputId": "273874d5-d321-49f7-e7ea-875c3742c8d1"
      },
      "outputs": [
        {
          "data": {
            "text/html": [
              "<div>\n",
              "<style scoped>\n",
              "    .dataframe tbody tr th:only-of-type {\n",
              "        vertical-align: middle;\n",
              "    }\n",
              "\n",
              "    .dataframe tbody tr th {\n",
              "        vertical-align: top;\n",
              "    }\n",
              "\n",
              "    .dataframe thead th {\n",
              "        text-align: right;\n",
              "    }\n",
              "</style>\n",
              "<table border=\"1\" class=\"dataframe\">\n",
              "  <thead>\n",
              "    <tr style=\"text-align: right;\">\n",
              "      <th></th>\n",
              "      <th>Destination Port</th>\n",
              "      <th>Flow Duration</th>\n",
              "      <th>Total Fwd Packets</th>\n",
              "      <th>Total Backward Packets</th>\n",
              "      <th>Total Length of Fwd Packets</th>\n",
              "      <th>Total Length of Bwd Packets</th>\n",
              "      <th>Fwd Packet Length Max</th>\n",
              "      <th>Fwd Packet Length Min</th>\n",
              "      <th>Bwd Packet Length Max</th>\n",
              "      <th>Bwd Packet Length Min</th>\n",
              "      <th>...</th>\n",
              "      <th>Subflow Bwd Bytes</th>\n",
              "      <th>Init_Win_bytes_forward</th>\n",
              "      <th>Init_Win_bytes_backward</th>\n",
              "      <th>act_data_pkt_fwd</th>\n",
              "      <th>min_seg_size_forward</th>\n",
              "      <th>Active Max</th>\n",
              "      <th>Active Min</th>\n",
              "      <th>Idle Max</th>\n",
              "      <th>Idle Min</th>\n",
              "      <th>label</th>\n",
              "    </tr>\n",
              "  </thead>\n",
              "  <tbody>\n",
              "    <tr>\n",
              "      <th>0</th>\n",
              "      <td>54865</td>\n",
              "      <td>3</td>\n",
              "      <td>2</td>\n",
              "      <td>0</td>\n",
              "      <td>12</td>\n",
              "      <td>0</td>\n",
              "      <td>6</td>\n",
              "      <td>6</td>\n",
              "      <td>0</td>\n",
              "      <td>0</td>\n",
              "      <td>...</td>\n",
              "      <td>0</td>\n",
              "      <td>33</td>\n",
              "      <td>-1</td>\n",
              "      <td>1</td>\n",
              "      <td>20</td>\n",
              "      <td>0</td>\n",
              "      <td>0</td>\n",
              "      <td>0</td>\n",
              "      <td>0</td>\n",
              "      <td>BENIGN</td>\n",
              "    </tr>\n",
              "    <tr>\n",
              "      <th>1</th>\n",
              "      <td>55054</td>\n",
              "      <td>109</td>\n",
              "      <td>1</td>\n",
              "      <td>1</td>\n",
              "      <td>6</td>\n",
              "      <td>6</td>\n",
              "      <td>6</td>\n",
              "      <td>6</td>\n",
              "      <td>6</td>\n",
              "      <td>6</td>\n",
              "      <td>...</td>\n",
              "      <td>6</td>\n",
              "      <td>29</td>\n",
              "      <td>256</td>\n",
              "      <td>0</td>\n",
              "      <td>20</td>\n",
              "      <td>0</td>\n",
              "      <td>0</td>\n",
              "      <td>0</td>\n",
              "      <td>0</td>\n",
              "      <td>BENIGN</td>\n",
              "    </tr>\n",
              "    <tr>\n",
              "      <th>2</th>\n",
              "      <td>55055</td>\n",
              "      <td>52</td>\n",
              "      <td>1</td>\n",
              "      <td>1</td>\n",
              "      <td>6</td>\n",
              "      <td>6</td>\n",
              "      <td>6</td>\n",
              "      <td>6</td>\n",
              "      <td>6</td>\n",
              "      <td>6</td>\n",
              "      <td>...</td>\n",
              "      <td>6</td>\n",
              "      <td>29</td>\n",
              "      <td>256</td>\n",
              "      <td>0</td>\n",
              "      <td>20</td>\n",
              "      <td>0</td>\n",
              "      <td>0</td>\n",
              "      <td>0</td>\n",
              "      <td>0</td>\n",
              "      <td>BENIGN</td>\n",
              "    </tr>\n",
              "    <tr>\n",
              "      <th>3</th>\n",
              "      <td>46236</td>\n",
              "      <td>34</td>\n",
              "      <td>1</td>\n",
              "      <td>1</td>\n",
              "      <td>6</td>\n",
              "      <td>6</td>\n",
              "      <td>6</td>\n",
              "      <td>6</td>\n",
              "      <td>6</td>\n",
              "      <td>6</td>\n",
              "      <td>...</td>\n",
              "      <td>6</td>\n",
              "      <td>31</td>\n",
              "      <td>329</td>\n",
              "      <td>0</td>\n",
              "      <td>20</td>\n",
              "      <td>0</td>\n",
              "      <td>0</td>\n",
              "      <td>0</td>\n",
              "      <td>0</td>\n",
              "      <td>BENIGN</td>\n",
              "    </tr>\n",
              "    <tr>\n",
              "      <th>4</th>\n",
              "      <td>54863</td>\n",
              "      <td>3</td>\n",
              "      <td>2</td>\n",
              "      <td>0</td>\n",
              "      <td>12</td>\n",
              "      <td>0</td>\n",
              "      <td>6</td>\n",
              "      <td>6</td>\n",
              "      <td>0</td>\n",
              "      <td>0</td>\n",
              "      <td>...</td>\n",
              "      <td>0</td>\n",
              "      <td>32</td>\n",
              "      <td>-1</td>\n",
              "      <td>1</td>\n",
              "      <td>20</td>\n",
              "      <td>0</td>\n",
              "      <td>0</td>\n",
              "      <td>0</td>\n",
              "      <td>0</td>\n",
              "      <td>BENIGN</td>\n",
              "    </tr>\n",
              "  </tbody>\n",
              "</table>\n",
              "<p>5 rows × 55 columns</p>\n",
              "</div>"
            ],
            "text/plain": [
              "    Destination Port   Flow Duration   Total Fwd Packets  \\\n",
              "0              54865               3                   2   \n",
              "1              55054             109                   1   \n",
              "2              55055              52                   1   \n",
              "3              46236              34                   1   \n",
              "4              54863               3                   2   \n",
              "\n",
              "    Total Backward Packets  Total Length of Fwd Packets  \\\n",
              "0                        0                           12   \n",
              "1                        1                            6   \n",
              "2                        1                            6   \n",
              "3                        1                            6   \n",
              "4                        0                           12   \n",
              "\n",
              "    Total Length of Bwd Packets   Fwd Packet Length Max  \\\n",
              "0                             0                       6   \n",
              "1                             6                       6   \n",
              "2                             6                       6   \n",
              "3                             6                       6   \n",
              "4                             0                       6   \n",
              "\n",
              "    Fwd Packet Length Min  Bwd Packet Length Max   Bwd Packet Length Min  ...  \\\n",
              "0                       6                      0                       0  ...   \n",
              "1                       6                      6                       6  ...   \n",
              "2                       6                      6                       6  ...   \n",
              "3                       6                      6                       6  ...   \n",
              "4                       6                      0                       0  ...   \n",
              "\n",
              "    Subflow Bwd Bytes  Init_Win_bytes_forward   Init_Win_bytes_backward  \\\n",
              "0                   0                      33                        -1   \n",
              "1                   6                      29                       256   \n",
              "2                   6                      29                       256   \n",
              "3                   6                      31                       329   \n",
              "4                   0                      32                        -1   \n",
              "\n",
              "    act_data_pkt_fwd   min_seg_size_forward   Active Max   Active Min  \\\n",
              "0                  1                     20            0            0   \n",
              "1                  0                     20            0            0   \n",
              "2                  0                     20            0            0   \n",
              "3                  0                     20            0            0   \n",
              "4                  1                     20            0            0   \n",
              "\n",
              "    Idle Max   Idle Min   label  \n",
              "0          0          0  BENIGN  \n",
              "1          0          0  BENIGN  \n",
              "2          0          0  BENIGN  \n",
              "3          0          0  BENIGN  \n",
              "4          0          0  BENIGN  \n",
              "\n",
              "[5 rows x 55 columns]"
            ]
          },
          "execution_count": 7,
          "metadata": {},
          "output_type": "execute_result"
        }
      ],
      "source": [
        "# np.all(np.isfinite(bin_data)) \n",
        "bin_data.head()"
      ]
    },
    {
      "cell_type": "code",
      "execution_count": null,
      "metadata": {
        "id": "jNcOn5dGeK7n"
      },
      "outputs": [],
      "source": [
        "from sklearn import preprocessing\n",
        " \n",
        "# label_encoder object knows how to understand word labels.\n",
        "label_encoder = preprocessing.LabelEncoder()\n",
        "bin_data['label'] = label_encoder.fit_transform(bin_data['label'])"
      ]
    },
    {
      "cell_type": "code",
      "execution_count": null,
      "metadata": {
        "id": "az-WfZAjeK7p"
      },
      "outputs": [],
      "source": [
        "X = bin_data.iloc[:,:-1]\n",
        "y = bin_data.iloc[:,54:55].values"
      ]
    },
    {
      "cell_type": "code",
      "execution_count": null,
      "metadata": {
        "id": "-NonTLoAJzeZ"
      },
      "outputs": [],
      "source": [
        "y = y.flatten()"
      ]
    },
    {
      "cell_type": "code",
      "execution_count": null,
      "metadata": {
        "id": "UjksFeMOJzeZ",
        "outputId": "007cdfcb-52ea-4048-e2e2-53841012483c"
      },
      "outputs": [
        {
          "name": "stderr",
          "output_type": "stream",
          "text": [
            "g:\\pycharm projects\\machine learning\\venv\\lib\\site-packages\\seaborn\\_decorators.py:43: FutureWarning: Pass the following variable as a keyword arg: x. From version 0.12, the only valid positional argument will be `data`, and passing other arguments without an explicit keyword will result in an error or misinterpretation.\n",
            "  FutureWarning\n"
          ]
        },
        {
          "data": {
            "image/png": "[encoded data removed]",
            "text/plain": [
              "<Figure size 360x432 with 1 Axes>"
            ]
          },
          "metadata": {
            "needs_background": "light"
          },
          "output_type": "display_data"
        }
      ],
      "source": [
        "import seaborn as sns\n",
        "plt.figure(figsize=(5,6))\n",
        "sns.countplot(y)\n",
        "plt.show()"
      ]
    },
    {
      "cell_type": "code",
      "execution_count": null,
      "metadata": {
        "id": "ozJYSvvBeK7s"
      },
      "outputs": [],
      "source": [
        "# splitting the dataset 75% for training and 25% testing\n",
        "X_train, X_test, y_train, y_test = train_test_split(X,y, test_size=0.25, random_state=42)"
      ]
    },
    {
      "cell_type": "code",
      "execution_count": null,
      "metadata": {
        "id": "kJ2JUCusJzeZ"
      },
      "outputs": [],
      "source": [
        "# function for evaluation metrics precision, recall, f1 etc\n",
        "def modelEvaluation(predictions, y_test_set, model_name):\n",
        "    import seaborn as sns\n",
        "    from sklearn.metrics import classification_report, confusion_matrix,accuracy_score\n",
        "    from sklearn.metrics import plot_confusion_matrix, precision_score, recall_score, f1_score\n",
        "    # Print model evaluation to predicted result    \n",
        "    print(\"==========\",model_name,\"==========\")\n",
        "    print (\"\\nAccuracy on validation set: {:.4f}\".format(accuracy_score(y_test_set, predictions)))    \n",
        "    print (\"\\nClassification report : \\n\", classification_report(y_test_set, predictions))\n",
        "#     print (\"\\nConfusion Matrix : \\n\", confusion_matrix(y_test_set, predictions))\n",
        "    plt.rcParams.update({'font.size': 10})\n",
        "    sns.heatmap(confusion_matrix(y_test_set, predictions),annot=True, fmt='g',cmap='viridis')\n",
        "    plt.tight_layout()\n",
        "    plt.show()\n",
        "    results = [accuracy_score(y_test_set, predictions), precision_score(y_test_set, predictions, average='macro'),\n",
        "              recall_score(y_test_set, predictions, average='macro'),f1_score(y_test_set, predictions, average='macro')]\n",
        "    return results"
      ]
    },
    {
      "cell_type": "code",
      "execution_count": null,
      "metadata": {
        "id": "QQxPwRIGJzea"
      },
      "outputs": [],
      "source": [
        ""
      ]
    },
    {
      "cell_type": "markdown",
      "metadata": {
        "id": "aPqGsSeiJzea"
      },
      "source": [
        "### Generate Feature from CNN"
      ]
    },
    {
      "cell_type": "code",
      "execution_count": null,
      "metadata": {
        "id": "GOZ3D424Jzea"
      },
      "outputs": [],
      "source": [
        "import tensorflow as tf\n",
        "from tensorflow.keras.models import Sequential \n",
        "from tensorflow.keras.layers import Dense,Activation,Dropout \n",
        "from tensorflow.keras.layers import BatchNormalization \n",
        "from tensorflow.keras.utils import to_categorical"
      ]
    },
    {
      "cell_type": "code",
      "execution_count": null,
      "metadata": {
        "id": "myDv_HkmJzeb"
      },
      "outputs": [],
      "source": [
        "# deep learning model initialization\n",
        "model = tf.keras.models.Sequential()  \n",
        "model.add(Dense(1000,input_dim=X_train.shape[1],activation='relu'))\n",
        "model.add(Dense(500,activation='relu'))\n",
        "model.add(Dense(300,activation='relu'))\n",
        "model.add(Dense(150,activation='relu'))\n",
        "model.add(Dense(75,activation='relu'))\n",
        "model.add(Dense(30,activation='relu'))\n",
        "model.add(Dense(15,activation='relu'))\n",
        "model.add(Dropout(0.5))\n",
        "\n",
        "RF_X_train = model.predict(X_train)\n",
        "RF_X_test = model.predict(X_test)"
      ]
    },
    {
      "cell_type": "markdown",
      "metadata": {
        "id": "zJryU1c6eK7r"
      },
      "source": [
        "## Split training and testing data"
      ]
    },
    {
      "cell_type": "markdown",
      "metadata": {
        "id": "aLLK_7t_r1Ey"
      },
      "source": [
        "## 1) Decision Tree"
      ]
    },
    {
      "cell_type": "code",
      "execution_count": null,
      "metadata": {
        "colab": {
          "base_uri": "https://localhost:8080/"
        },
        "id": "D93Wk-tTeK7t",
        "outputId": "0fbd1db0-5b80-459f-d5a7-67e06f332e72"
      },
      "outputs": [
        {
          "data": {
            "text/plain": [
              "DecisionTreeClassifier()"
            ]
          },
          "execution_count": 16,
          "metadata": {},
          "output_type": "execute_result"
        }
      ],
      "source": [
        "from sklearn.tree import DecisionTreeClassifier\n",
        "qsvm=DecisionTreeClassifier()\n",
        "qsvm.fit(RF_X_train,y_train) # training model on training dataset"
      ]
    },
    {
      "cell_type": "markdown",
      "metadata": {
        "id": "MtFBOvoBeK7t"
      },
      "source": [
        " **Evaluation of DT**"
      ]
    },
    {
      "cell_type": "code",
      "execution_count": null,
      "metadata": {
        "colab": {
          "base_uri": "https://localhost:8080/"
        },
        "id": "c2vXnLe5eK7u",
        "outputId": "9f9ddaab-60e2-40b1-d2f0-2136f124c2dc"
      },
      "outputs": [
        {
          "name": "stdout",
          "output_type": "stream",
          "text": [
            "QSVM-Classifier Bin-class Set-Accuracy is  99.7164980420646\n"
          ]
        }
      ],
      "source": [
        "y_pred=qsvm.predict(RF_X_test)  # predicting target attribute on testing dataset\n",
        "ac=accuracy_score(y_test, y_pred)*100  # calculating accuracy of predicted data\n",
        "print(\"QSVM-Classifier Bin-class Set-Accuracy is \", ac)"
      ]
    },
    {
      "cell_type": "code",
      "execution_count": null,
      "metadata": {
        "colab": {
          "base_uri": "https://localhost:8080/"
        },
        "id": "VydUL7pueK7u",
        "outputId": "e7c4a1dc-01d2-477e-9f87-ce49486bcd5b"
      },
      "outputs": [
        {
          "name": "stdout",
          "output_type": "stream",
          "text": [
            "========== Decison Tree ==========\n",
            "\n",
            "Accuracy on validation set: 0.9979\n",
            "\n",
            "Classification report : \n",
            "               precision    recall  f1-score   support\n",
            "\n",
            "           0       1.00      1.00      1.00     24300\n",
            "           1       1.00      1.00      1.00     32137\n",
            "\n",
            "    accuracy                           1.00     56437\n",
            "   macro avg       1.00      1.00      1.00     56437\n",
            "weighted avg       1.00      1.00      1.00     56437\n",
            "\n"
          ]
        },
        {
          "data": {
            "image/png": "[encoded data removed]",
            "text/plain": [
              "<Figure size 432x288 with 2 Axes>"
            ]
          },
          "metadata": {
            "needs_background": "light"
          },
          "output_type": "display_data"
        },
        {
          "data": {
            "text/plain": [
              "[0.9979268919325974,\n",
              " 0.9979085730266367,\n",
              " 0.9978635506091398,\n",
              " 0.9978860349230715]"
            ]
          },
          "execution_count": 56,
          "metadata": {},
          "output_type": "execute_result"
        }
      ],
      "source": [
        "# classification report\n",
        "modelEvaluation(y_test, y_pred, 'Decison Tree')"
      ]
    },
    {
      "cell_type": "markdown",
      "metadata": {
        "id": "lWojU2cUeK7v"
      },
      "source": [
        "## 2) KNeighborsClassifier"
      ]
    },
    {
      "cell_type": "code",
      "execution_count": null,
      "metadata": {
        "colab": {
          "base_uri": "https://localhost:8080/"
        },
        "id": "WB4DR1PgeK7v",
        "outputId": "35d7be70-370f-42eb-e16b-9f784d420311"
      },
      "outputs": [
        {
          "data": {
            "text/plain": [
              "KNeighborsClassifier(n_neighbors=2)"
            ]
          },
          "execution_count": 19,
          "metadata": {},
          "output_type": "execute_result"
        }
      ],
      "source": [
        "from sklearn.neighbors import KNeighborsClassifier\n",
        "knn=KNeighborsClassifier(n_neighbors=2)\n",
        "knn.fit(RF_X_train,y_train) # training model on training dataset"
      ]
    },
    {
      "cell_type": "markdown",
      "metadata": {
        "id": "JY3ok721eK7w"
      },
      "source": [
        "### Evaluation of KNN"
      ]
    },
    {
      "cell_type": "code",
      "execution_count": null,
      "metadata": {
        "colab": {
          "base_uri": "https://localhost:8080/"
        },
        "id": "jTEikGxJeK7w",
        "outputId": "c731a418-2288-4339-c200-3535a963d470"
      },
      "outputs": [
        {
          "name": "stdout",
          "output_type": "stream",
          "text": [
            "KNN-Classifier Bin-class Set-Accuracy is  99.79268919325975\n"
          ]
        }
      ],
      "source": [
        "y_pred=knn.predict(RF_X_test)  # predicting target attribute on testing dataset\n",
        "ac=accuracy_score(y_test, y_pred)*100  # calculating accuracy of predicted data\n",
        "print(\"KNN-Classifier Bin-class Set-Accuracy is \", ac)"
      ]
    },
    {
      "cell_type": "code",
      "execution_count": null,
      "metadata": {
        "colab": {
          "base_uri": "https://localhost:8080/"
        },
        "id": "DxCb5IuNeK7x",
        "outputId": "b6a0d849-0314-4c75-c511-590919fb5e24"
      },
      "outputs": [
        {
          "name": "stdout",
          "output_type": "stream",
          "text": [
            "========== KNN Classifier ==========\n",
            "\n",
            "Accuracy on validation set: 0.9979\n",
            "\n",
            "Classification report : \n",
            "               precision    recall  f1-score   support\n",
            "\n",
            "           0       1.00      1.00      1.00     24300\n",
            "           1       1.00      1.00      1.00     32137\n",
            "\n",
            "    accuracy                           1.00     56437\n",
            "   macro avg       1.00      1.00      1.00     56437\n",
            "weighted avg       1.00      1.00      1.00     56437\n",
            "\n"
          ]
        },
        {
          "data": {
            "image/png": "[encoded data removed]",
            "text/plain": [
              "<Figure size 432x288 with 2 Axes>"
            ]
          },
          "metadata": {
            "needs_background": "light"
          },
          "output_type": "display_data"
        },
        {
          "data": {
            "text/plain": [
              "[0.9979268919325974,\n",
              " 0.9979085730266367,\n",
              " 0.9978635506091398,\n",
              " 0.9978860349230715]"
            ]
          },
          "execution_count": 57,
          "metadata": {},
          "output_type": "execute_result"
        }
      ],
      "source": [
        "modelEvaluation(y_test, y_pred, 'KNN Classifier')"
      ]
    },
    {
      "cell_type": "markdown",
      "metadata": {
        "id": "yXG-kUAVeK7x"
      },
      "source": [
        "## 3) Multi-Layer Perceptron"
      ]
    },
    {
      "cell_type": "code",
      "execution_count": null,
      "metadata": {
        "id": "V8GYhghceK7x"
      },
      "outputs": [],
      "source": [
        "# from sklearn.preprocessing import StandardScaler\n",
        "# scale = StandardScaler()\n",
        "# scaled_X_train = scale.fit_transform(X_train)\n",
        "# scaled_y_train = scale.fit_transform(y_train)"
      ]
    },
    {
      "cell_type": "code",
      "execution_count": null,
      "metadata": {
        "id": "N8Q0YagieK7y"
      },
      "outputs": [],
      "source": [
        "from keras.models import Sequential\n",
        "from keras.layers import Activation, Dense\n",
        "mlp = Sequential() # initializing model\n",
        "# input layer and first layer with 50 neurons\n",
        "mlp.add(Dense(units=128, input_dim=RF_X_train.shape[1], activation='relu'))\n",
        "mlp.add(Dense(units=64, activation='relu'))\n",
        "mlp.add(Dense(units=32, activation='relu'))\n",
        "mlp.add(Dense(units=16, activation='relu'))\n",
        "# mlp.add(Dense(units=50, input_dim=X_train.shape[1], activation='relu'))\n",
        "# output layer with softmax activation\n",
        "mlp.add(Dense(units=1,activation='sigmoid'))"
      ]
    },
    {
      "cell_type": "code",
      "execution_count": null,
      "metadata": {
        "id": "NOe-BSm0eK7z"
      },
      "outputs": [],
      "source": [
        "# defining loss function, optimizer, metrics and then compiling model\n",
        "mlp.compile(loss='binary_crossentropy', optimizer='RMSprop', metrics=['accuracy'])"
      ]
    },
    {
      "cell_type": "code",
      "execution_count": null,
      "metadata": {
        "id": "2bzIZam3eK70"
      },
      "outputs": [],
      "source": [
        "# mlp.summary()"
      ]
    },
    {
      "cell_type": "code",
      "execution_count": null,
      "metadata": {
        "colab": {
          "base_uri": "https://localhost:8080/"
        },
        "id": "OQDx2PkleK70",
        "outputId": "ca9d8353-d380-42ab-f1f0-b3312fb07a1e"
      },
      "outputs": [
        {
          "name": "stdout",
          "output_type": "stream",
          "text": [
            "Epoch 1/25\n",
            "2117/2117 [==============================] - 5s 2ms/step - loss: 81.6611 - accuracy: 0.7985 - val_loss: 0.4800 - val_accuracy: 0.77724.3118 - accura\n",
            "Epoch 2/25\n",
            "2117/2117 [==============================] - 4s 2ms/step - loss: 2.1000 - accuracy: 0.8331 - val_loss: 0.4268 - val_accuracy: 0.8596oss: - ETA: 2s - los\n",
            "Epoch 3/25\n",
            "2117/2117 [==============================] - 3s 2ms/step - loss: 2.6313 - accuracy: 0.8814 - val_loss: 0.2769 - val_accuracy: 0.9180s: 3.3633 - accura - ETA: 1s - loss: 3 - ETA - ETA: 0s - loss: 2.6602 - accuracy: 0.88\n",
            "Epoch 4/25\n",
            "2117/2117 [==============================] - 3s 2ms/step - loss: 1.4702 - accuracy: 0.9173 - val_loss: 0.4845 - val_accuracy: 0.9205.2991 - accuracy: \n",
            "Epoch 5/25\n",
            "2117/2117 [==============================] - 4s 2ms/step - loss: 1.0681 - accuracy: 0.9061 - val_loss: 0.8048 - val_accuracy: 0.92056 - accuracy:  - ETA: 0s\n",
            "Epoch 6/25\n",
            "2117/2117 [==============================] - 4s 2ms/step - loss: 0.7336 - accuracy: 0.8957 - val_loss: 1.2185 - val_accuracy: 0.9091\n",
            "Epoch 7/25\n",
            "2117/2117 [==============================] - 4s 2ms/step - loss: 0.8409 - accuracy: 0.8998 - val_loss: 0.7928 - val_accuracy: 0.8655\n",
            "Epoch 8/25\n",
            "2117/2117 [==============================] - 4s 2ms/step - loss: 0.9185 - accuracy: 0.8949 - val_loss: 1.4176 - val_accuracy: 0.8983\n",
            "Epoch 9/25\n",
            "2117/2117 [==============================] - 5s 2ms/step - loss: 1.6194 - accuracy: 0.8871 - val_loss: 1.4882 - val_accuracy: 0.9317\n",
            "Epoch 10/25\n",
            "2117/2117 [==============================] - 4s 2ms/step - loss: 1.0743 - accuracy: 0.8807 - val_loss: 1.1485 - val_accuracy: 0.91463 - accura\n",
            "Epoch 11/25\n",
            "2117/2117 [==============================] - 4s 2ms/step - loss: 1.5668 - accuracy: 0.8668 - val_loss: 0.9172 - val_accuracy: 0.8834\n",
            "Epoch 12/25\n",
            "2117/2117 [==============================] - 4s 2ms/step - loss: 1.7875 - accuracy: 0.8847 - val_loss: 0.6740 - val_accuracy: 0.8750\n",
            "Epoch 13/25\n",
            "2117/2117 [==============================] - 4s 2ms/step - loss: 1.2385 - accuracy: 0.8974 - val_loss: 0.5909 - val_accuracy: 0.9438\n",
            "Epoch 14/25\n",
            "2117/2117 [==============================] - 4s 2ms/step - loss: 1.6516 - accuracy: 0.8843 - val_loss: 0.9034 - val_accuracy: 0.8853\n",
            "Epoch 15/25\n",
            "2117/2117 [==============================] - 4s 2ms/step - loss: 1.6547 - accuracy: 0.8905 - val_loss: 0.6221 - val_accuracy: 0.9321\n",
            "Epoch 16/25\n",
            "2117/2117 [==============================] - 4s 2ms/step - loss: 2.2242 - accuracy: 0.8910 - val_loss: 0.5473 - val_accuracy: 0.9117\n",
            "Epoch 17/25\n",
            "2117/2117 [==============================] - 4s 2ms/step - loss: 3.9816 - accuracy: 0.8828 - val_loss: 1.4296 - val_accuracy: 0.8167os\n",
            "Epoch 18/25\n",
            "2117/2117 [==============================] - 4s 2ms/step - loss: 3.1512 - accuracy: 0.8828 - val_loss: 0.4818 - val_accuracy: 0.8034\n",
            "Epoch 19/25\n",
            "2117/2117 [==============================] - 5s 3ms/step - loss: 2.8072 - accuracy: 0.8910 - val_loss: 0.3261 - val_accuracy: 0.8839\n",
            "Epoch 20/25\n",
            "2117/2117 [==============================] - 4s 2ms/step - loss: 2.8523 - accuracy: 0.8416 - val_loss: 0.3266 - val_accuracy: 0.9047\n",
            "Epoch 21/25\n",
            "2117/2117 [==============================] - 4s 2ms/step - loss: 3.3131 - accuracy: 0.8552 - val_loss: 0.2479 - val_accuracy: 0.9370\n",
            "Epoch 22/25\n",
            "2117/2117 [==============================] - 5s 2ms/step - loss: 17.8409 - accuracy: 0.8704 - val_loss: 0.4330 - val_accuracy: 0.8247A: 1s - loss:\n",
            "Epoch 23/25\n",
            "2117/2117 [==============================] - 4s 2ms/step - loss: 1.3130 - accuracy: 0.8685 - val_loss: 0.4159 - val_accuracy: 0.8297\n",
            "Epoch 24/25\n",
            "2117/2117 [==============================] - 4s 2ms/step - loss: 19.0061 - accuracy: 0.8744 - val_loss: 0.4883 - val_accuracy: 0.7881\n",
            "Epoch 25/25\n",
            "2117/2117 [==============================] - 4s 2ms/step - loss: 11.4744 - accuracy: 0.8720 - val_loss: 1.3467 - val_accuracy: 0.8664\n"
          ]
        }
      ],
      "source": [
        "# training the model on training dataset\n",
        "history = mlp.fit(RF_X_train, y_train, epochs=25, batch_size=64,validation_split=0.2)"
      ]
    },
    {
      "cell_type": "markdown",
      "metadata": {
        "id": "0jDoK--PJzeg"
      },
      "source": [
        "### Evaluation on MLP"
      ]
    },
    {
      "cell_type": "code",
      "execution_count": null,
      "metadata": {
        "id": "alCQaR6pJzeg"
      },
      "outputs": [],
      "source": [
        "y_pred1 = mlp.predict(RF_X_test)\n",
        "result = []\n",
        "for i in y_pred1:\n",
        "    if i > 0.5:\n",
        "        result.append(1)\n",
        "    else:\n",
        "        result.append(0)"
      ]
    },
    {
      "cell_type": "code",
      "execution_count": null,
      "metadata": {
        "id": "6sSdUbJ_Jzeg",
        "outputId": "a3ef10be-3dcd-4e75-9568-05ee2efc0953"
      },
      "outputs": [
        {
          "name": "stdout",
          "output_type": "stream",
          "text": [
            "========== Multi-Layer Perceptron ==========\n",
            "\n",
            "Accuracy on validation set: 0.8664\n",
            "\n",
            "Classification report : \n",
            "               precision    recall  f1-score   support\n",
            "\n",
            "           0       0.69      1.00      0.82     16854\n",
            "           1       1.00      0.81      0.89     39583\n",
            "\n",
            "    accuracy                           0.87     56437\n",
            "   macro avg       0.85      0.90      0.86     56437\n",
            "weighted avg       0.91      0.87      0.87     56437\n",
            "\n"
          ]
        },
        {
          "data": {
            "image/png": "[encoded data removed]",
            "text/plain": [
              "<Figure size 432x288 with 2 Axes>"
            ]
          },
          "metadata": {
            "needs_background": "light"
          },
          "output_type": "display_data"
        },
        {
          "data": {
            "text/plain": [
              "[0.8663819834505732,\n",
              " 0.8450394467506626,\n",
              " 0.9038586481465745,\n",
              " 0.8557947678674263]"
            ]
          },
          "execution_count": 28,
          "metadata": {},
          "output_type": "execute_result"
        }
      ],
      "source": [
        "# y_pred=mlp.predict(New_X_test)\n",
        "modelEvaluation(y_test, result, 'Multi-Layer Perceptron')"
      ]
    },
    {
      "cell_type": "code",
      "execution_count": null,
      "metadata": {
        "colab": {
          "base_uri": "https://localhost:8080/",
          "height": 295
        },
        "id": "P3RDQu7OeK71",
        "outputId": "a3335eed-7016-4eb4-c21b-bf605c0f9c23"
      },
      "outputs": [
        {
          "data": {
            "image/png": "[encoded data removed]",
            "text/plain": [
              "<Figure size 432x288 with 1 Axes>"
            ]
          },
          "metadata": {
            "needs_background": "light"
          },
          "output_type": "display_data"
        }
      ],
      "source": [
        "# Plot of accuracy vs epoch for train and test dataset\n",
        "plt.rcParams.update({'font.size': 10})\n",
        "plt.plot(history.history['accuracy'])\n",
        "plt.plot(history.history['val_accuracy'])\n",
        "plt.title(\"Plot of accuracy vs epoch for train and test dataset\")\n",
        "plt.ylabel('accuracy')\n",
        "plt.xlabel('epoch')\n",
        "plt.legend(['train', 'test'], loc='best')\n",
        "# plt.savefig('plots/mlp_multi_accuracy.png')\n",
        "plt.show()"
      ]
    },
    {
      "cell_type": "code",
      "execution_count": null,
      "metadata": {
        "id": "zwH7KDDaJzeh",
        "outputId": "345da016-9cf4-42ac-f50b-9d1ca4834e35"
      },
      "outputs": [
        {
          "data": {
            "image/png": "[encoded data removed]",
            "text/plain": [
              "<Figure size 432x288 with 1 Axes>"
            ]
          },
          "metadata": {
            "needs_background": "light"
          },
          "output_type": "display_data"
        }
      ],
      "source": [
        "# Plot of accuracy vs epoch for train and test dataset\n",
        "plt.plot(history.history['loss'])\n",
        "plt.plot(history.history['val_loss'])\n",
        "plt.title(\"Plot of loss vs epoch for train and test dataset\")\n",
        "plt.ylabel('loss')\n",
        "plt.xlabel('epoch')\n",
        "plt.legend(['train', 'test'], loc='best')\n",
        "# plt.savefig('plots/mlp_multi_accuracy.png')\n",
        "plt.show()"
      ]
    },
    {
      "cell_type": "markdown",
      "metadata": {
        "id": "vscwgMzneK71"
      },
      "source": [
        "## 4) Neural Network"
      ]
    },
    {
      "cell_type": "code",
      "execution_count": null,
      "metadata": {
        "id": "F7EU58UYeK71"
      },
      "outputs": [],
      "source": [
        "from keras.models import Sequential\n",
        "from keras.layers import Dense\n",
        "model = Sequential()\n",
        "model.add(Dense(12, input_dim=RF_X_train.shape[1], activation='relu'))\n",
        "model.add(Dense(8, activation='relu'))\n",
        "model.add(Dense(1, activation='sigmoid'))"
      ]
    },
    {
      "cell_type": "code",
      "execution_count": null,
      "metadata": {
        "id": "6wovNtpzeK72"
      },
      "outputs": [],
      "source": [
        "# compile the keras mode\n",
        "model.compile(loss='binary_crossentropy', optimizer='adam', metrics=['accuracy'])"
      ]
    },
    {
      "cell_type": "code",
      "execution_count": null,
      "metadata": {
        "colab": {
          "base_uri": "https://localhost:8080/"
        },
        "id": "aCZ9MKs3eK72",
        "outputId": "82ea655d-53f7-4aec-8f6f-7f647945aadd"
      },
      "outputs": [
        {
          "name": "stdout",
          "output_type": "stream",
          "text": [
            "Model: \"sequential_2\"\n",
            "_________________________________________________________________\n",
            " Layer (type)                Output Shape              Param #   \n",
            "=================================================================\n",
            " dense_12 (Dense)            (None, 12)                192       \n",
            "                                                                 \n",
            " dense_13 (Dense)            (None, 8)                 104       \n",
            "                                                                 \n",
            " dense_14 (Dense)            (None, 1)                 9         \n",
            "                                                                 \n",
            "=================================================================\n",
            "Total params: 305\n",
            "Trainable params: 305\n",
            "Non-trainable params: 0\n",
            "_________________________________________________________________\n"
          ]
        }
      ],
      "source": [
        "model.summary()"
      ]
    },
    {
      "cell_type": "code",
      "execution_count": null,
      "metadata": {
        "colab": {
          "base_uri": "https://localhost:8080/"
        },
        "id": "1VsefmejeK72",
        "outputId": "796812c7-9afe-482f-f322-19d86d45e2ee"
      },
      "outputs": [
        {
          "name": "stdout",
          "output_type": "stream",
          "text": [
            "Epoch 1/25\n",
            "2117/2117 [==============================] - 3s 1ms/step - loss: 465.8332 - accuracy: 0.7124 - val_loss: 21.3102 - val_accuracy: 0.7551 - accuracy: 0.\n",
            "Epoch 2/25\n",
            "2117/2117 [==============================] - 3s 1ms/step - loss: 18.1550 - accuracy: 0.8054 - val_loss: 39.3878 - val_accuracy: 0.8003\n",
            "Epoch 3/25\n",
            "2117/2117 [==============================] - 3s 1ms/step - loss: 13.0560 - accuracy: 0.8385 - val_loss: 15.2605 - val_accuracy: 0.7492- los - ETA: 0s - loss: 12.2248 - accu\n",
            "Epoch 4/25\n",
            "2117/2117 [==============================] - 3s 1ms/step - loss: 9.2948 - accuracy: 0.8623 - val_loss: 21.6344 - val_accuracy: 0.8499TA: 0s - loss: 9.0583 -  - ETA: 0s - loss: 9.4863 - accuracy: 0.\n",
            "Epoch 5/25\n",
            "2117/2117 [==============================] - 4s 2ms/step - loss: 6.4751 - accuracy: 0.8916 - val_loss: 2.7781 - val_accuracy: 0.8463\n",
            "Epoch 6/25\n",
            "2117/2117 [==============================] - 3s 2ms/step - loss: 3.7979 - accuracy: 0.9042 - val_loss: 1.7581 - val_accuracy: 0.9336\n",
            "Epoch 7/25\n",
            "2117/2117 [==============================] - 3s 1ms/step - loss: 3.6955 - accuracy: 0.9018 - val_loss: 4.0417 - val_accuracy: 0.90220s - loss: 3.8205 - accura\n",
            "Epoch 8/25\n",
            "2117/2117 [==============================] - 3s 2ms/step - loss: 1.0546 - accuracy: 0.9162 - val_loss: 0.4077 - val_accuracy: 0.9081\n",
            "Epoch 9/25\n",
            "2117/2117 [==============================] - 3s 2ms/step - loss: 0.3380 - accuracy: 0.9173 - val_loss: 0.2168 - val_accuracy: 0.9271\n",
            "Epoch 10/25\n",
            "2117/2117 [==============================] - 3s 1ms/step - loss: 0.3219 - accuracy: 0.9174 - val_loss: 0.5006 - val_accuracy: 0.8659\n",
            "Epoch 11/25\n",
            "2117/2117 [==============================] - 3s 1ms/step - loss: 0.4340 - accuracy: 0.9007 - val_loss: 0.2603 - val_accuracy: 0.9222\n",
            "Epoch 12/25\n",
            "2117/2117 [==============================] - 4s 2ms/step - loss: 0.2644 - accuracy: 0.9185 - val_loss: 0.2386 - val_accuracy: 0.9211\n",
            "Epoch 13/25\n",
            "2117/2117 [==============================] - 3s 2ms/step - loss: 0.2408 - accuracy: 0.9193 - val_loss: 0.2318 - val_accuracy: 0.9233\n",
            "Epoch 14/25\n",
            "2117/2117 [==============================] - 3s 2ms/step - loss: 0.2414 - accuracy: 0.9223 - val_loss: 0.2357 - val_accuracy: 0.9162\n",
            "Epoch 15/25\n",
            "2117/2117 [==============================] - 3s 1ms/step - loss: 0.2178 - accuracy: 0.9248 - val_loss: 0.2036 - val_accuracy: 0.9301\n",
            "Epoch 16/25\n",
            "2117/2117 [==============================] - 3s 2ms/step - loss: 0.2226 - accuracy: 0.9259 - val_loss: 0.2346 - val_accuracy: 0.9215- accuracy: \n",
            "Epoch 17/25\n",
            "2117/2117 [==============================] - 4s 2ms/step - loss: 0.2276 - accuracy: 0.9259 - val_loss: 0.2227 - val_accuracy: 0.9259\n",
            "Epoch 18/25\n",
            "2117/2117 [==============================] - 8s 4ms/step - loss: 0.2330 - accuracy: 0.9250 - val_loss: 0.2156 - val_accuracy: 0.9281\n",
            "Epoch 19/25\n",
            "2117/2117 [==============================] - 5s 2ms/step - loss: 0.2111 - accuracy: 0.9271 - val_loss: 0.2086 - val_accuracy: 0.9308\n",
            "Epoch 20/25\n",
            "2117/2117 [==============================] - 3s 1ms/step - loss: 0.2563 - accuracy: 0.9069 - val_loss: 0.2777 - val_accuracy: 0.8857\n",
            "Epoch 21/25\n",
            "2117/2117 [==============================] - 3s 1ms/step - loss: 0.3100 - accuracy: 0.8937 - val_loss: 0.2124 - val_accuracy: 0.9281\n",
            "Epoch 22/25\n",
            "2117/2117 [==============================] - 3s 1ms/step - loss: 0.2106 - accuracy: 0.9291 - val_loss: 0.2051 - val_accuracy: 0.9292 - ETA: 0s - loss: 0.2112 - accuracy\n",
            "Epoch 23/25\n",
            "2117/2117 [==============================] - 4s 2ms/step - loss: 0.2413 - accuracy: 0.9065 - val_loss: 0.3450 - val_accuracy: 0.8305\n",
            "Epoch 24/25\n",
            "2117/2117 [==============================] - 4s 2ms/step - loss: 0.3530 - accuracy: 0.8265 - val_loss: 0.3459 - val_accuracy: 0.8281\n",
            "Epoch 25/25\n",
            "2117/2117 [==============================] - 3s 1ms/step - loss: 0.3486 - accuracy: 0.8275 - val_loss: 0.3384 - val_accuracy: 0.8304cy:  - ETA: 1s - loss: 0.3471 - accuracy: 0.82 - ETA: 1s - loss: 0.3467 - accu - ETA: 0s - loss: 0.3486 - accuracy - ETA: 0s - loss: 0.3491 - accuracy:  - ETA: 0s - loss: 0.3488 - \n"
          ]
        }
      ],
      "source": [
        "\n",
        "# fit the keras model on the dataset\n",
        "history2 = model.fit(RF_X_train, y_train, epochs=25, batch_size=64,validation_split=0.2)\n"
      ]
    },
    {
      "cell_type": "markdown",
      "metadata": {
        "id": "pzhZMsTSeK74"
      },
      "source": [
        "### Evaluation on Neural Network"
      ]
    },
    {
      "cell_type": "code",
      "execution_count": null,
      "metadata": {
        "id": "47hnsP53Jzej"
      },
      "outputs": [],
      "source": [
        "y_pred2 = model.predict(RF_X_test)\n",
        "result2 = []\n",
        "for i in y_pred2:\n",
        "    if i > 0.5:\n",
        "        result2.append(1)\n",
        "    else:\n",
        "        result2.append(0)"
      ]
    },
    {
      "cell_type": "code",
      "execution_count": null,
      "metadata": {
        "id": "vh2OSkDYJzej"
      },
      "outputs": [],
      "source": [
        ""
      ]
    },
    {
      "cell_type": "code",
      "execution_count": null,
      "metadata": {
        "colab": {
          "base_uri": "https://localhost:8080/",
          "height": 295
        },
        "id": "25Jba1zseK73",
        "outputId": "59d4668e-2743-4305-a73d-4062d7e44fea"
      },
      "outputs": [
        {
          "data": {
            "image/png": "[encoded data removed]",
            "text/plain": [
              "<Figure size 432x288 with 1 Axes>"
            ]
          },
          "metadata": {
            "needs_background": "light"
          },
          "output_type": "display_data"
        }
      ],
      "source": [
        "# Plot of accuracy vs epoch for train and test dataset\n",
        "plt.rcParams.update({'font.size': 10})\n",
        "plt.plot(history2.history['accuracy'])\n",
        "plt.plot(history2.history['val_accuracy'])\n",
        "plt.title(\"Plot of accuracy vs epoch for train and test dataset\")\n",
        "plt.ylabel('accuracy')\n",
        "plt.xlabel('epoch')\n",
        "plt.legend(['train', 'test'], loc='best')\n",
        "# plt.savefig('plots/mlp_multi_accuracy.png')\n",
        "plt.show()"
      ]
    },
    {
      "cell_type": "code",
      "execution_count": null,
      "metadata": {
        "id": "OgXfRmQ8Jzej",
        "outputId": "e1157949-c9ed-47d8-e5d1-0ec3c7081795"
      },
      "outputs": [
        {
          "data": {
            "image/png": "[encoded data removed]",
            "text/plain": [
              "<Figure size 432x288 with 1 Axes>"
            ]
          },
          "metadata": {
            "needs_background": "light"
          },
          "output_type": "display_data"
        }
      ],
      "source": [
        "# Plot of accuracy vs epoch for train and test dataset\n",
        "plt.plot(history2.history['loss'])\n",
        "plt.plot(history2.history['val_loss'])\n",
        "plt.title(\"Plot of loss vs epoch for train and test dataset\")\n",
        "plt.ylabel('loss')\n",
        "plt.xlabel('epoch')\n",
        "plt.legend(['train', 'test'], loc='best')\n",
        "# plt.savefig('plots/mlp_multi_accuracy.png')\n",
        "plt.show()"
      ]
    },
    {
      "cell_type": "code",
      "execution_count": null,
      "metadata": {
        "id": "zbLF2Gn7Jzek",
        "outputId": "5a070e48-bafe-46ba-8c84-c1f03a28f80d"
      },
      "outputs": [
        {
          "name": "stdout",
          "output_type": "stream",
          "text": [
            "========== Neural Network ==========\n",
            "\n",
            "Accuracy on validation set: 0.8318\n",
            "\n",
            "Classification report : \n",
            "               precision    recall  f1-score   support\n",
            "\n",
            "           0       0.62      0.99      0.76     15127\n",
            "           1       0.99      0.77      0.87     41310\n",
            "\n",
            "    accuracy                           0.83     56437\n",
            "   macro avg       0.81      0.88      0.81     56437\n",
            "weighted avg       0.89      0.83      0.84     56437\n",
            "\n"
          ]
        },
        {
          "data": {
            "image/png": "[encoded data removed]",
            "text/plain": [
              "<Figure size 432x288 with 2 Axes>"
            ]
          },
          "metadata": {
            "needs_background": "light"
          },
          "output_type": "display_data"
        },
        {
          "data": {
            "text/plain": [
              "[0.8317770257100838, 0.8054077310751029, 0.881631627176839, 0.8149490636849364]"
            ]
          },
          "execution_count": 38,
          "metadata": {},
          "output_type": "execute_result"
        }
      ],
      "source": [
        "# y_pred=mlp.predict(New_X_test)\n",
        "modelEvaluation(y_test, result2, 'Neural Network')"
      ]
    },
    {
      "cell_type": "code",
      "execution_count": null,
      "metadata": {
        "id": "bKvWTGd2Jzek"
      },
      "outputs": [],
      "source": [
        ""
      ]
    }
  ],
  "metadata": {
    "colab": {
      "collapsed_sections": [],
      "name": "CICD_2017 Binary Classifier.ipynb",
      "provenance": [],
      "include_colab_link": true
    },
    "kernelspec": {
      "display_name": "Python 3 (ipykernel)",
      "language": "python",
      "name": "python3"
    },
    "language_info": {
      "codemirror_mode": {
        "name": "ipython",
        "version": 3
      },
      "file_extension": ".py",
      "mimetype": "text/x-python",
      "name": "python",
      "nbconvert_exporter": "python",
      "pygments_lexer": "ipython3",
      "version": "3.7.0"
    }
  },
  "nbformat": 4,
  "nbformat_minor": 0
}