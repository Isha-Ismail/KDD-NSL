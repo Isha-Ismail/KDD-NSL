{
  "cells": [
    {
      "cell_type": "markdown",
      "metadata": {
        "id": "view-in-github",
        "colab_type": "text"
      },
      "source": [
        "<a href=\"https://colab.research.google.com/github/Isha-Ismail/Network-Intrusion-Implementation/blob/main/Deep%20Learning/UNSW%20NB15/Binary_UNSW_NB15_(New_Approach).ipynb\" target=\"_parent\"><img src=\"https://colab.research.google.com/assets/colab-badge.svg\" alt=\"Open In Colab\"/></a>"
      ]
    },
    {
      "cell_type": "code",
      "execution_count": null,
      "metadata": {
        "id": "7MblIbMu31gO"
      },
      "outputs": [],
      "source": [
        "from sklearn.metrics import accuracy_score # for calculating accuracy of model\n",
        "from sklearn.model_selection import train_test_split # for splitting the dataset for training and testing\n",
        "from sklearn.metrics import classification_report # for generating a classification report of model\n",
        "import pickle # saving and loading trained model\n",
        "from os import path\n",
        "import numpy as np\n",
        "import pandas as pd\n",
        "import matplotlib.pyplot as plt"
      ]
    },
    {
      "cell_type": "code",
      "execution_count": null,
      "metadata": {
        "id": "kIbI8I5d83Ru",
        "outputId": "71f39bc8-d76a-41b5-d509-de2494268bf2"
      },
      "outputs": [
        {
          "name": "stdout",
          "output_type": "stream",
          "text": [
            "Requirement already satisfied: wget in g:\\pycharm projects\\machine learning\\venv\\lib\\site-packages (3.2)\n"
          ]
        },
        {
          "name": "stderr",
          "output_type": "stream",
          "text": [
            "WARNING: You are using pip version 22.0.3; however, version 22.1 is available.\n",
            "You should consider upgrading via the 'g:\\pycharm projects\\machine learning\\venv\\scripts\\python.exe -m pip install --upgrade pip' command.\n"
          ]
        }
      ],
      "source": [
        "!pip install wget"
      ]
    },
    {
      "cell_type": "code",
      "execution_count": null,
      "metadata": {
        "id": "dnAnHQFw83Rv",
        "outputId": "febbfb61-3452-4ccf-f32c-4aa0bc72e203"
      },
      "outputs": [
        {
          "name": "stdout",
          "output_type": "stream",
          "text": [
            "100% [........................................................................] 15380800 / 15380800"
          ]
        }
      ],
      "source": [
        "import wget\n",
        "data = wget.download('https://dl.dropboxusercontent.com/s/h2hx685o62qhnsr/UNSW_NB15_training-set.csv?dl=0')"
      ]
    },
    {
      "cell_type": "code",
      "execution_count": null,
      "metadata": {
        "id": "ekb4_UQN83Rw"
      },
      "outputs": [],
      "source": [
        ""
      ]
    },
    {
      "cell_type": "markdown",
      "metadata": {
        "id": "B94Y2ZRc83Rw"
      },
      "source": [
        "## Loading data"
      ]
    },
    {
      "cell_type": "code",
      "execution_count": null,
      "metadata": {
        "id": "xaQ9e1GP83Rx"
      },
      "outputs": [],
      "source": [
        "bin_data = pd.read_csv(data)\n",
        "# bin_data.drop(bin_data.columns[0],axis=1,inplace=True)\n",
        "# le1_classes_ = np.load('labels/le1_classes.npy',allow_pickle=True)"
      ]
    },
    {
      "cell_type": "code",
      "execution_count": null,
      "metadata": {
        "id": "SNbHfsEZ83Rx",
        "outputId": "5bbca44f-75aa-449b-88e0-151f359370e8"
      },
      "outputs": [
        {
          "data": {
            "text/html": [
              "<div>\n",
              "<style scoped>\n",
              "    .dataframe tbody tr th:only-of-type {\n",
              "        vertical-align: middle;\n",
              "    }\n",
              "\n",
              "    .dataframe tbody tr th {\n",
              "        vertical-align: top;\n",
              "    }\n",
              "\n",
              "    .dataframe thead th {\n",
              "        text-align: right;\n",
              "    }\n",
              "</style>\n",
              "<table border=\"1\" class=\"dataframe\">\n",
              "  <thead>\n",
              "    <tr style=\"text-align: right;\">\n",
              "      <th></th>\n",
              "      <th>id</th>\n",
              "      <th>dur</th>\n",
              "      <th>proto</th>\n",
              "      <th>service</th>\n",
              "      <th>state</th>\n",
              "      <th>spkts</th>\n",
              "      <th>dpkts</th>\n",
              "      <th>sbytes</th>\n",
              "      <th>dbytes</th>\n",
              "      <th>rate</th>\n",
              "      <th>...</th>\n",
              "      <th>ct_dst_sport_ltm</th>\n",
              "      <th>ct_dst_src_ltm</th>\n",
              "      <th>is_ftp_login</th>\n",
              "      <th>ct_ftp_cmd</th>\n",
              "      <th>ct_flw_http_mthd</th>\n",
              "      <th>ct_src_ltm</th>\n",
              "      <th>ct_srv_dst</th>\n",
              "      <th>is_sm_ips_ports</th>\n",
              "      <th>attack_cat</th>\n",
              "      <th>label</th>\n",
              "    </tr>\n",
              "  </thead>\n",
              "  <tbody>\n",
              "    <tr>\n",
              "      <th>0</th>\n",
              "      <td>1</td>\n",
              "      <td>0.000011</td>\n",
              "      <td>udp</td>\n",
              "      <td>-</td>\n",
              "      <td>INT</td>\n",
              "      <td>2</td>\n",
              "      <td>0</td>\n",
              "      <td>496</td>\n",
              "      <td>0</td>\n",
              "      <td>90909.0902</td>\n",
              "      <td>...</td>\n",
              "      <td>1</td>\n",
              "      <td>2</td>\n",
              "      <td>0</td>\n",
              "      <td>0</td>\n",
              "      <td>0</td>\n",
              "      <td>1</td>\n",
              "      <td>2</td>\n",
              "      <td>0</td>\n",
              "      <td>Normal</td>\n",
              "      <td>0</td>\n",
              "    </tr>\n",
              "    <tr>\n",
              "      <th>1</th>\n",
              "      <td>2</td>\n",
              "      <td>0.000008</td>\n",
              "      <td>udp</td>\n",
              "      <td>-</td>\n",
              "      <td>INT</td>\n",
              "      <td>2</td>\n",
              "      <td>0</td>\n",
              "      <td>1762</td>\n",
              "      <td>0</td>\n",
              "      <td>125000.0003</td>\n",
              "      <td>...</td>\n",
              "      <td>1</td>\n",
              "      <td>2</td>\n",
              "      <td>0</td>\n",
              "      <td>0</td>\n",
              "      <td>0</td>\n",
              "      <td>1</td>\n",
              "      <td>2</td>\n",
              "      <td>0</td>\n",
              "      <td>Normal</td>\n",
              "      <td>0</td>\n",
              "    </tr>\n",
              "    <tr>\n",
              "      <th>2</th>\n",
              "      <td>3</td>\n",
              "      <td>0.000005</td>\n",
              "      <td>udp</td>\n",
              "      <td>-</td>\n",
              "      <td>INT</td>\n",
              "      <td>2</td>\n",
              "      <td>0</td>\n",
              "      <td>1068</td>\n",
              "      <td>0</td>\n",
              "      <td>200000.0051</td>\n",
              "      <td>...</td>\n",
              "      <td>1</td>\n",
              "      <td>3</td>\n",
              "      <td>0</td>\n",
              "      <td>0</td>\n",
              "      <td>0</td>\n",
              "      <td>1</td>\n",
              "      <td>3</td>\n",
              "      <td>0</td>\n",
              "      <td>Normal</td>\n",
              "      <td>0</td>\n",
              "    </tr>\n",
              "    <tr>\n",
              "      <th>3</th>\n",
              "      <td>4</td>\n",
              "      <td>0.000006</td>\n",
              "      <td>udp</td>\n",
              "      <td>-</td>\n",
              "      <td>INT</td>\n",
              "      <td>2</td>\n",
              "      <td>0</td>\n",
              "      <td>900</td>\n",
              "      <td>0</td>\n",
              "      <td>166666.6608</td>\n",
              "      <td>...</td>\n",
              "      <td>1</td>\n",
              "      <td>3</td>\n",
              "      <td>0</td>\n",
              "      <td>0</td>\n",
              "      <td>0</td>\n",
              "      <td>2</td>\n",
              "      <td>3</td>\n",
              "      <td>0</td>\n",
              "      <td>Normal</td>\n",
              "      <td>0</td>\n",
              "    </tr>\n",
              "    <tr>\n",
              "      <th>4</th>\n",
              "      <td>5</td>\n",
              "      <td>0.000010</td>\n",
              "      <td>udp</td>\n",
              "      <td>-</td>\n",
              "      <td>INT</td>\n",
              "      <td>2</td>\n",
              "      <td>0</td>\n",
              "      <td>2126</td>\n",
              "      <td>0</td>\n",
              "      <td>100000.0025</td>\n",
              "      <td>...</td>\n",
              "      <td>1</td>\n",
              "      <td>3</td>\n",
              "      <td>0</td>\n",
              "      <td>0</td>\n",
              "      <td>0</td>\n",
              "      <td>2</td>\n",
              "      <td>3</td>\n",
              "      <td>0</td>\n",
              "      <td>Normal</td>\n",
              "      <td>0</td>\n",
              "    </tr>\n",
              "  </tbody>\n",
              "</table>\n",
              "<p>5 rows × 45 columns</p>\n",
              "</div>"
            ],
            "text/plain": [
              "   id       dur proto service state  spkts  dpkts  sbytes  dbytes  \\\n",
              "0   1  0.000011   udp       -   INT      2      0     496       0   \n",
              "1   2  0.000008   udp       -   INT      2      0    1762       0   \n",
              "2   3  0.000005   udp       -   INT      2      0    1068       0   \n",
              "3   4  0.000006   udp       -   INT      2      0     900       0   \n",
              "4   5  0.000010   udp       -   INT      2      0    2126       0   \n",
              "\n",
              "          rate  ...  ct_dst_sport_ltm  ct_dst_src_ltm  is_ftp_login  \\\n",
              "0   90909.0902  ...                 1               2             0   \n",
              "1  125000.0003  ...                 1               2             0   \n",
              "2  200000.0051  ...                 1               3             0   \n",
              "3  166666.6608  ...                 1               3             0   \n",
              "4  100000.0025  ...                 1               3             0   \n",
              "\n",
              "   ct_ftp_cmd  ct_flw_http_mthd  ct_src_ltm  ct_srv_dst  is_sm_ips_ports  \\\n",
              "0           0                 0           1           2                0   \n",
              "1           0                 0           1           2                0   \n",
              "2           0                 0           1           3                0   \n",
              "3           0                 0           2           3                0   \n",
              "4           0                 0           2           3                0   \n",
              "\n",
              "   attack_cat  label  \n",
              "0      Normal      0  \n",
              "1      Normal      0  \n",
              "2      Normal      0  \n",
              "3      Normal      0  \n",
              "4      Normal      0  \n",
              "\n",
              "[5 rows x 45 columns]"
            ]
          },
          "execution_count": 6,
          "metadata": {},
          "output_type": "execute_result"
        }
      ],
      "source": [
        "bin_data.head()"
      ]
    },
    {
      "cell_type": "code",
      "execution_count": null,
      "metadata": {
        "id": "IPl_XrUG83Ry"
      },
      "outputs": [],
      "source": [
        "from sklearn import preprocessing\n",
        " \n",
        "# label_encoder object knows how to understand word labels.\n",
        "label_encoder = preprocessing.LabelEncoder()\n",
        "bin_data['attack_cat']= label_encoder.fit_transform(bin_data['attack_cat'])\n",
        "bin_data['proto']= label_encoder.fit_transform(bin_data['proto'])\n",
        "bin_data['state']= label_encoder.fit_transform(bin_data['state'])\n",
        "bin_data['service']= label_encoder.fit_transform(bin_data['service'])"
      ]
    },
    {
      "cell_type": "code",
      "execution_count": null,
      "metadata": {
        "id": "IORL19cI83Ry",
        "outputId": "4979e570-bdbe-4b13-9739-a26ff8e192b8"
      },
      "outputs": [
        {
          "data": {
            "text/plain": [
              "<AxesSubplot:title={'center':'Continuous features'}>"
            ]
          },
          "execution_count": 41,
          "metadata": {},
          "output_type": "execute_result"
        },
        {
          "data": {
            "image/png": "[encoded data removed]",
            "text/plain": [
              "<Figure size 864x360 with 1 Axes>"
            ]
          },
          "metadata": {
            "needs_background": "light"
          },
          "output_type": "display_data"
        }
      ],
      "source": [
        "plt.title('Continuous features')\n",
        "bin_data.iloc[:,:20].nunique().plot(kind='bar', figsize=(12,5))"
      ]
    },
    {
      "cell_type": "code",
      "execution_count": null,
      "metadata": {
        "id": "sEMx_VKs83Ry"
      },
      "outputs": [],
      "source": [
        "# X = bin_data.drop\n",
        "y = bin_data['label']\n",
        "X = bin_data[['id','dur','sbytes','dbytes', 'rate','sload', 'dload','sinpkt', 'dinpkt', 'sjit', 'djit',\n",
        "             'stcpb', 'dtcpb','tcprtt', 'synack', 'ackdat', 'smean', 'dmean','response_body_len']]"
      ]
    },
    {
      "cell_type": "code",
      "execution_count": null,
      "metadata": {
        "id": "WjeqYRZM83Rz"
      },
      "outputs": [],
      "source": [
        "# splitting the dataset 75% for training and 25% testing\n",
        "X_train, X_test, y_train, y_test = train_test_split(X,y, test_size=0.25, random_state=42)"
      ]
    },
    {
      "cell_type": "code",
      "execution_count": null,
      "metadata": {
        "id": "x3tT_28J83Rz"
      },
      "outputs": [],
      "source": [
        "# function for evaluation metrics precision, recall, f1 etc\n",
        "def modelEvaluation(predictions, y_test_set, model_name):\n",
        "    import seaborn as sns\n",
        "    from sklearn.metrics import classification_report, confusion_matrix,accuracy_score\n",
        "    from sklearn.metrics import plot_confusion_matrix, precision_score, recall_score, f1_score\n",
        "    # Print model evaluation to predicted result    \n",
        "    print(\"==========\",model_name,\"==========\")\n",
        "    print (\"\\nAccuracy on validation set: {:.4f}\".format(accuracy_score(y_test_set, predictions)))    \n",
        "    print (\"\\nClassification report : \\n\", classification_report(y_test_set, predictions))\n",
        "#     print (\"\\nConfusion Matrix : \\n\", confusion_matrix(y_test_set, predictions))\n",
        "    plt.rcParams.update({'font.size': 20})\n",
        "    sns.heatmap(confusion_matrix(y_test_set, predictions),annot=True, fmt='g',cmap='viridis')\n",
        "    plt.tight_layout()\n",
        "    plt.show()\n",
        "    results = [accuracy_score(y_test_set, predictions), precision_score(y_test_set, predictions, average='macro'),\n",
        "              recall_score(y_test_set, predictions, average='macro'),f1_score(y_test_set, predictions, average='macro')]\n",
        "    return results"
      ]
    },
    {
      "cell_type": "markdown",
      "metadata": {
        "id": "10dMPEZA83R0"
      },
      "source": [
        "### Build CNN"
      ]
    },
    {
      "cell_type": "code",
      "execution_count": null,
      "metadata": {
        "id": "-5TmLB3483R0"
      },
      "outputs": [],
      "source": [
        "import tensorflow as tf\n",
        "from tensorflow.keras.models import Sequential \n",
        "from tensorflow.keras.layers import Dense,Activation,Dropout \n",
        "from tensorflow.keras.layers import BatchNormalization \n",
        "from tensorflow.keras.utils import to_categorical\n",
        "# deep learning model initialization\n",
        "model = tf.keras.models.Sequential()  \n",
        "model.add(Dense(1000,input_dim=X_train.shape[1],activation='relu'))\n",
        "model.add(Dense(500,activation='relu'))\n",
        "model.add(Dense(300,activation='relu'))\n",
        "model.add(Dense(150,activation='relu'))\n",
        "model.add(Dense(75,activation='relu'))\n",
        "model.add(Dense(30,activation='relu'))\n",
        "model.add(Dense(15,activation='relu'))\n",
        "model.add(Dropout(0.5))\n",
        "\n",
        "RF_X_train = model.predict(X_train)\n",
        "RF_X_test = model.predict(X_test)"
      ]
    },
    {
      "cell_type": "code",
      "execution_count": null,
      "metadata": {
        "id": "maB6nN3X83R1",
        "outputId": "214be513-afb2-40b1-ced4-0f1be02d7e8b"
      },
      "outputs": [
        {
          "data": {
            "text/plain": [
              "DecisionTreeClassifier()"
            ]
          },
          "execution_count": 13,
          "metadata": {},
          "output_type": "execute_result"
        }
      ],
      "source": [
        "from sklearn.tree import DecisionTreeClassifier\n",
        "qsvm=DecisionTreeClassifier()\n",
        "qsvm.fit(RF_X_train,y_train) # training model on training dataset"
      ]
    },
    {
      "cell_type": "code",
      "execution_count": null,
      "metadata": {
        "id": "tE5fR5Uw83R1",
        "outputId": "7ea4a250-8b7a-4001-ae39-293e0c616670"
      },
      "outputs": [
        {
          "name": "stdout",
          "output_type": "stream",
          "text": [
            "QSVM-Classifier Bin-class Set-Accuracy is  82.05315065831026\n"
          ]
        }
      ],
      "source": [
        "y_pred=qsvm.predict(RF_X_test)  # predicting target attribute on testing dataset\n",
        "ac=accuracy_score(y_test, y_pred)*100  # calculating accuracy of predicted data\n",
        "print(\"QSVM-Classifier Bin-class Set-Accuracy is \", ac)"
      ]
    },
    {
      "cell_type": "code",
      "execution_count": null,
      "metadata": {
        "id": "B46CxbRI83R1",
        "outputId": "971c0ef9-f068-4237-ec05-4694e665c854"
      },
      "outputs": [
        {
          "name": "stdout",
          "output_type": "stream",
          "text": [
            "========== Decison Tree ==========\n",
            "\n",
            "Accuracy on validation set: 0.8141\n",
            "\n",
            "Classification report : \n",
            "               precision    recall  f1-score   support\n",
            "\n",
            "           0       0.90      0.74      0.81     11259\n",
            "           1       0.74      0.90      0.81      9324\n",
            "\n",
            "    accuracy                           0.81     20583\n",
            "   macro avg       0.82      0.82      0.81     20583\n",
            "weighted avg       0.83      0.81      0.81     20583\n",
            "\n"
          ]
        },
        {
          "data": {
            "image/png": "[encoded data removed]",
            "text/plain": [
              "<Figure size 432x288 with 2 Axes>"
            ]
          },
          "metadata": {
            "needs_background": "light"
          },
          "output_type": "display_data"
        },
        {
          "data": {
            "text/plain": [
              "[0.8141184472623039,\n",
              " 0.8221638578067689,\n",
              " 0.8217140144598178,\n",
              " 0.8141161091243772]"
            ]
          },
          "execution_count": 37,
          "metadata": {},
          "output_type": "execute_result"
        }
      ],
      "source": [
        "# classification report\n",
        "modelEvaluation(y_test, y_pred, 'Decison Tree')"
      ]
    },
    {
      "cell_type": "code",
      "execution_count": null,
      "metadata": {
        "id": "-3b7T2dV83R2",
        "outputId": "933b080d-01e7-4483-b409-c644f5e71b55"
      },
      "outputs": [
        {
          "data": {
            "text/plain": [
              "KNeighborsClassifier(n_neighbors=2)"
            ]
          },
          "execution_count": 16,
          "metadata": {},
          "output_type": "execute_result"
        }
      ],
      "source": [
        "from sklearn.neighbors import KNeighborsClassifier\n",
        "knn=KNeighborsClassifier(n_neighbors=2)\n",
        "knn.fit(RF_X_train,y_train) # training model on training dataset"
      ]
    },
    {
      "cell_type": "code",
      "execution_count": null,
      "metadata": {
        "id": "caTN53g983R2",
        "outputId": "be37117f-e127-4e88-be98-60101b35ec6e"
      },
      "outputs": [
        {
          "name": "stdout",
          "output_type": "stream",
          "text": [
            "KNN-Classifier Bin-class Set-Accuracy is  81.41184472623038\n"
          ]
        }
      ],
      "source": [
        "y_pred=knn.predict(RF_X_test)  # predicting target attribute on testing dataset\n",
        "ac=accuracy_score(y_test, y_pred)*100  # calculating accuracy of predicted data\n",
        "print(\"KNN-Classifier Bin-class Set-Accuracy is \", ac)"
      ]
    },
    {
      "cell_type": "code",
      "execution_count": null,
      "metadata": {
        "id": "8Z-chsRm83R3",
        "outputId": "bf335353-4535-48ee-97be-922d45a2cebf"
      },
      "outputs": [
        {
          "name": "stdout",
          "output_type": "stream",
          "text": [
            "========== KNN Classifier ==========\n",
            "\n",
            "Accuracy on validation set: 0.8141\n",
            "\n",
            "Classification report : \n",
            "               precision    recall  f1-score   support\n",
            "\n",
            "           0       0.90      0.74      0.81     11259\n",
            "           1       0.74      0.90      0.81      9324\n",
            "\n",
            "    accuracy                           0.81     20583\n",
            "   macro avg       0.82      0.82      0.81     20583\n",
            "weighted avg       0.83      0.81      0.81     20583\n",
            "\n"
          ]
        },
        {
          "data": {
            "image/png": "[encoded data removed]",
            "text/plain": [
              "<Figure size 432x288 with 2 Axes>"
            ]
          },
          "metadata": {
            "needs_background": "light"
          },
          "output_type": "display_data"
        },
        {
          "data": {
            "text/plain": [
              "[0.8141184472623039,\n",
              " 0.8221638578067689,\n",
              " 0.8217140144598178,\n",
              " 0.8141161091243772]"
            ]
          },
          "execution_count": 38,
          "metadata": {},
          "output_type": "execute_result"
        }
      ],
      "source": [
        "modelEvaluation(y_test, y_pred, 'KNN Classifier')"
      ]
    },
    {
      "cell_type": "code",
      "execution_count": null,
      "metadata": {
        "id": "vFnogZwF83R3"
      },
      "outputs": [],
      "source": [
        "from keras.models import Sequential\n",
        "from keras.layers import Activation, Dense\n",
        "mlp = Sequential() # initializing model\n",
        "# input layer and first layer with 50 neurons\n",
        "mlp.add(Dense(units=128, input_dim=RF_X_train.shape[1], activation='relu'))\n",
        "mlp.add(Dense(units=64, activation='relu'))\n",
        "mlp.add(Dense(units=32, activation='relu'))\n",
        "mlp.add(Dense(units=16, activation='relu'))\n",
        "# mlp.add(Dense(units=50, input_dim=X_train.shape[1], activation='relu'))\n",
        "# output layer with softmax activation\n",
        "mlp.add(Dense(units=1,activation='sigmoid'))"
      ]
    },
    {
      "cell_type": "code",
      "execution_count": null,
      "metadata": {
        "id": "hN8if-ZN83R3"
      },
      "outputs": [],
      "source": [
        "# defining loss function, optimizer, metrics and then compiling model\n",
        "mlp.compile(loss='binary_crossentropy', optimizer='RMSprop', metrics=['accuracy'])"
      ]
    },
    {
      "cell_type": "code",
      "execution_count": null,
      "metadata": {
        "id": "FtJX6q8M83R4",
        "outputId": "9656f92b-d9ee-4949-bf93-5b3499ef8e30"
      },
      "outputs": [
        {
          "name": "stdout",
          "output_type": "stream",
          "text": [
            "Epoch 1/25\n",
            "772/772 [==============================] - 3s 3ms/step - loss: 17659.9844 - accuracy: 0.6018 - val_loss: 3936.3953 - val_accuracy: 0.4499\n",
            "Epoch 2/25\n",
            "772/772 [==============================] - 2s 2ms/step - loss: 1870.3101 - accuracy: 0.6178 - val_loss: 455.3651 - val_accuracy: 0.6212\n",
            "Epoch 3/25\n",
            "772/772 [==============================] - 2s 2ms/step - loss: 489.7482 - accuracy: 0.5791 - val_loss: 309.0762 - val_accuracy: 0.6210\n",
            "Epoch 4/25\n",
            "772/772 [==============================] - 2s 2ms/step - loss: 187.8324 - accuracy: 0.5891 - val_loss: 987.6666 - val_accuracy: 0.6364\n",
            "Epoch 5/25\n",
            "772/772 [==============================] - 2s 2ms/step - loss: 16.4805 - accuracy: 0.6202 - val_loss: 0.6431 - val_accuracy: 0.6240\n",
            "Epoch 6/25\n",
            "772/772 [==============================] - 2s 2ms/step - loss: 5.3870 - accuracy: 0.6199 - val_loss: 0.6685 - val_accuracy: 0.6201\n",
            "Epoch 7/25\n",
            "772/772 [==============================] - 2s 2ms/step - loss: 12.2773 - accuracy: 0.6204 - val_loss: 0.6822 - val_accuracy: 0.6228\n",
            "Epoch 8/25\n",
            "772/772 [==============================] - 2s 2ms/step - loss: 5.7255 - accuracy: 0.6203 - val_loss: 0.6872 - val_accuracy: 0.6229\n",
            "Epoch 9/25\n",
            "772/772 [==============================] - 2s 2ms/step - loss: 15.7975 - accuracy: 0.6210 - val_loss: 0.6630 - val_accuracy: 0.6235\n",
            "Epoch 10/25\n",
            "772/772 [==============================] - 2s 2ms/step - loss: 2.8556 - accuracy: 0.6204 - val_loss: 0.6787 - val_accuracy: 0.6230\n",
            "Epoch 11/25\n",
            "772/772 [==============================] - 1s 2ms/step - loss: 4.6486 - accuracy: 0.6214 - val_loss: 0.6829 - val_accuracy: 0.6193\n",
            "Epoch 12/25\n",
            "772/772 [==============================] - 1s 2ms/step - loss: 13.2691 - accuracy: 0.6213 - val_loss: 0.6596 - val_accuracy: 0.6227\n",
            "Epoch 13/25\n",
            "772/772 [==============================] - 1s 2ms/step - loss: 2.5221 - accuracy: 0.6203 - val_loss: 0.6402 - val_accuracy: 0.6214\n",
            "Epoch 14/25\n",
            "772/772 [==============================] - 1s 2ms/step - loss: 6.1527 - accuracy: 0.6192 - val_loss: 0.6560 - val_accuracy: 0.6219\n",
            "Epoch 15/25\n",
            "772/772 [==============================] - 1s 2ms/step - loss: 2.7081 - accuracy: 0.6212 - val_loss: 0.6489 - val_accuracy: 0.6234\n",
            "Epoch 16/25\n",
            "772/772 [==============================] - 1s 2ms/step - loss: 19.4996 - accuracy: 0.6203 - val_loss: 0.6347 - val_accuracy: 0.6226\n",
            "Epoch 17/25\n",
            "772/772 [==============================] - 1s 2ms/step - loss: 9.9020 - accuracy: 0.6201 - val_loss: 0.6671 - val_accuracy: 0.6225\n",
            "Epoch 18/25\n",
            "772/772 [==============================] - 2s 2ms/step - loss: 4.7988 - accuracy: 0.6204 - val_loss: 0.6350 - val_accuracy: 0.6232\n",
            "Epoch 19/25\n",
            "772/772 [==============================] - 2s 2ms/step - loss: 5.6008 - accuracy: 0.6196 - val_loss: 0.6287 - val_accuracy: 0.6232\n",
            "Epoch 20/25\n",
            "772/772 [==============================] - 2s 2ms/step - loss: 5.9785 - accuracy: 0.6202 - val_loss: 0.6818 - val_accuracy: 0.6227\n",
            "Epoch 21/25\n",
            "772/772 [==============================] - 2s 2ms/step - loss: 12.6650 - accuracy: 0.6197 - val_loss: 0.6536 - val_accuracy: 0.6228\n",
            "Epoch 22/25\n",
            "772/772 [==============================] - 2s 2ms/step - loss: 28.9972 - accuracy: 0.6194 - val_loss: 0.6469 - val_accuracy: 0.6197\n",
            "Epoch 23/25\n",
            "772/772 [==============================] - 1s 2ms/step - loss: 3.3786 - accuracy: 0.6198 - val_loss: 0.6677 - val_accuracy: 0.6232\n",
            "Epoch 24/25\n",
            "772/772 [==============================] - 1s 2ms/step - loss: 14.8440 - accuracy: 0.6191 - val_loss: 0.6337 - val_accuracy: 0.6226\n",
            "Epoch 25/25\n",
            "772/772 [==============================] - 1s 2ms/step - loss: 13.2800 - accuracy: 0.6193 - val_loss: 0.6310 - val_accuracy: 0.6219\n"
          ]
        }
      ],
      "source": [
        "# training the model on training dataset\n",
        "history = mlp.fit(RF_X_train, y_train, epochs=25, batch_size=64,validation_split=0.2)"
      ]
    },
    {
      "cell_type": "code",
      "execution_count": null,
      "metadata": {
        "id": "_pqHpQMy83R4"
      },
      "outputs": [],
      "source": [
        "y_pred1 = mlp.predict(RF_X_test)\n",
        "result = []\n",
        "for i in y_pred1:\n",
        "    if i > 0.5:\n",
        "        result.append(1)\n",
        "    else:\n",
        "        result.append(0)"
      ]
    },
    {
      "cell_type": "code",
      "execution_count": null,
      "metadata": {
        "id": "hKg5MPO183R4",
        "outputId": "53870193-69df-494d-841c-fc05634361a9"
      },
      "outputs": [
        {
          "name": "stdout",
          "output_type": "stream",
          "text": [
            "========== Multi-Layer Perceptron ==========\n",
            "\n",
            "Accuracy on validation set: 0.6182\n",
            "\n",
            "Classification report : \n",
            "               precision    recall  f1-score   support\n",
            "\n",
            "           0       0.16      0.96      0.27      1524\n",
            "           1       0.99      0.59      0.74     19059\n",
            "\n",
            "    accuracy                           0.62     20583\n",
            "   macro avg       0.58      0.77      0.51     20583\n",
            "weighted avg       0.93      0.62      0.71     20583\n",
            "\n"
          ]
        },
        {
          "data": {
            "image/png": "[encoded data removed]",
            "text/plain": [
              "<Figure size 432x288 with 2 Axes>"
            ]
          },
          "metadata": {
            "needs_background": "light"
          },
          "output_type": "display_data"
        },
        {
          "data": {
            "text/plain": [
              "[0.6181800514988097,\n",
              " 0.5758901843374046,\n",
              " 0.7739023620394688,\n",
              " 0.5060150775801329]"
            ]
          },
          "execution_count": 39,
          "metadata": {},
          "output_type": "execute_result"
        }
      ],
      "source": [
        "# y_pred=mlp.predict(New_X_test)\n",
        "modelEvaluation(y_test, result, 'Multi-Layer Perceptron')"
      ]
    },
    {
      "cell_type": "code",
      "execution_count": null,
      "metadata": {
        "id": "b6xUnBxL83R4",
        "outputId": "b5bcfa77-b8ca-4755-dddf-0f06154ac865"
      },
      "outputs": [
        {
          "data": {
            "image/png": "[encoded data removed]",
            "text/plain": [
              "<Figure size 432x288 with 1 Axes>"
            ]
          },
          "metadata": {
            "needs_background": "light"
          },
          "output_type": "display_data"
        }
      ],
      "source": [
        "# Plot of accuracy vs epoch for train and test dataset\n",
        "plt.rcParams.update({'font.size': 10})\n",
        "plt.plot(history.history['accuracy'])\n",
        "plt.plot(history.history['val_accuracy'])\n",
        "plt.title(\"Plot of accuracy vs epoch for train and test dataset\")\n",
        "plt.ylabel('accuracy')\n",
        "plt.xlabel('epoch')\n",
        "plt.legend(['train', 'test'], loc='best')\n",
        "# plt.savefig('plots/mlp_multi_accuracy.png')\n",
        "plt.show()"
      ]
    },
    {
      "cell_type": "code",
      "execution_count": null,
      "metadata": {
        "id": "jlW8-16X83R5",
        "outputId": "a3fa645d-05e3-4300-81ab-c9a6521d9742"
      },
      "outputs": [
        {
          "data": {
            "image/png": "[encoded data removed]",
            "text/plain": [
              "<Figure size 432x288 with 1 Axes>"
            ]
          },
          "metadata": {
            "needs_background": "light"
          },
          "output_type": "display_data"
        }
      ],
      "source": [
        "# Plot of accuracy vs epoch for train and test dataset\n",
        "plt.plot(history.history['loss'])\n",
        "plt.plot(history.history['val_loss'])\n",
        "plt.title(\"Plot of loss vs epoch for train and test dataset\")\n",
        "plt.ylabel('loss')\n",
        "plt.xlabel('epoch')\n",
        "plt.legend(['train', 'test'], loc='best')\n",
        "# plt.savefig('plots/mlp_multi_accuracy.png')\n",
        "plt.show()"
      ]
    },
    {
      "cell_type": "code",
      "execution_count": null,
      "metadata": {
        "id": "aXnQbuQp83R5"
      },
      "outputs": [],
      "source": [
        "from keras.models import Sequential\n",
        "from keras.layers import Dense\n",
        "model = Sequential()\n",
        "model.add(Dense(12, input_dim=RF_X_train.shape[1], activation='relu'))\n",
        "model.add(Dense(8, activation='relu'))\n",
        "model.add(Dense(1, activation='sigmoid'))"
      ]
    },
    {
      "cell_type": "code",
      "execution_count": null,
      "metadata": {
        "id": "Cl9_REy983R5"
      },
      "outputs": [],
      "source": [
        "# compile the keras mode\n",
        "model.compile(loss='binary_crossentropy', optimizer='adam', metrics=['accuracy'])"
      ]
    },
    {
      "cell_type": "code",
      "execution_count": null,
      "metadata": {
        "id": "7nnC-JIB83R5",
        "outputId": "1b7ee936-0902-4940-89b5-8adc00f81ad9"
      },
      "outputs": [
        {
          "name": "stdout",
          "output_type": "stream",
          "text": [
            "Epoch 1/25\n",
            "772/772 [==============================] - 2s 2ms/step - loss: 71451.6797 - accuracy: 0.5817 - val_loss: 11178.6025 - val_accuracy: 0.3667\n",
            "Epoch 2/25\n",
            "772/772 [==============================] - 1s 2ms/step - loss: 12806.9961 - accuracy: 0.5706 - val_loss: 5483.8311 - val_accuracy: 0.6724\n",
            "Epoch 3/25\n",
            "772/772 [==============================] - 1s 2ms/step - loss: 9910.2080 - accuracy: 0.5678 - val_loss: 9834.2256 - val_accuracy: 0.6943\n",
            "Epoch 4/25\n",
            "772/772 [==============================] - 1s 2ms/step - loss: 9437.2051 - accuracy: 0.5636 - val_loss: 7223.1973 - val_accuracy: 0.6919\n",
            "Epoch 5/25\n",
            "772/772 [==============================] - 1s 2ms/step - loss: 8657.8047 - accuracy: 0.5606 - val_loss: 5364.1621 - val_accuracy: 0.5941\n",
            "Epoch 6/25\n",
            "772/772 [==============================] - 1s 2ms/step - loss: 9735.3154 - accuracy: 0.5648 - val_loss: 5808.8984 - val_accuracy: 0.5891\n",
            "Epoch 7/25\n",
            "772/772 [==============================] - 1s 2ms/step - loss: 7343.2578 - accuracy: 0.5656 - val_loss: 5855.0659 - val_accuracy: 0.6801\n",
            "Epoch 8/25\n",
            "772/772 [==============================] - 1s 2ms/step - loss: 8834.3438 - accuracy: 0.5609 - val_loss: 8279.5771 - val_accuracy: 0.5947\n",
            "Epoch 9/25\n",
            "772/772 [==============================] - 1s 2ms/step - loss: 6894.4141 - accuracy: 0.5624 - val_loss: 9365.1074 - val_accuracy: 0.5677\n",
            "Epoch 10/25\n",
            "772/772 [==============================] - 1s 2ms/step - loss: 7270.0342 - accuracy: 0.5621 - val_loss: 17405.7656 - val_accuracy: 0.3895\n",
            "Epoch 11/25\n",
            "772/772 [==============================] - 1s 2ms/step - loss: 8145.6230 - accuracy: 0.5629 - val_loss: 2519.8376 - val_accuracy: 0.6742\n",
            "Epoch 12/25\n",
            "772/772 [==============================] - 1s 2ms/step - loss: 7360.0542 - accuracy: 0.5634 - val_loss: 2601.2324 - val_accuracy: 0.5832\n",
            "Epoch 13/25\n",
            "772/772 [==============================] - 1s 2ms/step - loss: 6158.1270 - accuracy: 0.5579 - val_loss: 3614.4360 - val_accuracy: 0.6036\n",
            "Epoch 14/25\n",
            "772/772 [==============================] - 1s 2ms/step - loss: 5625.8452 - accuracy: 0.5635 - val_loss: 3890.0408 - val_accuracy: 0.6451\n",
            "Epoch 15/25\n",
            "772/772 [==============================] - 1s 2ms/step - loss: 4850.9043 - accuracy: 0.5654 - val_loss: 3240.7454 - val_accuracy: 0.6649\n",
            "Epoch 16/25\n",
            "772/772 [==============================] - 1s 2ms/step - loss: 5816.0601 - accuracy: 0.5630 - val_loss: 3606.2031 - val_accuracy: 0.6270\n",
            "Epoch 17/25\n",
            "772/772 [==============================] - 1s 2ms/step - loss: 4679.2212 - accuracy: 0.5620 - val_loss: 3973.9050 - val_accuracy: 0.6932\n",
            "Epoch 18/25\n",
            "772/772 [==============================] - 1s 2ms/step - loss: 4087.6643 - accuracy: 0.5638 - val_loss: 3278.4897 - val_accuracy: 0.6846\n",
            "Epoch 19/25\n",
            "772/772 [==============================] - 1s 2ms/step - loss: 4281.5010 - accuracy: 0.5606 - val_loss: 6647.9204 - val_accuracy: 0.6389\n",
            "Epoch 20/25\n",
            "772/772 [==============================] - 1s 2ms/step - loss: 3487.3840 - accuracy: 0.5682 - val_loss: 1106.7504 - val_accuracy: 0.6509\n",
            "Epoch 21/25\n",
            "772/772 [==============================] - 1s 2ms/step - loss: 2635.3154 - accuracy: 0.5638 - val_loss: 2980.0139 - val_accuracy: 0.5844\n",
            "Epoch 22/25\n",
            "772/772 [==============================] - 1s 2ms/step - loss: 2389.9641 - accuracy: 0.5617 - val_loss: 1119.3433 - val_accuracy: 0.6964\n",
            "Epoch 23/25\n",
            "772/772 [==============================] - 1s 2ms/step - loss: 2234.6929 - accuracy: 0.5723 - val_loss: 1936.5918 - val_accuracy: 0.3691\n",
            "Epoch 24/25\n",
            "772/772 [==============================] - 1s 2ms/step - loss: 1438.2236 - accuracy: 0.5784 - val_loss: 363.0860 - val_accuracy: 0.6912\n",
            "Epoch 25/25\n",
            "772/772 [==============================] - 1s 2ms/step - loss: 837.1857 - accuracy: 0.5802 - val_loss: 353.1797 - val_accuracy: 0.6191\n"
          ]
        }
      ],
      "source": [
        "\n",
        "# fit the keras model on the dataset\n",
        "history2 = model.fit(RF_X_train, y_train, epochs=25, batch_size=64,validation_split=0.2)\n"
      ]
    },
    {
      "cell_type": "code",
      "execution_count": null,
      "metadata": {
        "id": "WuSiEuXv83R6"
      },
      "outputs": [],
      "source": [
        "y_pred2 = model.predict(RF_X_test)\n",
        "result2 = []\n",
        "for i in y_pred2:\n",
        "    if i > 0.5:\n",
        "        result2.append(1)\n",
        "    else:\n",
        "        result2.append(0)"
      ]
    },
    {
      "cell_type": "code",
      "execution_count": null,
      "metadata": {
        "id": "KCkdbzzs83R6",
        "outputId": "ca1c80f2-1056-4773-cb3e-a2d956ac30b7"
      },
      "outputs": [
        {
          "data": {
            "image/png": "[encoded data removed]",
            "text/plain": [
              "<Figure size 432x288 with 1 Axes>"
            ]
          },
          "metadata": {
            "needs_background": "light"
          },
          "output_type": "display_data"
        }
      ],
      "source": [
        "# Plot of accuracy vs epoch for train and test dataset\n",
        "plt.rcParams.update({'font.size': 10})\n",
        "plt.plot(history2.history['accuracy'])\n",
        "plt.plot(history2.history['val_accuracy'])\n",
        "plt.title(\"Plot of accuracy vs epoch for train and test dataset\")\n",
        "plt.ylabel('accuracy')\n",
        "plt.xlabel('epoch')\n",
        "plt.legend(['train', 'test'], loc='best')\n",
        "# plt.savefig('plots/mlp_multi_accuracy.png')\n",
        "plt.show()"
      ]
    },
    {
      "cell_type": "code",
      "execution_count": null,
      "metadata": {
        "id": "fkyvUb3f83R6",
        "outputId": "0da9fd5d-2886-4dd4-c5b8-d41a15ea1e8e"
      },
      "outputs": [
        {
          "data": {
            "image/png": "[encoded data removed]",
            "text/plain": [
              "<Figure size 432x288 with 1 Axes>"
            ]
          },
          "metadata": {
            "needs_background": "light"
          },
          "output_type": "display_data"
        }
      ],
      "source": [
        "# Plot of accuracy vs epoch for train and test dataset\n",
        "plt.plot(history2.history['loss'])\n",
        "plt.plot(history2.history['val_loss'])\n",
        "plt.title(\"Plot of loss vs epoch for train and test dataset\")\n",
        "plt.ylabel('loss')\n",
        "plt.xlabel('epoch')\n",
        "plt.legend(['train', 'test'], loc='best')\n",
        "# plt.savefig('plots/mlp_multi_accuracy.png')\n",
        "plt.show()"
      ]
    },
    {
      "cell_type": "code",
      "execution_count": null,
      "metadata": {
        "id": "iJgM_pBZ83R6",
        "outputId": "34b48567-a50c-4d35-d310-e7d09144b924"
      },
      "outputs": [
        {
          "name": "stdout",
          "output_type": "stream",
          "text": [
            "========== Neural Network ==========\n",
            "\n",
            "Accuracy on validation set: 0.6086\n",
            "\n",
            "Classification report : \n",
            "               precision    recall  f1-score   support\n",
            "\n",
            "           0       0.35      0.61      0.45      5371\n",
            "           1       0.82      0.61      0.70     15212\n",
            "\n",
            "    accuracy                           0.61     20583\n",
            "   macro avg       0.59      0.61      0.57     20583\n",
            "weighted avg       0.70      0.61      0.63     20583\n",
            "\n"
          ]
        },
        {
          "data": {
            "image/png": "[encoded data removed]",
            "text/plain": [
              "<Figure size 432x288 with 2 Axes>"
            ]
          },
          "metadata": {
            "needs_background": "light"
          },
          "output_type": "display_data"
        },
        {
          "data": {
            "text/plain": [
              "[0.608609046300345, 0.5853117910226399, 0.6094618634672535, 0.5727766478365108]"
            ]
          },
          "execution_count": 40,
          "metadata": {},
          "output_type": "execute_result"
        }
      ],
      "source": [
        "# y_pred=mlp.predict(New_X_test)\n",
        "modelEvaluation(y_test, result2, 'Neural Network')"
      ]
    },
    {
      "cell_type": "code",
      "execution_count": null,
      "metadata": {
        "id": "rP4gPnKz83R6"
      },
      "outputs": [],
      "source": [
        ""
      ]
    }
  ],
  "metadata": {
    "colab": {
      "collapsed_sections": [],
      "name": "Binary UNSW_NB15 (New Approach).ipynb",
      "provenance": [],
      "toc_visible": true,
      "include_colab_link": true
    },
    "kernelspec": {
      "display_name": "Python 3 (ipykernel)",
      "language": "python",
      "name": "python3"
    },
    "language_info": {
      "codemirror_mode": {
        "name": "ipython",
        "version": 3
      },
      "file_extension": ".py",
      "mimetype": "text/x-python",
      "name": "python",
      "nbconvert_exporter": "python",
      "pygments_lexer": "ipython3",
      "version": "3.7.0"
    }
  },
  "nbformat": 4,
  "nbformat_minor": 0
}