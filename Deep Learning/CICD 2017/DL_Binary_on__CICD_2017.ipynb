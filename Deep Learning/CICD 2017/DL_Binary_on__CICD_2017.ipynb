{
  "cells": [
    {
      "cell_type": "markdown",
      "metadata": {
        "id": "view-in-github",
        "colab_type": "text"
      },
      "source": [
        "<a href=\"https://colab.research.google.com/github/Isha-Ismail/Network-Intrusion-Implementation/blob/main/Deep%20Learning/CICD%202017/DL_Binary_on__CICD_2017.ipynb\" target=\"_parent\"><img src=\"https://colab.research.google.com/assets/colab-badge.svg\" alt=\"Open In Colab\"/></a>"
      ]
    },
    {
      "cell_type": "markdown",
      "id": "c5d613a3",
      "metadata": {
        "id": "c5d613a3"
      },
      "source": [
        "## import libraries"
      ]
    },
    {
      "cell_type": "code",
      "source": [
        "!pip install pytorch_tabnet\n",
        "!pip install pytorch_tabular\n",
        "!pip install catboost\n",
        "!pip install deeptables"
      ],
      "metadata": {
        "id": "Ku8Y2yLly2Gc",
        "colab": {
          "base_uri": "https://localhost:8080/",
          "height": 1000
        },
        "outputId": "9e885ca9-4082-477f-ed50-8d83379b62dc"
      },
      "id": "Ku8Y2yLly2Gc",
      "execution_count": 6,
      "outputs": [
        {
          "output_type": "stream",
          "name": "stdout",
          "text": [
            "Collecting pytorch_tabnet\n",
            "  Downloading pytorch_tabnet-3.1.1-py3-none-any.whl (39 kB)\n",
            "Requirement already satisfied: scipy>1.4 in /usr/local/lib/python3.7/dist-packages (from pytorch_tabnet) (1.4.1)\n",
            "Requirement already satisfied: torch<2.0,>=1.2 in /usr/local/lib/python3.7/dist-packages (from pytorch_tabnet) (1.11.0+cu113)\n",
            "Requirement already satisfied: numpy<2.0,>=1.17 in /usr/local/lib/python3.7/dist-packages (from pytorch_tabnet) (1.21.6)\n",
            "Requirement already satisfied: scikit_learn>0.21 in /usr/local/lib/python3.7/dist-packages (from pytorch_tabnet) (1.0.2)\n",
            "Requirement already satisfied: tqdm<5.0,>=4.36 in /usr/local/lib/python3.7/dist-packages (from pytorch_tabnet) (4.64.0)\n",
            "Requirement already satisfied: joblib>=0.11 in /usr/local/lib/python3.7/dist-packages (from scikit_learn>0.21->pytorch_tabnet) (1.1.0)\n",
            "Requirement already satisfied: threadpoolctl>=2.0.0 in /usr/local/lib/python3.7/dist-packages (from scikit_learn>0.21->pytorch_tabnet) (3.1.0)\n",
            "Requirement already satisfied: typing-extensions in /usr/local/lib/python3.7/dist-packages (from torch<2.0,>=1.2->pytorch_tabnet) (4.2.0)\n",
            "Installing collected packages: pytorch-tabnet\n",
            "Successfully installed pytorch-tabnet-3.1.1\n",
            "Collecting pytorch_tabular\n",
            "  Downloading pytorch_tabular-0.7.0.tar.gz (2.0 MB)\n",
            "\u001b[K     |████████████████████████████████| 2.0 MB 11.5 MB/s \n",
            "\u001b[?25hRequirement already satisfied: torch>=1.4 in /usr/local/lib/python3.7/dist-packages (from pytorch_tabular) (1.11.0+cu113)\n",
            "Collecting category-encoders==2.2.2\n",
            "  Downloading category_encoders-2.2.2-py2.py3-none-any.whl (80 kB)\n",
            "\u001b[K     |████████████████████████████████| 80 kB 3.9 MB/s \n",
            "\u001b[?25hRequirement already satisfied: numpy>=1.17.2 in /usr/local/lib/python3.7/dist-packages (from pytorch_tabular) (1.21.6)\n",
            "Collecting pandas==1.1.5\n",
            "  Downloading pandas-1.1.5-cp37-cp37m-manylinux1_x86_64.whl (9.5 MB)\n",
            "\u001b[K     |████████████████████████████████| 9.5 MB 46.7 MB/s \n",
            "\u001b[?25hRequirement already satisfied: scikit-learn>=0.23.2 in /usr/local/lib/python3.7/dist-packages (from pytorch_tabular) (1.0.2)\n",
            "Collecting pytorch-lightning==1.3.6\n",
            "  Downloading pytorch_lightning-1.3.6-py3-none-any.whl (809 kB)\n",
            "\u001b[K     |████████████████████████████████| 809 kB 65.9 MB/s \n",
            "\u001b[?25hCollecting omegaconf>=2.0.1\n",
            "  Downloading omegaconf-2.2.1-py3-none-any.whl (78 kB)\n",
            "\u001b[K     |████████████████████████████████| 78 kB 4.3 MB/s \n",
            "\u001b[?25hCollecting torchmetrics>=0.3.2\n",
            "  Downloading torchmetrics-0.8.2-py3-none-any.whl (409 kB)\n",
            "\u001b[K     |████████████████████████████████| 409 kB 45.0 MB/s \n",
            "\u001b[?25hRequirement already satisfied: tensorboard!=2.5.0,>=2.2.0 in /usr/local/lib/python3.7/dist-packages (from pytorch_tabular) (2.8.0)\n",
            "Collecting pytorch-tabnet==3.0.0\n",
            "  Downloading pytorch_tabnet-3.0.0-py3-none-any.whl (38 kB)\n",
            "Collecting PyYAML>=5.1.*\n",
            "  Downloading PyYAML-6.0-cp37-cp37m-manylinux_2_5_x86_64.manylinux1_x86_64.manylinux_2_12_x86_64.manylinux2010_x86_64.whl (596 kB)\n",
            "\u001b[K     |████████████████████████████████| 596 kB 27.0 MB/s \n",
            "\u001b[?25hRequirement already satisfied: matplotlib>3.1 in /usr/local/lib/python3.7/dist-packages (from pytorch_tabular) (3.2.2)\n",
            "Requirement already satisfied: ipywidgets in /usr/local/lib/python3.7/dist-packages (from pytorch_tabular) (7.7.0)\n",
            "Collecting einops==0.3.0\n",
            "  Downloading einops-0.3.0-py2.py3-none-any.whl (25 kB)\n",
            "Requirement already satisfied: scipy>=1.0.0 in /usr/local/lib/python3.7/dist-packages (from category-encoders==2.2.2->pytorch_tabular) (1.4.1)\n",
            "Requirement already satisfied: statsmodels>=0.9.0 in /usr/local/lib/python3.7/dist-packages (from category-encoders==2.2.2->pytorch_tabular) (0.10.2)\n",
            "Requirement already satisfied: patsy>=0.5.1 in /usr/local/lib/python3.7/dist-packages (from category-encoders==2.2.2->pytorch_tabular) (0.5.2)\n",
            "Requirement already satisfied: pytz>=2017.2 in /usr/local/lib/python3.7/dist-packages (from pandas==1.1.5->pytorch_tabular) (2022.1)\n",
            "Requirement already satisfied: python-dateutil>=2.7.3 in /usr/local/lib/python3.7/dist-packages (from pandas==1.1.5->pytorch_tabular) (2.8.2)\n",
            "Collecting future>=0.17.1\n",
            "  Downloading future-0.18.2.tar.gz (829 kB)\n",
            "\u001b[K     |████████████████████████████████| 829 kB 62.6 MB/s \n",
            "\u001b[?25hRequirement already satisfied: tqdm>=4.41.0 in /usr/local/lib/python3.7/dist-packages (from pytorch-lightning==1.3.6->pytorch_tabular) (4.64.0)\n",
            "Collecting pyDeprecate==0.3.0\n",
            "  Downloading pyDeprecate-0.3.0-py3-none-any.whl (10 kB)\n",
            "Collecting fsspec[http]!=2021.06.0,>=2021.05.0\n",
            "  Downloading fsspec-2022.3.0-py3-none-any.whl (136 kB)\n",
            "\u001b[K     |████████████████████████████████| 136 kB 68.6 MB/s \n",
            "\u001b[?25hCollecting PyYAML>=5.1.*\n",
            "  Downloading PyYAML-5.4.1-cp37-cp37m-manylinux1_x86_64.whl (636 kB)\n",
            "\u001b[K     |████████████████████████████████| 636 kB 63.3 MB/s \n",
            "\u001b[?25hRequirement already satisfied: packaging in /usr/local/lib/python3.7/dist-packages (from pytorch-lightning==1.3.6->pytorch_tabular) (21.3)\n",
            "Collecting aiohttp\n",
            "  Downloading aiohttp-3.8.1-cp37-cp37m-manylinux_2_5_x86_64.manylinux1_x86_64.manylinux_2_12_x86_64.manylinux2010_x86_64.whl (1.1 MB)\n",
            "\u001b[K     |████████████████████████████████| 1.1 MB 44.4 MB/s \n",
            "\u001b[?25hRequirement already satisfied: requests in /usr/local/lib/python3.7/dist-packages (from fsspec[http]!=2021.06.0,>=2021.05.0->pytorch-lightning==1.3.6->pytorch_tabular) (2.23.0)\n",
            "Requirement already satisfied: kiwisolver>=1.0.1 in /usr/local/lib/python3.7/dist-packages (from matplotlib>3.1->pytorch_tabular) (1.4.2)\n",
            "Requirement already satisfied: pyparsing!=2.0.4,!=2.1.2,!=2.1.6,>=2.0.1 in /usr/local/lib/python3.7/dist-packages (from matplotlib>3.1->pytorch_tabular) (3.0.9)\n",
            "Requirement already satisfied: cycler>=0.10 in /usr/local/lib/python3.7/dist-packages (from matplotlib>3.1->pytorch_tabular) (0.11.0)\n",
            "Requirement already satisfied: typing-extensions in /usr/local/lib/python3.7/dist-packages (from kiwisolver>=1.0.1->matplotlib>3.1->pytorch_tabular) (4.2.0)\n",
            "Collecting antlr4-python3-runtime==4.9.*\n",
            "  Downloading antlr4-python3-runtime-4.9.3.tar.gz (117 kB)\n",
            "\u001b[K     |████████████████████████████████| 117 kB 69.7 MB/s \n",
            "\u001b[?25hRequirement already satisfied: six in /usr/local/lib/python3.7/dist-packages (from patsy>=0.5.1->category-encoders==2.2.2->pytorch_tabular) (1.15.0)\n",
            "Requirement already satisfied: joblib>=0.11 in /usr/local/lib/python3.7/dist-packages (from scikit-learn>=0.23.2->pytorch_tabular) (1.1.0)\n",
            "Requirement already satisfied: threadpoolctl>=2.0.0 in /usr/local/lib/python3.7/dist-packages (from scikit-learn>=0.23.2->pytorch_tabular) (3.1.0)\n",
            "Requirement already satisfied: wheel>=0.26 in /usr/local/lib/python3.7/dist-packages (from tensorboard!=2.5.0,>=2.2.0->pytorch_tabular) (0.37.1)\n",
            "Requirement already satisfied: tensorboard-plugin-wit>=1.6.0 in /usr/local/lib/python3.7/dist-packages (from tensorboard!=2.5.0,>=2.2.0->pytorch_tabular) (1.8.1)\n",
            "Requirement already satisfied: absl-py>=0.4 in /usr/local/lib/python3.7/dist-packages (from tensorboard!=2.5.0,>=2.2.0->pytorch_tabular) (1.0.0)\n",
            "Requirement already satisfied: werkzeug>=0.11.15 in /usr/local/lib/python3.7/dist-packages (from tensorboard!=2.5.0,>=2.2.0->pytorch_tabular) (1.0.1)\n",
            "Requirement already satisfied: tensorboard-data-server<0.7.0,>=0.6.0 in /usr/local/lib/python3.7/dist-packages (from tensorboard!=2.5.0,>=2.2.0->pytorch_tabular) (0.6.1)\n",
            "Requirement already satisfied: protobuf>=3.6.0 in /usr/local/lib/python3.7/dist-packages (from tensorboard!=2.5.0,>=2.2.0->pytorch_tabular) (3.17.3)\n",
            "Requirement already satisfied: grpcio>=1.24.3 in /usr/local/lib/python3.7/dist-packages (from tensorboard!=2.5.0,>=2.2.0->pytorch_tabular) (1.46.1)\n",
            "Requirement already satisfied: google-auth-oauthlib<0.5,>=0.4.1 in /usr/local/lib/python3.7/dist-packages (from tensorboard!=2.5.0,>=2.2.0->pytorch_tabular) (0.4.6)\n",
            "Requirement already satisfied: setuptools>=41.0.0 in /usr/local/lib/python3.7/dist-packages (from tensorboard!=2.5.0,>=2.2.0->pytorch_tabular) (57.4.0)\n",
            "Requirement already satisfied: google-auth<3,>=1.6.3 in /usr/local/lib/python3.7/dist-packages (from tensorboard!=2.5.0,>=2.2.0->pytorch_tabular) (1.35.0)\n",
            "Requirement already satisfied: markdown>=2.6.8 in /usr/local/lib/python3.7/dist-packages (from tensorboard!=2.5.0,>=2.2.0->pytorch_tabular) (3.3.7)\n",
            "Requirement already satisfied: rsa<5,>=3.1.4 in /usr/local/lib/python3.7/dist-packages (from google-auth<3,>=1.6.3->tensorboard!=2.5.0,>=2.2.0->pytorch_tabular) (4.8)\n",
            "Requirement already satisfied: cachetools<5.0,>=2.0.0 in /usr/local/lib/python3.7/dist-packages (from google-auth<3,>=1.6.3->tensorboard!=2.5.0,>=2.2.0->pytorch_tabular) (4.2.4)\n",
            "Requirement already satisfied: pyasn1-modules>=0.2.1 in /usr/local/lib/python3.7/dist-packages (from google-auth<3,>=1.6.3->tensorboard!=2.5.0,>=2.2.0->pytorch_tabular) (0.2.8)\n",
            "Requirement already satisfied: requests-oauthlib>=0.7.0 in /usr/local/lib/python3.7/dist-packages (from google-auth-oauthlib<0.5,>=0.4.1->tensorboard!=2.5.0,>=2.2.0->pytorch_tabular) (1.3.1)\n",
            "Requirement already satisfied: importlib-metadata>=4.4 in /usr/local/lib/python3.7/dist-packages (from markdown>=2.6.8->tensorboard!=2.5.0,>=2.2.0->pytorch_tabular) (4.11.3)\n",
            "Requirement already satisfied: zipp>=0.5 in /usr/local/lib/python3.7/dist-packages (from importlib-metadata>=4.4->markdown>=2.6.8->tensorboard!=2.5.0,>=2.2.0->pytorch_tabular) (3.8.0)\n",
            "Requirement already satisfied: pyasn1<0.5.0,>=0.4.6 in /usr/local/lib/python3.7/dist-packages (from pyasn1-modules>=0.2.1->google-auth<3,>=1.6.3->tensorboard!=2.5.0,>=2.2.0->pytorch_tabular) (0.4.8)\n",
            "Requirement already satisfied: certifi>=2017.4.17 in /usr/local/lib/python3.7/dist-packages (from requests->fsspec[http]!=2021.06.0,>=2021.05.0->pytorch-lightning==1.3.6->pytorch_tabular) (2021.10.8)\n",
            "Requirement already satisfied: idna<3,>=2.5 in /usr/local/lib/python3.7/dist-packages (from requests->fsspec[http]!=2021.06.0,>=2021.05.0->pytorch-lightning==1.3.6->pytorch_tabular) (2.10)\n",
            "Requirement already satisfied: urllib3!=1.25.0,!=1.25.1,<1.26,>=1.21.1 in /usr/local/lib/python3.7/dist-packages (from requests->fsspec[http]!=2021.06.0,>=2021.05.0->pytorch-lightning==1.3.6->pytorch_tabular) (1.24.3)\n",
            "Requirement already satisfied: chardet<4,>=3.0.2 in /usr/local/lib/python3.7/dist-packages (from requests->fsspec[http]!=2021.06.0,>=2021.05.0->pytorch-lightning==1.3.6->pytorch_tabular) (3.0.4)\n",
            "Requirement already satisfied: oauthlib>=3.0.0 in /usr/local/lib/python3.7/dist-packages (from requests-oauthlib>=0.7.0->google-auth-oauthlib<0.5,>=0.4.1->tensorboard!=2.5.0,>=2.2.0->pytorch_tabular) (3.2.0)\n",
            "Collecting aiosignal>=1.1.2\n",
            "  Downloading aiosignal-1.2.0-py3-none-any.whl (8.2 kB)\n",
            "Requirement already satisfied: charset-normalizer<3.0,>=2.0 in /usr/local/lib/python3.7/dist-packages (from aiohttp->fsspec[http]!=2021.06.0,>=2021.05.0->pytorch-lightning==1.3.6->pytorch_tabular) (2.0.12)\n",
            "Collecting frozenlist>=1.1.1\n",
            "  Downloading frozenlist-1.3.0-cp37-cp37m-manylinux_2_5_x86_64.manylinux1_x86_64.manylinux_2_17_x86_64.manylinux2014_x86_64.whl (144 kB)\n",
            "\u001b[K     |████████████████████████████████| 144 kB 75.1 MB/s \n",
            "\u001b[?25hCollecting asynctest==0.13.0\n",
            "  Downloading asynctest-0.13.0-py3-none-any.whl (26 kB)\n",
            "Collecting multidict<7.0,>=4.5\n",
            "  Downloading multidict-6.0.2-cp37-cp37m-manylinux_2_17_x86_64.manylinux2014_x86_64.whl (94 kB)\n",
            "\u001b[K     |████████████████████████████████| 94 kB 1.8 MB/s \n",
            "\u001b[?25hCollecting yarl<2.0,>=1.0\n",
            "  Downloading yarl-1.7.2-cp37-cp37m-manylinux_2_5_x86_64.manylinux1_x86_64.manylinux_2_12_x86_64.manylinux2010_x86_64.whl (271 kB)\n",
            "\u001b[K     |████████████████████████████████| 271 kB 66.1 MB/s \n",
            "\u001b[?25hRequirement already satisfied: attrs>=17.3.0 in /usr/local/lib/python3.7/dist-packages (from aiohttp->fsspec[http]!=2021.06.0,>=2021.05.0->pytorch-lightning==1.3.6->pytorch_tabular) (21.4.0)\n",
            "Collecting async-timeout<5.0,>=4.0.0a3\n",
            "  Downloading async_timeout-4.0.2-py3-none-any.whl (5.8 kB)\n",
            "Requirement already satisfied: traitlets>=4.3.1 in /usr/local/lib/python3.7/dist-packages (from ipywidgets->pytorch_tabular) (5.2.0)\n",
            "Requirement already satisfied: ipython-genutils~=0.2.0 in /usr/local/lib/python3.7/dist-packages (from ipywidgets->pytorch_tabular) (0.2.0)\n",
            "Requirement already satisfied: jupyterlab-widgets>=1.0.0 in /usr/local/lib/python3.7/dist-packages (from ipywidgets->pytorch_tabular) (1.1.0)\n",
            "Requirement already satisfied: widgetsnbextension~=3.6.0 in /usr/local/lib/python3.7/dist-packages (from ipywidgets->pytorch_tabular) (3.6.0)\n",
            "Requirement already satisfied: nbformat>=4.2.0 in /usr/local/lib/python3.7/dist-packages (from ipywidgets->pytorch_tabular) (5.4.0)\n",
            "Requirement already satisfied: ipython>=4.0.0 in /usr/local/lib/python3.7/dist-packages (from ipywidgets->pytorch_tabular) (5.5.0)\n",
            "Requirement already satisfied: ipykernel>=4.5.1 in /usr/local/lib/python3.7/dist-packages (from ipywidgets->pytorch_tabular) (4.10.1)\n",
            "Requirement already satisfied: jupyter-client in /usr/local/lib/python3.7/dist-packages (from ipykernel>=4.5.1->ipywidgets->pytorch_tabular) (5.3.5)\n",
            "Requirement already satisfied: tornado>=4.0 in /usr/local/lib/python3.7/dist-packages (from ipykernel>=4.5.1->ipywidgets->pytorch_tabular) (5.1.1)\n",
            "Requirement already satisfied: pickleshare in /usr/local/lib/python3.7/dist-packages (from ipython>=4.0.0->ipywidgets->pytorch_tabular) (0.7.5)\n",
            "Requirement already satisfied: prompt-toolkit<2.0.0,>=1.0.4 in /usr/local/lib/python3.7/dist-packages (from ipython>=4.0.0->ipywidgets->pytorch_tabular) (1.0.18)\n",
            "Requirement already satisfied: decorator in /usr/local/lib/python3.7/dist-packages (from ipython>=4.0.0->ipywidgets->pytorch_tabular) (4.4.2)\n",
            "Requirement already satisfied: pygments in /usr/local/lib/python3.7/dist-packages (from ipython>=4.0.0->ipywidgets->pytorch_tabular) (2.6.1)\n",
            "Requirement already satisfied: simplegeneric>0.8 in /usr/local/lib/python3.7/dist-packages (from ipython>=4.0.0->ipywidgets->pytorch_tabular) (0.8.1)\n",
            "Requirement already satisfied: pexpect in /usr/local/lib/python3.7/dist-packages (from ipython>=4.0.0->ipywidgets->pytorch_tabular) (4.8.0)\n",
            "Requirement already satisfied: fastjsonschema in /usr/local/lib/python3.7/dist-packages (from nbformat>=4.2.0->ipywidgets->pytorch_tabular) (2.15.3)\n",
            "Requirement already satisfied: jupyter-core in /usr/local/lib/python3.7/dist-packages (from nbformat>=4.2.0->ipywidgets->pytorch_tabular) (4.10.0)\n",
            "Requirement already satisfied: jsonschema>=2.6 in /usr/local/lib/python3.7/dist-packages (from nbformat>=4.2.0->ipywidgets->pytorch_tabular) (4.3.3)\n",
            "Requirement already satisfied: importlib-resources>=1.4.0 in /usr/local/lib/python3.7/dist-packages (from jsonschema>=2.6->nbformat>=4.2.0->ipywidgets->pytorch_tabular) (5.7.1)\n",
            "Requirement already satisfied: pyrsistent!=0.17.0,!=0.17.1,!=0.17.2,>=0.14.0 in /usr/local/lib/python3.7/dist-packages (from jsonschema>=2.6->nbformat>=4.2.0->ipywidgets->pytorch_tabular) (0.18.1)\n",
            "Requirement already satisfied: wcwidth in /usr/local/lib/python3.7/dist-packages (from prompt-toolkit<2.0.0,>=1.0.4->ipython>=4.0.0->ipywidgets->pytorch_tabular) (0.2.5)\n",
            "Requirement already satisfied: notebook>=4.4.1 in /usr/local/lib/python3.7/dist-packages (from widgetsnbextension~=3.6.0->ipywidgets->pytorch_tabular) (5.3.1)\n",
            "Requirement already satisfied: Send2Trash in /usr/local/lib/python3.7/dist-packages (from notebook>=4.4.1->widgetsnbextension~=3.6.0->ipywidgets->pytorch_tabular) (1.8.0)\n",
            "Requirement already satisfied: nbconvert in /usr/local/lib/python3.7/dist-packages (from notebook>=4.4.1->widgetsnbextension~=3.6.0->ipywidgets->pytorch_tabular) (5.6.1)\n",
            "Requirement already satisfied: terminado>=0.8.1 in /usr/local/lib/python3.7/dist-packages (from notebook>=4.4.1->widgetsnbextension~=3.6.0->ipywidgets->pytorch_tabular) (0.13.3)\n",
            "Requirement already satisfied: jinja2 in /usr/local/lib/python3.7/dist-packages (from notebook>=4.4.1->widgetsnbextension~=3.6.0->ipywidgets->pytorch_tabular) (2.11.3)\n",
            "Requirement already satisfied: pyzmq>=13 in /usr/local/lib/python3.7/dist-packages (from jupyter-client->ipykernel>=4.5.1->ipywidgets->pytorch_tabular) (22.3.0)\n",
            "Requirement already satisfied: ptyprocess in /usr/local/lib/python3.7/dist-packages (from terminado>=0.8.1->notebook>=4.4.1->widgetsnbextension~=3.6.0->ipywidgets->pytorch_tabular) (0.7.0)\n",
            "Requirement already satisfied: MarkupSafe>=0.23 in /usr/local/lib/python3.7/dist-packages (from jinja2->notebook>=4.4.1->widgetsnbextension~=3.6.0->ipywidgets->pytorch_tabular) (2.0.1)\n",
            "Requirement already satisfied: pandocfilters>=1.4.1 in /usr/local/lib/python3.7/dist-packages (from nbconvert->notebook>=4.4.1->widgetsnbextension~=3.6.0->ipywidgets->pytorch_tabular) (1.5.0)\n",
            "Requirement already satisfied: bleach in /usr/local/lib/python3.7/dist-packages (from nbconvert->notebook>=4.4.1->widgetsnbextension~=3.6.0->ipywidgets->pytorch_tabular) (5.0.0)\n",
            "Requirement already satisfied: mistune<2,>=0.8.1 in /usr/local/lib/python3.7/dist-packages (from nbconvert->notebook>=4.4.1->widgetsnbextension~=3.6.0->ipywidgets->pytorch_tabular) (0.8.4)\n",
            "Requirement already satisfied: defusedxml in /usr/local/lib/python3.7/dist-packages (from nbconvert->notebook>=4.4.1->widgetsnbextension~=3.6.0->ipywidgets->pytorch_tabular) (0.7.1)\n",
            "Requirement already satisfied: testpath in /usr/local/lib/python3.7/dist-packages (from nbconvert->notebook>=4.4.1->widgetsnbextension~=3.6.0->ipywidgets->pytorch_tabular) (0.6.0)\n",
            "Requirement already satisfied: entrypoints>=0.2.2 in /usr/local/lib/python3.7/dist-packages (from nbconvert->notebook>=4.4.1->widgetsnbextension~=3.6.0->ipywidgets->pytorch_tabular) (0.4)\n",
            "Requirement already satisfied: webencodings in /usr/local/lib/python3.7/dist-packages (from bleach->nbconvert->notebook>=4.4.1->widgetsnbextension~=3.6.0->ipywidgets->pytorch_tabular) (0.5.1)\n",
            "Building wheels for collected packages: pytorch-tabular, future, antlr4-python3-runtime\n",
            "  Building wheel for pytorch-tabular (setup.py) ... \u001b[?25l\u001b[?25hdone\n",
            "  Created wheel for pytorch-tabular: filename=pytorch_tabular-0.7.0-py2.py3-none-any.whl size=83790 sha256=866030d6cff01cf50fcf04993b9f412bcc4ee17fda7bd76560b914e4d5581691\n",
            "  Stored in directory: /root/.cache/pip/wheels/39/a8/39/0450c2a84e019ed5c8a2d36913c72b93371c452e98bf3e661a\n",
            "  Building wheel for future (setup.py) ... \u001b[?25l\u001b[?25hdone\n",
            "  Created wheel for future: filename=future-0.18.2-py3-none-any.whl size=491070 sha256=c1793147d8c8107c563073aa82f248d3b9a06acf4eaec0f61a7311ce854954f4\n",
            "  Stored in directory: /root/.cache/pip/wheels/56/b0/fe/4410d17b32f1f0c3cf54cdfb2bc04d7b4b8f4ae377e2229ba0\n",
            "  Building wheel for antlr4-python3-runtime (setup.py) ... \u001b[?25l\u001b[?25hdone\n",
            "  Created wheel for antlr4-python3-runtime: filename=antlr4_python3_runtime-4.9.3-py3-none-any.whl size=144575 sha256=23420e0fc0d8d635b2d320516296ab36bc39b718b0c7528157e87c81cc5663f2\n",
            "  Stored in directory: /root/.cache/pip/wheels/8b/8d/53/2af8772d9aec614e3fc65e53d4a993ad73c61daa8bbd85a873\n",
            "Successfully built pytorch-tabular future antlr4-python3-runtime\n",
            "Installing collected packages: multidict, frozenlist, yarl, asynctest, async-timeout, aiosignal, pyDeprecate, pandas, fsspec, aiohttp, torchmetrics, PyYAML, future, antlr4-python3-runtime, pytorch-tabnet, pytorch-lightning, omegaconf, einops, category-encoders, pytorch-tabular\n",
            "  Attempting uninstall: pandas\n",
            "    Found existing installation: pandas 1.3.5\n",
            "    Uninstalling pandas-1.3.5:\n",
            "      Successfully uninstalled pandas-1.3.5\n",
            "  Attempting uninstall: PyYAML\n",
            "    Found existing installation: PyYAML 3.13\n",
            "    Uninstalling PyYAML-3.13:\n",
            "      Successfully uninstalled PyYAML-3.13\n",
            "  Attempting uninstall: future\n",
            "    Found existing installation: future 0.16.0\n",
            "    Uninstalling future-0.16.0:\n",
            "      Successfully uninstalled future-0.16.0\n",
            "  Attempting uninstall: pytorch-tabnet\n",
            "    Found existing installation: pytorch-tabnet 3.1.1\n",
            "    Uninstalling pytorch-tabnet-3.1.1:\n",
            "      Successfully uninstalled pytorch-tabnet-3.1.1\n",
            "Successfully installed PyYAML-5.4.1 aiohttp-3.8.1 aiosignal-1.2.0 antlr4-python3-runtime-4.9.3 async-timeout-4.0.2 asynctest-0.13.0 category-encoders-2.2.2 einops-0.3.0 frozenlist-1.3.0 fsspec-2022.3.0 future-0.18.2 multidict-6.0.2 omegaconf-2.2.1 pandas-1.1.5 pyDeprecate-0.3.0 pytorch-lightning-1.3.6 pytorch-tabnet-3.0.0 pytorch-tabular-0.7.0 torchmetrics-0.8.2 yarl-1.7.2\n"
          ]
        },
        {
          "output_type": "display_data",
          "data": {
            "application/vnd.colab-display-data+json": {
              "pip_warning": {
                "packages": [
                  "pydevd_plugins"
                ]
              }
            }
          },
          "metadata": {}
        },
        {
          "output_type": "stream",
          "name": "stdout",
          "text": [
            "Collecting catboost\n",
            "  Downloading catboost-1.0.5-cp37-none-manylinux1_x86_64.whl (76.6 MB)\n",
            "\u001b[K     |████████████████████████████████| 76.6 MB 1.2 MB/s \n",
            "\u001b[?25hRequirement already satisfied: plotly in /usr/local/lib/python3.7/dist-packages (from catboost) (5.5.0)\n",
            "Requirement already satisfied: pandas>=0.24.0 in /usr/local/lib/python3.7/dist-packages (from catboost) (1.1.5)\n",
            "Requirement already satisfied: six in /usr/local/lib/python3.7/dist-packages (from catboost) (1.15.0)\n",
            "Requirement already satisfied: scipy in /usr/local/lib/python3.7/dist-packages (from catboost) (1.4.1)\n",
            "Requirement already satisfied: numpy>=1.16.0 in /usr/local/lib/python3.7/dist-packages (from catboost) (1.21.6)\n",
            "Requirement already satisfied: matplotlib in /usr/local/lib/python3.7/dist-packages (from catboost) (3.2.2)\n",
            "Requirement already satisfied: graphviz in /usr/local/lib/python3.7/dist-packages (from catboost) (0.10.1)\n",
            "Requirement already satisfied: python-dateutil>=2.7.3 in /usr/local/lib/python3.7/dist-packages (from pandas>=0.24.0->catboost) (2.8.2)\n",
            "Requirement already satisfied: pytz>=2017.2 in /usr/local/lib/python3.7/dist-packages (from pandas>=0.24.0->catboost) (2022.1)\n",
            "Requirement already satisfied: kiwisolver>=1.0.1 in /usr/local/lib/python3.7/dist-packages (from matplotlib->catboost) (1.4.2)\n",
            "Requirement already satisfied: pyparsing!=2.0.4,!=2.1.2,!=2.1.6,>=2.0.1 in /usr/local/lib/python3.7/dist-packages (from matplotlib->catboost) (3.0.9)\n",
            "Requirement already satisfied: cycler>=0.10 in /usr/local/lib/python3.7/dist-packages (from matplotlib->catboost) (0.11.0)\n",
            "Requirement already satisfied: typing-extensions in /usr/local/lib/python3.7/dist-packages (from kiwisolver>=1.0.1->matplotlib->catboost) (4.2.0)\n",
            "Requirement already satisfied: tenacity>=6.2.0 in /usr/local/lib/python3.7/dist-packages (from plotly->catboost) (8.0.1)\n",
            "Installing collected packages: catboost\n",
            "Successfully installed catboost-1.0.5\n",
            "Collecting deeptables\n",
            "  Downloading deeptables-0.2.3.1-py3-none-any.whl (832 kB)\n",
            "\u001b[K     |████████████████████████████████| 832 kB 13.6 MB/s \n",
            "\u001b[?25hCollecting h5py==2.10.0\n",
            "  Downloading h5py-2.10.0-cp37-cp37m-manylinux1_x86_64.whl (2.9 MB)\n",
            "\u001b[K     |████████████████████████████████| 2.9 MB 72.5 MB/s \n",
            "\u001b[?25hRequirement already satisfied: packaging in /usr/local/lib/python3.7/dist-packages (from deeptables) (21.3)\n",
            "Requirement already satisfied: lightgbm>=2.2.0 in /usr/local/lib/python3.7/dist-packages (from deeptables) (2.2.3)\n",
            "Collecting eli5\n",
            "  Downloading eli5-0.13.0.tar.gz (216 kB)\n",
            "\u001b[K     |████████████████████████████████| 216 kB 68.2 MB/s \n",
            "\u001b[?25hRequirement already satisfied: pandas>=0.25.3 in /usr/local/lib/python3.7/dist-packages (from deeptables) (1.1.5)\n",
            "Requirement already satisfied: scipy>=1.3.1 in /usr/local/lib/python3.7/dist-packages (from deeptables) (1.4.1)\n",
            "Requirement already satisfied: category-encoders>=2.1.0 in /usr/local/lib/python3.7/dist-packages (from deeptables) (2.2.2)\n",
            "Collecting hypernets==0.2.5.1\n",
            "  Downloading hypernets-0.2.5.1-py3-none-any.whl (1.7 MB)\n",
            "\u001b[K     |████████████████████████████████| 1.7 MB 44.1 MB/s \n",
            "\u001b[?25hRequirement already satisfied: scikit-learn>=0.22.1 in /usr/local/lib/python3.7/dist-packages (from deeptables) (1.0.2)\n",
            "Requirement already satisfied: numpy>=1.16.5 in /usr/local/lib/python3.7/dist-packages (from deeptables) (1.21.6)\n",
            "Requirement already satisfied: six in /usr/local/lib/python3.7/dist-packages (from h5py==2.10.0->deeptables) (1.15.0)\n",
            "Collecting python-geohash\n",
            "  Downloading python-geohash-0.8.5.tar.gz (17 kB)\n",
            "Requirement already satisfied: prettytable in /usr/local/lib/python3.7/dist-packages (from hypernets==0.2.5.1->deeptables) (3.3.0)\n",
            "Requirement already satisfied: pyyaml in /usr/local/lib/python3.7/dist-packages (from hypernets==0.2.5.1->deeptables) (5.4.1)\n",
            "Collecting featuretools>=0.23.0\n",
            "  Downloading featuretools-1.9.0-py3-none-any.whl (353 kB)\n",
            "\u001b[K     |████████████████████████████████| 353 kB 64.0 MB/s \n",
            "\u001b[?25hRequirement already satisfied: seaborn>=0.11.0 in /usr/local/lib/python3.7/dist-packages (from hypernets==0.2.5.1->deeptables) (0.11.2)\n",
            "Requirement already satisfied: requests in /usr/local/lib/python3.7/dist-packages (from hypernets==0.2.5.1->deeptables) (2.23.0)\n",
            "Requirement already satisfied: traitlets in /usr/local/lib/python3.7/dist-packages (from hypernets==0.2.5.1->deeptables) (5.2.0)\n",
            "Requirement already satisfied: tornado in /usr/local/lib/python3.7/dist-packages (from hypernets==0.2.5.1->deeptables) (5.1.1)\n",
            "Requirement already satisfied: joblib in /usr/local/lib/python3.7/dist-packages (from hypernets==0.2.5.1->deeptables) (1.1.0)\n",
            "Requirement already satisfied: ipython in /usr/local/lib/python3.7/dist-packages (from hypernets==0.2.5.1->deeptables) (5.5.0)\n",
            "Requirement already satisfied: pyarrow in /usr/local/lib/python3.7/dist-packages (from hypernets==0.2.5.1->deeptables) (6.0.1)\n",
            "Collecting XlsxWriter>=3.0.2\n",
            "  Downloading XlsxWriter-3.0.3-py3-none-any.whl (149 kB)\n",
            "\u001b[K     |████████████████████████████████| 149 kB 65.5 MB/s \n",
            "\u001b[?25hCollecting paramiko\n",
            "  Downloading paramiko-2.11.0-py2.py3-none-any.whl (212 kB)\n",
            "\u001b[K     |████████████████████████████████| 212 kB 64.8 MB/s \n",
            "\u001b[?25hRequirement already satisfied: fsspec>=0.8.0 in /usr/local/lib/python3.7/dist-packages (from hypernets==0.2.5.1->deeptables) (2022.3.0)\n",
            "Requirement already satisfied: psutil in /usr/local/lib/python3.7/dist-packages (from hypernets==0.2.5.1->deeptables) (5.4.8)\n",
            "Requirement already satisfied: statsmodels>=0.9.0 in /usr/local/lib/python3.7/dist-packages (from category-encoders>=2.1.0->deeptables) (0.10.2)\n",
            "Requirement already satisfied: patsy>=0.5.1 in /usr/local/lib/python3.7/dist-packages (from category-encoders>=2.1.0->deeptables) (0.5.2)\n",
            "Collecting distributed>=2021.10.0\n",
            "  Downloading distributed-2022.2.0-py3-none-any.whl (837 kB)\n",
            "\u001b[K     |████████████████████████████████| 837 kB 77.9 MB/s \n",
            "\u001b[?25hRequirement already satisfied: click>=7.0.0 in /usr/local/lib/python3.7/dist-packages (from featuretools>=0.23.0->hypernets==0.2.5.1->deeptables) (7.1.2)\n",
            "Collecting dask[dataframe]>=2021.10.0\n",
            "  Downloading dask-2022.2.0-py3-none-any.whl (1.1 MB)\n",
            "\u001b[K     |████████████████████████████████| 1.1 MB 75.1 MB/s \n",
            "\u001b[?25hCollecting pandas>=0.25.3\n",
            "  Downloading pandas-1.3.5-cp37-cp37m-manylinux_2_17_x86_64.manylinux2014_x86_64.whl (11.3 MB)\n",
            "\u001b[K     |████████████████████████████████| 11.3 MB 66.2 MB/s \n",
            "\u001b[?25hRequirement already satisfied: tqdm>=4.32.0 in /usr/local/lib/python3.7/dist-packages (from featuretools>=0.23.0->hypernets==0.2.5.1->deeptables) (4.64.0)\n",
            "Collecting holidays>=0.13\n",
            "  Downloading holidays-0.13-py3-none-any.whl (172 kB)\n",
            "\u001b[K     |████████████████████████████████| 172 kB 65.5 MB/s \n",
            "\u001b[?25hCollecting cloudpickle>=1.5.0\n",
            "  Downloading cloudpickle-2.0.0-py3-none-any.whl (25 kB)\n",
            "Collecting woodwork>=0.16.2\n",
            "  Downloading woodwork-0.16.3-py3-none-any.whl (207 kB)\n",
            "\u001b[K     |████████████████████████████████| 207 kB 81.0 MB/s \n",
            "\u001b[?25hCollecting psutil\n",
            "  Downloading psutil-5.9.0-cp37-cp37m-manylinux_2_12_x86_64.manylinux2010_x86_64.manylinux_2_17_x86_64.manylinux2014_x86_64.whl (280 kB)\n",
            "\u001b[K     |████████████████████████████████| 280 kB 80.8 MB/s \n",
            "\u001b[?25hRequirement already satisfied: toolz>=0.8.2 in /usr/local/lib/python3.7/dist-packages (from dask[dataframe]>=2021.10.0->featuretools>=0.23.0->hypernets==0.2.5.1->deeptables) (0.11.2)\n",
            "Collecting partd>=0.3.10\n",
            "  Downloading partd-1.2.0-py3-none-any.whl (19 kB)\n",
            "Requirement already satisfied: msgpack>=0.6.0 in /usr/local/lib/python3.7/dist-packages (from distributed>=2021.10.0->featuretools>=0.23.0->hypernets==0.2.5.1->deeptables) (1.0.3)\n",
            "Requirement already satisfied: jinja2 in /usr/local/lib/python3.7/dist-packages (from distributed>=2021.10.0->featuretools>=0.23.0->hypernets==0.2.5.1->deeptables) (2.11.3)\n",
            "Requirement already satisfied: setuptools in /usr/local/lib/python3.7/dist-packages (from distributed>=2021.10.0->featuretools>=0.23.0->hypernets==0.2.5.1->deeptables) (57.4.0)\n",
            "Requirement already satisfied: tblib>=1.6.0 in /usr/local/lib/python3.7/dist-packages (from distributed>=2021.10.0->featuretools>=0.23.0->hypernets==0.2.5.1->deeptables) (1.7.0)\n",
            "Requirement already satisfied: sortedcontainers!=2.0.0,!=2.0.1 in /usr/local/lib/python3.7/dist-packages (from distributed>=2021.10.0->featuretools>=0.23.0->hypernets==0.2.5.1->deeptables) (2.4.0)\n",
            "Requirement already satisfied: zict>=0.1.3 in /usr/local/lib/python3.7/dist-packages (from distributed>=2021.10.0->featuretools>=0.23.0->hypernets==0.2.5.1->deeptables) (2.2.0)\n",
            "Requirement already satisfied: python-dateutil in /usr/local/lib/python3.7/dist-packages (from holidays>=0.13->featuretools>=0.23.0->hypernets==0.2.5.1->deeptables) (2.8.2)\n",
            "Requirement already satisfied: korean-lunar-calendar in /usr/local/lib/python3.7/dist-packages (from holidays>=0.13->featuretools>=0.23.0->hypernets==0.2.5.1->deeptables) (0.2.1)\n",
            "Requirement already satisfied: hijri-converter in /usr/local/lib/python3.7/dist-packages (from holidays>=0.13->featuretools>=0.23.0->hypernets==0.2.5.1->deeptables) (2.2.3)\n",
            "Requirement already satisfied: convertdate>=2.3.0 in /usr/local/lib/python3.7/dist-packages (from holidays>=0.13->featuretools>=0.23.0->hypernets==0.2.5.1->deeptables) (2.4.0)\n",
            "Requirement already satisfied: pymeeus<=1,>=0.3.13 in /usr/local/lib/python3.7/dist-packages (from convertdate>=2.3.0->holidays>=0.13->featuretools>=0.23.0->hypernets==0.2.5.1->deeptables) (0.5.11)\n",
            "Requirement already satisfied: pyparsing!=3.0.5,>=2.0.2 in /usr/local/lib/python3.7/dist-packages (from packaging->deeptables) (3.0.9)\n",
            "Requirement already satisfied: pytz>=2017.3 in /usr/local/lib/python3.7/dist-packages (from pandas>=0.25.3->deeptables) (2022.1)\n",
            "Collecting locket\n",
            "  Downloading locket-1.0.0-py2.py3-none-any.whl (4.4 kB)\n",
            "Requirement already satisfied: threadpoolctl>=2.0.0 in /usr/local/lib/python3.7/dist-packages (from scikit-learn>=0.22.1->deeptables) (3.1.0)\n",
            "Requirement already satisfied: matplotlib>=2.2 in /usr/local/lib/python3.7/dist-packages (from seaborn>=0.11.0->hypernets==0.2.5.1->deeptables) (3.2.2)\n",
            "Requirement already satisfied: cycler>=0.10 in /usr/local/lib/python3.7/dist-packages (from matplotlib>=2.2->seaborn>=0.11.0->hypernets==0.2.5.1->deeptables) (0.11.0)\n",
            "Requirement already satisfied: kiwisolver>=1.0.1 in /usr/local/lib/python3.7/dist-packages (from matplotlib>=2.2->seaborn>=0.11.0->hypernets==0.2.5.1->deeptables) (1.4.2)\n",
            "Requirement already satisfied: typing-extensions in /usr/local/lib/python3.7/dist-packages (from kiwisolver>=1.0.1->matplotlib>=2.2->seaborn>=0.11.0->hypernets==0.2.5.1->deeptables) (4.2.0)\n",
            "Requirement already satisfied: heapdict in /usr/local/lib/python3.7/dist-packages (from zict>=0.1.3->distributed>=2021.10.0->featuretools>=0.23.0->hypernets==0.2.5.1->deeptables) (1.0.1)\n",
            "Requirement already satisfied: attrs>17.1.0 in /usr/local/lib/python3.7/dist-packages (from eli5->deeptables) (21.4.0)\n",
            "Collecting jinja2\n",
            "  Downloading Jinja2-3.1.2-py3-none-any.whl (133 kB)\n",
            "\u001b[K     |████████████████████████████████| 133 kB 69.0 MB/s \n",
            "\u001b[?25hRequirement already satisfied: graphviz in /usr/local/lib/python3.7/dist-packages (from eli5->deeptables) (0.10.1)\n",
            "Requirement already satisfied: tabulate>=0.7.7 in /usr/local/lib/python3.7/dist-packages (from eli5->deeptables) (0.8.9)\n",
            "Requirement already satisfied: MarkupSafe>=2.0 in /usr/local/lib/python3.7/dist-packages (from jinja2->distributed>=2021.10.0->featuretools>=0.23.0->hypernets==0.2.5.1->deeptables) (2.0.1)\n",
            "Requirement already satisfied: prompt-toolkit<2.0.0,>=1.0.4 in /usr/local/lib/python3.7/dist-packages (from ipython->hypernets==0.2.5.1->deeptables) (1.0.18)\n",
            "Requirement already satisfied: pygments in /usr/local/lib/python3.7/dist-packages (from ipython->hypernets==0.2.5.1->deeptables) (2.6.1)\n",
            "Requirement already satisfied: pickleshare in /usr/local/lib/python3.7/dist-packages (from ipython->hypernets==0.2.5.1->deeptables) (0.7.5)\n",
            "Requirement already satisfied: pexpect in /usr/local/lib/python3.7/dist-packages (from ipython->hypernets==0.2.5.1->deeptables) (4.8.0)\n",
            "Requirement already satisfied: decorator in /usr/local/lib/python3.7/dist-packages (from ipython->hypernets==0.2.5.1->deeptables) (4.4.2)\n",
            "Requirement already satisfied: simplegeneric>0.8 in /usr/local/lib/python3.7/dist-packages (from ipython->hypernets==0.2.5.1->deeptables) (0.8.1)\n",
            "Requirement already satisfied: wcwidth in /usr/local/lib/python3.7/dist-packages (from prompt-toolkit<2.0.0,>=1.0.4->ipython->hypernets==0.2.5.1->deeptables) (0.2.5)\n",
            "Collecting bcrypt>=3.1.3\n",
            "  Downloading bcrypt-3.2.2-cp36-abi3-manylinux_2_17_x86_64.manylinux2014_x86_64.manylinux_2_24_x86_64.whl (62 kB)\n",
            "\u001b[K     |████████████████████████████████| 62 kB 749 kB/s \n",
            "\u001b[?25hCollecting cryptography>=2.5\n",
            "  Downloading cryptography-37.0.2-cp36-abi3-manylinux_2_24_x86_64.whl (4.0 MB)\n",
            "\u001b[K     |████████████████████████████████| 4.0 MB 52.0 MB/s \n",
            "\u001b[?25hCollecting pynacl>=1.0.1\n",
            "  Downloading PyNaCl-1.5.0-cp36-abi3-manylinux_2_17_x86_64.manylinux2014_x86_64.manylinux_2_24_x86_64.whl (856 kB)\n",
            "\u001b[K     |████████████████████████████████| 856 kB 65.0 MB/s \n",
            "\u001b[?25hRequirement already satisfied: cffi>=1.1 in /usr/local/lib/python3.7/dist-packages (from bcrypt>=3.1.3->paramiko->hypernets==0.2.5.1->deeptables) (1.15.0)\n",
            "Requirement already satisfied: pycparser in /usr/local/lib/python3.7/dist-packages (from cffi>=1.1->bcrypt>=3.1.3->paramiko->hypernets==0.2.5.1->deeptables) (2.21)\n",
            "Requirement already satisfied: ptyprocess>=0.5 in /usr/local/lib/python3.7/dist-packages (from pexpect->ipython->hypernets==0.2.5.1->deeptables) (0.7.0)\n",
            "Requirement already satisfied: importlib-metadata in /usr/local/lib/python3.7/dist-packages (from prettytable->hypernets==0.2.5.1->deeptables) (4.11.3)\n",
            "Requirement already satisfied: zipp>=0.5 in /usr/local/lib/python3.7/dist-packages (from importlib-metadata->prettytable->hypernets==0.2.5.1->deeptables) (3.8.0)\n",
            "Requirement already satisfied: chardet<4,>=3.0.2 in /usr/local/lib/python3.7/dist-packages (from requests->hypernets==0.2.5.1->deeptables) (3.0.4)\n",
            "Requirement already satisfied: idna<3,>=2.5 in /usr/local/lib/python3.7/dist-packages (from requests->hypernets==0.2.5.1->deeptables) (2.10)\n",
            "Requirement already satisfied: certifi>=2017.4.17 in /usr/local/lib/python3.7/dist-packages (from requests->hypernets==0.2.5.1->deeptables) (2021.10.8)\n",
            "Requirement already satisfied: urllib3!=1.25.0,!=1.25.1,<1.26,>=1.21.1 in /usr/local/lib/python3.7/dist-packages (from requests->hypernets==0.2.5.1->deeptables) (1.24.3)\n",
            "Building wheels for collected packages: eli5, python-geohash\n",
            "  Building wheel for eli5 (setup.py) ... \u001b[?25l\u001b[?25hdone\n",
            "  Created wheel for eli5: filename=eli5-0.13.0-py2.py3-none-any.whl size=107748 sha256=05846b4cab7a00bc5ef16cf6fc7a8bad606fe4822b61e41219fae1d9ad82bcda\n",
            "  Stored in directory: /root/.cache/pip/wheels/cc/3c/96/3ead31a8e6c20fc0f1a707fde2e05d49a80b1b4b30096573be\n",
            "  Building wheel for python-geohash (setup.py) ... \u001b[?25l\u001b[?25hdone\n",
            "  Created wheel for python-geohash: filename=python_geohash-0.8.5-cp37-cp37m-linux_x86_64.whl size=44801 sha256=7728fff551f0bc2929f2a534b617f70d3a8f55a2f79041e9df532e37b1d94c5c\n",
            "  Stored in directory: /root/.cache/pip/wheels/ea/62/7a/e8b943f1d8025cd93a93928a162319e56843301c8c06610ffe\n",
            "Successfully built eli5 python-geohash\n",
            "Installing collected packages: locket, partd, cloudpickle, psutil, pandas, jinja2, dask, woodwork, pynacl, holidays, distributed, cryptography, bcrypt, XlsxWriter, python-geohash, paramiko, featuretools, hypernets, h5py, eli5, deeptables\n",
            "  Attempting uninstall: cloudpickle\n",
            "    Found existing installation: cloudpickle 1.3.0\n",
            "    Uninstalling cloudpickle-1.3.0:\n",
            "      Successfully uninstalled cloudpickle-1.3.0\n",
            "  Attempting uninstall: psutil\n",
            "    Found existing installation: psutil 5.4.8\n",
            "    Uninstalling psutil-5.4.8:\n",
            "      Successfully uninstalled psutil-5.4.8\n",
            "  Attempting uninstall: pandas\n",
            "    Found existing installation: pandas 1.1.5\n",
            "    Uninstalling pandas-1.1.5:\n",
            "      Successfully uninstalled pandas-1.1.5\n",
            "  Attempting uninstall: jinja2\n",
            "    Found existing installation: Jinja2 2.11.3\n",
            "    Uninstalling Jinja2-2.11.3:\n",
            "      Successfully uninstalled Jinja2-2.11.3\n",
            "  Attempting uninstall: dask\n",
            "    Found existing installation: dask 2.12.0\n",
            "    Uninstalling dask-2.12.0:\n",
            "      Successfully uninstalled dask-2.12.0\n",
            "  Attempting uninstall: holidays\n",
            "    Found existing installation: holidays 0.10.5.2\n",
            "    Uninstalling holidays-0.10.5.2:\n",
            "      Successfully uninstalled holidays-0.10.5.2\n",
            "  Attempting uninstall: distributed\n",
            "    Found existing installation: distributed 1.25.3\n",
            "    Uninstalling distributed-1.25.3:\n",
            "      Successfully uninstalled distributed-1.25.3\n",
            "  Attempting uninstall: h5py\n",
            "    Found existing installation: h5py 3.1.0\n",
            "    Uninstalling h5py-3.1.0:\n",
            "      Successfully uninstalled h5py-3.1.0\n",
            "\u001b[31mERROR: pip's dependency resolver does not currently take into account all the packages that are installed. This behaviour is the source of the following dependency conflicts.\n",
            "tensorflow 2.8.0+zzzcolab20220506162203 requires tf-estimator-nightly==2.8.0.dev2021122109, which is not installed.\n",
            "pytorch-tabular 0.7.0 requires pandas==1.1.5, but you have pandas 1.3.5 which is incompatible.\n",
            "gym 0.17.3 requires cloudpickle<1.7.0,>=1.2.0, but you have cloudpickle 2.0.0 which is incompatible.\n",
            "flask 1.1.4 requires Jinja2<3.0,>=2.10.1, but you have jinja2 3.1.2 which is incompatible.\n",
            "datascience 0.10.6 requires folium==0.2.1, but you have folium 0.8.3 which is incompatible.\u001b[0m\n",
            "Successfully installed XlsxWriter-3.0.3 bcrypt-3.2.2 cloudpickle-2.0.0 cryptography-37.0.2 dask-2022.2.0 deeptables-0.2.3.1 distributed-2022.2.0 eli5-0.13.0 featuretools-1.9.0 h5py-2.10.0 holidays-0.13 hypernets-0.2.5.1 jinja2-3.1.2 locket-1.0.0 pandas-1.3.5 paramiko-2.11.0 partd-1.2.0 psutil-5.9.0 pynacl-1.5.0 python-geohash-0.8.5 woodwork-0.16.3\n"
          ]
        },
        {
          "output_type": "display_data",
          "data": {
            "application/vnd.colab-display-data+json": {
              "pip_warning": {
                "packages": [
                  "psutil"
                ]
              }
            }
          },
          "metadata": {}
        }
      ]
    },
    {
      "cell_type": "code",
      "execution_count": 7,
      "id": "2067e91b",
      "metadata": {
        "id": "2067e91b"
      },
      "outputs": [],
      "source": [
        "import warnings\n",
        "warnings.filterwarnings('ignore')\n",
        "\n",
        "from pytorch_tabnet.tab_model import TabNetClassifier, TabNetRegressor\n",
        "import numpy as np\n",
        "import pandas as pd\n",
        "from sklearn.preprocessing import StandardScaler\n",
        "from sklearn.model_selection import train_test_split\n",
        "\n",
        "\n",
        "from sklearn.metrics import accuracy_score, balanced_accuracy_score\n",
        "from sklearn.metrics import classification_report\n",
        "import pickle\n",
        "from sklearn.metrics import precision_recall_fscore_support\n",
        "# build the lightgbm model\n",
        "import lightgbm as lgb\n",
        "\n",
        "from catboost import CatBoostClassifier, Pool\n",
        "from hyperopt import fmin, hp, tpe\n",
        "import pandas as pd\n",
        "from sklearn.model_selection import StratifiedKFold\n",
        "\n",
        "import numpy as np\n",
        "from deeptables.models import deeptable, deepnets\n",
        "from deeptables.datasets import dsutils\n",
        "from sklearn.model_selection import train_test_split"
      ]
    },
    {
      "cell_type": "code",
      "source": [
        "!pip  install wget"
      ],
      "metadata": {
        "colab": {
          "base_uri": "https://localhost:8080/"
        },
        "id": "_LbTk6Ie3RVQ",
        "outputId": "51c417ec-15b8-44f6-a7f0-24ff52587cb4"
      },
      "id": "_LbTk6Ie3RVQ",
      "execution_count": 1,
      "outputs": [
        {
          "output_type": "stream",
          "name": "stdout",
          "text": [
            "Collecting wget\n",
            "  Downloading wget-3.2.zip (10 kB)\n",
            "Building wheels for collected packages: wget\n",
            "  Building wheel for wget (setup.py) ... \u001b[?25l\u001b[?25hdone\n",
            "  Created wheel for wget: filename=wget-3.2-py3-none-any.whl size=9675 sha256=8dfe12f26cf7cd55c78ff8e153a32eb856e92cf6572f44d2b841c464fd0ea106\n",
            "  Stored in directory: /root/.cache/pip/wheels/a1/b6/7c/0e63e34eb06634181c63adacca38b79ff8f35c37e3c13e3c02\n",
            "Successfully built wget\n",
            "Installing collected packages: wget\n",
            "Successfully installed wget-3.2\n"
          ]
        }
      ]
    },
    {
      "cell_type": "code",
      "source": [
        "import wget\n",
        "data = wget.download('https://dl.dropboxusercontent.com/s/iv5lxk1mayst93a/Friday-WorkingHours-Afternoon-DDos.pcap_ISCX.csv?dl=0')"
      ],
      "metadata": {
        "id": "Y5ckmWRD3bnT"
      },
      "id": "Y5ckmWRD3bnT",
      "execution_count": 3,
      "outputs": []
    },
    {
      "cell_type": "markdown",
      "id": "eaccd884",
      "metadata": {
        "id": "eaccd884"
      },
      "source": [
        "# read csv"
      ]
    },
    {
      "cell_type": "code",
      "execution_count": 8,
      "id": "f8cee4fc",
      "metadata": {
        "colab": {
          "base_uri": "https://localhost:8080/",
          "height": 352
        },
        "id": "f8cee4fc",
        "outputId": "59e0f651-f38d-4d65-a03e-26bf6ea81283"
      },
      "outputs": [
        {
          "output_type": "execute_result",
          "data": {
            "text/plain": [
              "    Destination Port   Flow Duration   Total Fwd Packets  \\\n",
              "0              54865               3                   2   \n",
              "1              55054             109                   1   \n",
              "2              55055              52                   1   \n",
              "3              46236              34                   1   \n",
              "4              54863               3                   2   \n",
              "\n",
              "    Total Backward Packets  Total Length of Fwd Packets  \\\n",
              "0                        0                           12   \n",
              "1                        1                            6   \n",
              "2                        1                            6   \n",
              "3                        1                            6   \n",
              "4                        0                           12   \n",
              "\n",
              "    Total Length of Bwd Packets   Fwd Packet Length Max  \\\n",
              "0                             0                       6   \n",
              "1                             6                       6   \n",
              "2                             6                       6   \n",
              "3                             6                       6   \n",
              "4                             0                       6   \n",
              "\n",
              "    Fwd Packet Length Min   Fwd Packet Length Mean   Fwd Packet Length Std  \\\n",
              "0                       6                      6.0                     0.0   \n",
              "1                       6                      6.0                     0.0   \n",
              "2                       6                      6.0                     0.0   \n",
              "3                       6                      6.0                     0.0   \n",
              "4                       6                      6.0                     0.0   \n",
              "\n",
              "   ...   min_seg_size_forward  Active Mean   Active Std   Active Max  \\\n",
              "0  ...                     20          0.0          0.0            0   \n",
              "1  ...                     20          0.0          0.0            0   \n",
              "2  ...                     20          0.0          0.0            0   \n",
              "3  ...                     20          0.0          0.0            0   \n",
              "4  ...                     20          0.0          0.0            0   \n",
              "\n",
              "    Active Min  Idle Mean   Idle Std   Idle Max   Idle Min   Label  \n",
              "0            0        0.0        0.0          0          0  BENIGN  \n",
              "1            0        0.0        0.0          0          0  BENIGN  \n",
              "2            0        0.0        0.0          0          0  BENIGN  \n",
              "3            0        0.0        0.0          0          0  BENIGN  \n",
              "4            0        0.0        0.0          0          0  BENIGN  \n",
              "\n",
              "[5 rows x 79 columns]"
            ],
            "text/html": [
              "\n",
              "  <div id=\"df-a3d75bd0-f6c4-4acb-ae93-5692c7e2403b\">\n",
              "    <div class=\"colab-df-container\">\n",
              "      <div>\n",
              "<style scoped>\n",
              "    .dataframe tbody tr th:only-of-type {\n",
              "        vertical-align: middle;\n",
              "    }\n",
              "\n",
              "    .dataframe tbody tr th {\n",
              "        vertical-align: top;\n",
              "    }\n",
              "\n",
              "    .dataframe thead th {\n",
              "        text-align: right;\n",
              "    }\n",
              "</style>\n",
              "<table border=\"1\" class=\"dataframe\">\n",
              "  <thead>\n",
              "    <tr style=\"text-align: right;\">\n",
              "      <th></th>\n",
              "      <th>Destination Port</th>\n",
              "      <th>Flow Duration</th>\n",
              "      <th>Total Fwd Packets</th>\n",
              "      <th>Total Backward Packets</th>\n",
              "      <th>Total Length of Fwd Packets</th>\n",
              "      <th>Total Length of Bwd Packets</th>\n",
              "      <th>Fwd Packet Length Max</th>\n",
              "      <th>Fwd Packet Length Min</th>\n",
              "      <th>Fwd Packet Length Mean</th>\n",
              "      <th>Fwd Packet Length Std</th>\n",
              "      <th>...</th>\n",
              "      <th>min_seg_size_forward</th>\n",
              "      <th>Active Mean</th>\n",
              "      <th>Active Std</th>\n",
              "      <th>Active Max</th>\n",
              "      <th>Active Min</th>\n",
              "      <th>Idle Mean</th>\n",
              "      <th>Idle Std</th>\n",
              "      <th>Idle Max</th>\n",
              "      <th>Idle Min</th>\n",
              "      <th>Label</th>\n",
              "    </tr>\n",
              "  </thead>\n",
              "  <tbody>\n",
              "    <tr>\n",
              "      <th>0</th>\n",
              "      <td>54865</td>\n",
              "      <td>3</td>\n",
              "      <td>2</td>\n",
              "      <td>0</td>\n",
              "      <td>12</td>\n",
              "      <td>0</td>\n",
              "      <td>6</td>\n",
              "      <td>6</td>\n",
              "      <td>6.0</td>\n",
              "      <td>0.0</td>\n",
              "      <td>...</td>\n",
              "      <td>20</td>\n",
              "      <td>0.0</td>\n",
              "      <td>0.0</td>\n",
              "      <td>0</td>\n",
              "      <td>0</td>\n",
              "      <td>0.0</td>\n",
              "      <td>0.0</td>\n",
              "      <td>0</td>\n",
              "      <td>0</td>\n",
              "      <td>BENIGN</td>\n",
              "    </tr>\n",
              "    <tr>\n",
              "      <th>1</th>\n",
              "      <td>55054</td>\n",
              "      <td>109</td>\n",
              "      <td>1</td>\n",
              "      <td>1</td>\n",
              "      <td>6</td>\n",
              "      <td>6</td>\n",
              "      <td>6</td>\n",
              "      <td>6</td>\n",
              "      <td>6.0</td>\n",
              "      <td>0.0</td>\n",
              "      <td>...</td>\n",
              "      <td>20</td>\n",
              "      <td>0.0</td>\n",
              "      <td>0.0</td>\n",
              "      <td>0</td>\n",
              "      <td>0</td>\n",
              "      <td>0.0</td>\n",
              "      <td>0.0</td>\n",
              "      <td>0</td>\n",
              "      <td>0</td>\n",
              "      <td>BENIGN</td>\n",
              "    </tr>\n",
              "    <tr>\n",
              "      <th>2</th>\n",
              "      <td>55055</td>\n",
              "      <td>52</td>\n",
              "      <td>1</td>\n",
              "      <td>1</td>\n",
              "      <td>6</td>\n",
              "      <td>6</td>\n",
              "      <td>6</td>\n",
              "      <td>6</td>\n",
              "      <td>6.0</td>\n",
              "      <td>0.0</td>\n",
              "      <td>...</td>\n",
              "      <td>20</td>\n",
              "      <td>0.0</td>\n",
              "      <td>0.0</td>\n",
              "      <td>0</td>\n",
              "      <td>0</td>\n",
              "      <td>0.0</td>\n",
              "      <td>0.0</td>\n",
              "      <td>0</td>\n",
              "      <td>0</td>\n",
              "      <td>BENIGN</td>\n",
              "    </tr>\n",
              "    <tr>\n",
              "      <th>3</th>\n",
              "      <td>46236</td>\n",
              "      <td>34</td>\n",
              "      <td>1</td>\n",
              "      <td>1</td>\n",
              "      <td>6</td>\n",
              "      <td>6</td>\n",
              "      <td>6</td>\n",
              "      <td>6</td>\n",
              "      <td>6.0</td>\n",
              "      <td>0.0</td>\n",
              "      <td>...</td>\n",
              "      <td>20</td>\n",
              "      <td>0.0</td>\n",
              "      <td>0.0</td>\n",
              "      <td>0</td>\n",
              "      <td>0</td>\n",
              "      <td>0.0</td>\n",
              "      <td>0.0</td>\n",
              "      <td>0</td>\n",
              "      <td>0</td>\n",
              "      <td>BENIGN</td>\n",
              "    </tr>\n",
              "    <tr>\n",
              "      <th>4</th>\n",
              "      <td>54863</td>\n",
              "      <td>3</td>\n",
              "      <td>2</td>\n",
              "      <td>0</td>\n",
              "      <td>12</td>\n",
              "      <td>0</td>\n",
              "      <td>6</td>\n",
              "      <td>6</td>\n",
              "      <td>6.0</td>\n",
              "      <td>0.0</td>\n",
              "      <td>...</td>\n",
              "      <td>20</td>\n",
              "      <td>0.0</td>\n",
              "      <td>0.0</td>\n",
              "      <td>0</td>\n",
              "      <td>0</td>\n",
              "      <td>0.0</td>\n",
              "      <td>0.0</td>\n",
              "      <td>0</td>\n",
              "      <td>0</td>\n",
              "      <td>BENIGN</td>\n",
              "    </tr>\n",
              "  </tbody>\n",
              "</table>\n",
              "<p>5 rows × 79 columns</p>\n",
              "</div>\n",
              "      <button class=\"colab-df-convert\" onclick=\"convertToInteractive('df-a3d75bd0-f6c4-4acb-ae93-5692c7e2403b')\"\n",
              "              title=\"Convert this dataframe to an interactive table.\"\n",
              "              style=\"display:none;\">\n",
              "        \n",
              "  <svg xmlns=\"http://www.w3.org/2000/svg\" height=\"24px\"viewBox=\"0 0 24 24\"\n",
              "       width=\"24px\">\n",
              "    <path d=\"M0 0h24v24H0V0z\" fill=\"none\"/>\n",
              "    <path d=\"M18.56 5.44l.94 2.06.94-2.06 2.06-.94-2.06-.94-.94-2.06-.94 2.06-2.06.94zm-11 1L8.5 8.5l.94-2.06 2.06-.94-2.06-.94L8.5 2.5l-.94 2.06-2.06.94zm10 10l.94 2.06.94-2.06 2.06-.94-2.06-.94-.94-2.06-.94 2.06-2.06.94z\"/><path d=\"M17.41 7.96l-1.37-1.37c-.4-.4-.92-.59-1.43-.59-.52 0-1.04.2-1.43.59L10.3 9.45l-7.72 7.72c-.78.78-.78 2.05 0 2.83L4 21.41c.39.39.9.59 1.41.59.51 0 1.02-.2 1.41-.59l7.78-7.78 2.81-2.81c.8-.78.8-2.07 0-2.86zM5.41 20L4 18.59l7.72-7.72 1.47 1.35L5.41 20z\"/>\n",
              "  </svg>\n",
              "      </button>\n",
              "      \n",
              "  <style>\n",
              "    .colab-df-container {\n",
              "      display:flex;\n",
              "      flex-wrap:wrap;\n",
              "      gap: 12px;\n",
              "    }\n",
              "\n",
              "    .colab-df-convert {\n",
              "      background-color: #E8F0FE;\n",
              "      border: none;\n",
              "      border-radius: 50%;\n",
              "      cursor: pointer;\n",
              "      display: none;\n",
              "      fill: #1967D2;\n",
              "      height: 32px;\n",
              "      padding: 0 0 0 0;\n",
              "      width: 32px;\n",
              "    }\n",
              "\n",
              "    .colab-df-convert:hover {\n",
              "      background-color: #E2EBFA;\n",
              "      box-shadow: 0px 1px 2px rgba(60, 64, 67, 0.3), 0px 1px 3px 1px rgba(60, 64, 67, 0.15);\n",
              "      fill: #174EA6;\n",
              "    }\n",
              "\n",
              "    [theme=dark] .colab-df-convert {\n",
              "      background-color: #3B4455;\n",
              "      fill: #D2E3FC;\n",
              "    }\n",
              "\n",
              "    [theme=dark] .colab-df-convert:hover {\n",
              "      background-color: #434B5C;\n",
              "      box-shadow: 0px 1px 3px 1px rgba(0, 0, 0, 0.15);\n",
              "      filter: drop-shadow(0px 1px 2px rgba(0, 0, 0, 0.3));\n",
              "      fill: #FFFFFF;\n",
              "    }\n",
              "  </style>\n",
              "\n",
              "      <script>\n",
              "        const buttonEl =\n",
              "          document.querySelector('#df-a3d75bd0-f6c4-4acb-ae93-5692c7e2403b button.colab-df-convert');\n",
              "        buttonEl.style.display =\n",
              "          google.colab.kernel.accessAllowed ? 'block' : 'none';\n",
              "\n",
              "        async function convertToInteractive(key) {\n",
              "          const element = document.querySelector('#df-a3d75bd0-f6c4-4acb-ae93-5692c7e2403b');\n",
              "          const dataTable =\n",
              "            await google.colab.kernel.invokeFunction('convertToInteractive',\n",
              "                                                     [key], {});\n",
              "          if (!dataTable) return;\n",
              "\n",
              "          const docLinkHtml = 'Like what you see? Visit the ' +\n",
              "            '<a target=\"_blank\" href=https://colab.research.google.com/notebooks/data_table.ipynb>data table notebook</a>'\n",
              "            + ' to learn more about interactive tables.';\n",
              "          element.innerHTML = '';\n",
              "          dataTable['output_type'] = 'display_data';\n",
              "          await google.colab.output.renderOutput(dataTable, element);\n",
              "          const docLink = document.createElement('div');\n",
              "          docLink.innerHTML = docLinkHtml;\n",
              "          element.appendChild(docLink);\n",
              "        }\n",
              "      </script>\n",
              "    </div>\n",
              "  </div>\n",
              "  "
            ]
          },
          "metadata": {},
          "execution_count": 8
        }
      ],
      "source": [
        "bin_data  = pd.read_csv(data)\n",
        "# df.drop(df.columns[0],axis=1,inplace=True)\n",
        "bin_data.head()"
      ]
    },
    {
      "cell_type": "code",
      "source": [
        "import matplotlib.pyplot as plt\n",
        "plt.title('Continuous features')\n",
        "bin_data.nunique().plot(kind='bar', figsize=(20,7))"
      ],
      "metadata": {
        "colab": {
          "base_uri": "https://localhost:8080/",
          "height": 593
        },
        "id": "38UyhNDCBGsH",
        "outputId": "d7acce98-3dc6-40ac-b6bd-598e8a85a4ac"
      },
      "id": "38UyhNDCBGsH",
      "execution_count": null,
      "outputs": [
        {
          "output_type": "execute_result",
          "data": {
            "text/plain": [
              "<matplotlib.axes._subplots.AxesSubplot at 0x7f5b9454b890>"
            ]
          },
          "metadata": {},
          "execution_count": 3
        },
        {
          "output_type": "display_data",
          "data": {
            "text/plain": [
              "<Figure size 1440x504 with 1 Axes>"
            ],
            "image/png": "[encoded data removed]"
          },
          "metadata": {
            "needs_background": "light"
          }
        }
      ]
    },
    {
      "cell_type": "code",
      "source": [
        "bin_data = bin_data.drop([' Fwd Packet Length Mean', ' Fwd Packet Length Std',\n",
        "       ' Bwd Packet Length Mean', ' Bwd Packet Length Std', 'Flow Bytes/s',\n",
        "       ' Flow Packets/s', ' Flow IAT Mean', ' Flow IAT Std', ' Fwd IAT Mean',\n",
        "       ' Fwd IAT Std', ' Bwd IAT Mean', ' Bwd IAT Std', 'Fwd Packets/s',\n",
        "       ' Bwd Packets/s', ' Packet Length Mean', ' Packet Length Std',\n",
        "       ' Packet Length Variance', ' Average Packet Size',\n",
        "       ' Avg Fwd Segment Size', ' Avg Bwd Segment Size', 'Active Mean',\n",
        "       ' Active Std', 'Idle Mean', ' Idle Std'], axis =1)"
      ],
      "metadata": {
        "id": "UoUZZMmuBmNw"
      },
      "id": "UoUZZMmuBmNw",
      "execution_count": null,
      "outputs": []
    },
    {
      "cell_type": "code",
      "source": [
        "bin_data = bin_data.rename(columns = {\" Label\":\"label\"})"
      ],
      "metadata": {
        "id": "Z--fEcKeBl6j"
      },
      "id": "Z--fEcKeBl6j",
      "execution_count": null,
      "outputs": []
    },
    {
      "cell_type": "code",
      "source": [
        "from sklearn import preprocessing\n",
        " \n",
        "# label_encoder object knows how to understand word labels.\n",
        "label_encoder = preprocessing.LabelEncoder()\n",
        "bin_data['label'] = label_encoder.fit_transform(bin_data['label'])"
      ],
      "metadata": {
        "id": "LNO_Q1Z9R7mm"
      },
      "id": "LNO_Q1Z9R7mm",
      "execution_count": null,
      "outputs": []
    },
    {
      "cell_type": "code",
      "source": [
        "X = bin_data.iloc[:,:-1]\n",
        "y = bin_data.iloc[:,54:55]"
      ],
      "metadata": {
        "id": "jS8qvhfdR-t-"
      },
      "id": "jS8qvhfdR-t-",
      "execution_count": null,
      "outputs": []
    },
    {
      "cell_type": "code",
      "source": [
        "y = np.array(y)\n",
        "y = y.flatten()"
      ],
      "metadata": {
        "id": "Fa965f3YT4yk"
      },
      "id": "Fa965f3YT4yk",
      "execution_count": null,
      "outputs": []
    },
    {
      "cell_type": "code",
      "source": [
        "np.unique(y)"
      ],
      "metadata": {
        "colab": {
          "base_uri": "https://localhost:8080/"
        },
        "id": "rKQWpIhIcR-z",
        "outputId": "ebe7c569-cc56-4cc2-a3bd-c0c6124af2cc"
      },
      "id": "rKQWpIhIcR-z",
      "execution_count": null,
      "outputs": [
        {
          "output_type": "execute_result",
          "data": {
            "text/plain": [
              "array([0, 1])"
            ]
          },
          "metadata": {},
          "execution_count": 31
        }
      ]
    },
    {
      "cell_type": "markdown",
      "source": [
        "Spliting for TabNEt"
      ],
      "metadata": {
        "id": "tJ0vcOUnDe7J"
      },
      "id": "tJ0vcOUnDe7J"
    },
    {
      "cell_type": "code",
      "source": [
        "# split data into train, test and validation set with splitted feature and class\n",
        "def get_train_test_val_split():\n",
        "    X_train, X_test, y_train, y_test = train_test_split(X, y, test_size=0.1, random_state=42)\n",
        "    X_train, X_val, y_train, y_val = train_test_split(X_train, y_train, test_size=0.22, random_state=2)\n",
        "    return X_train, X_test, X_val, y_train, y_test, y_val\n",
        "# get train, test and validation set\n",
        "X_train, X_test, X_val, y_train, y_test, y_val = get_train_test_val_split()\n"
      ],
      "metadata": {
        "id": "8l-BIpbUCZhf"
      },
      "id": "8l-BIpbUCZhf",
      "execution_count": null,
      "outputs": []
    },
    {
      "cell_type": "markdown",
      "source": [
        "Build CNN"
      ],
      "metadata": {
        "id": "BQUsCz45CUXq"
      },
      "id": "BQUsCz45CUXq"
    },
    {
      "cell_type": "code",
      "source": [
        "import tensorflow as tf\n",
        "from tensorflow.keras.models import Sequential \n",
        "from tensorflow.keras.layers import Dense,Activation,Dropout \n",
        "from tensorflow.keras.layers import BatchNormalization \n",
        "from tensorflow.keras.utils import to_categorical"
      ],
      "metadata": {
        "id": "DoBfq4X4COzS"
      },
      "id": "DoBfq4X4COzS",
      "execution_count": null,
      "outputs": []
    },
    {
      "cell_type": "code",
      "source": [
        "# deep learning model initialization\n",
        "model = tf.keras.models.Sequential()  \n",
        "model.add(Dense(1000,input_dim=X_train.shape[1],activation='relu'))\n",
        "model.add(Dense(500,activation='relu'))\n",
        "model.add(Dense(300,activation='relu'))\n",
        "model.add(Dense(150,activation='relu'))\n",
        "model.add(Dense(75,activation='relu'))\n",
        "model.add(Dense(30,activation='relu'))\n",
        "model.add(Dense(15,activation='relu'))\n",
        "model.add(Dropout(0.5))\n",
        "\n",
        "New_X_train = model.predict(X_train)\n",
        "New_X_test = model.predict(X_test)\n",
        "New_X_val = model.predict(X_val)"
      ],
      "metadata": {
        "id": "qDkpR2UvCOv7"
      },
      "id": "qDkpR2UvCOv7",
      "execution_count": null,
      "outputs": []
    },
    {
      "cell_type": "markdown",
      "source": [
        "Evaluation Function"
      ],
      "metadata": {
        "id": "tgmqR5P0Fh5n"
      },
      "id": "tgmqR5P0Fh5n"
    },
    {
      "cell_type": "code",
      "execution_count": null,
      "id": "c8d68f58",
      "metadata": {
        "id": "c8d68f58"
      },
      "outputs": [],
      "source": [
        "# function for evaluation metrics precision, recall, f1 etc\n",
        "def modelEvaluation(predictions, y_test_set, model_name):\n",
        "    import seaborn as sns\n",
        "    from sklearn.metrics import classification_report, confusion_matrix,accuracy_score\n",
        "    from sklearn.metrics import plot_confusion_matrix, precision_score, recall_score, f1_score\n",
        "    # Print model evaluation to predicted result    \n",
        "    print(\"==========\",model_name,\"==========\")\n",
        "    print (\"\\nAccuracy on validation set: {:.4f}\".format(accuracy_score(y_test_set, predictions)))    \n",
        "    print (\"\\nClassification report : \\n\", classification_report(y_test_set, predictions))\n",
        "#     print (\"\\nConfusion Matrix : \\n\", confusion_matrix(y_test_set, predictions))\n",
        "    sns.heatmap(confusion_matrix(y_test_set, predictions),annot=True, fmt='g',cmap='viridis')\n",
        "    plt.tight_layout()\n",
        "    plt.show()\n",
        "    results = [accuracy_score(y_test_set, predictions), precision_score(y_test_set, predictions, average='macro'),\n",
        "              recall_score(y_test_set, predictions, average='macro'),f1_score(y_test_set, predictions, average='macro')]\n",
        "    return results"
      ]
    },
    {
      "cell_type": "markdown",
      "id": "169a0d98",
      "metadata": {
        "id": "169a0d98"
      },
      "source": [
        "# 01 TabNet"
      ]
    },
    {
      "cell_type": "markdown",
      "source": [
        "TabNet provides a high-performance and interpretable tabular data deep learning architecture. It uses a method called sequential attention mechanism to enabling which feature to choose to cause high interpretability and efficient training."
      ],
      "metadata": {
        "id": "P8mdXz7CSRC5"
      },
      "id": "P8mdXz7CSRC5"
    },
    {
      "cell_type": "code",
      "source": [
        "np.unique(y)"
      ],
      "metadata": {
        "colab": {
          "base_uri": "https://localhost:8080/"
        },
        "id": "1a0HKNlTUxXe",
        "outputId": "6df1e2f3-b290-4f00-a82a-5935410c4a1b"
      },
      "id": "1a0HKNlTUxXe",
      "execution_count": null,
      "outputs": [
        {
          "output_type": "execute_result",
          "data": {
            "text/plain": [
              "array([0, 1])"
            ]
          },
          "metadata": {},
          "execution_count": 15
        }
      ]
    },
    {
      "cell_type": "code",
      "source": [
        ""
      ],
      "metadata": {
        "id": "u3zmDYjRZALT"
      },
      "id": "u3zmDYjRZALT",
      "execution_count": null,
      "outputs": []
    },
    {
      "cell_type": "code",
      "execution_count": null,
      "id": "88f036b0",
      "metadata": {
        "colab": {
          "base_uri": "https://localhost:8080/"
        },
        "id": "88f036b0",
        "outputId": "7b7f3ef1-944b-428f-e99b-a9e0636258be"
      },
      "outputs": [
        {
          "output_type": "stream",
          "name": "stdout",
          "text": [
            "Device used : cpu\n",
            "epoch 0  | loss: 0.39721 | val_0_auc: 0.9469  |  0:00:08s\n",
            "epoch 1  | loss: 0.26141 | val_0_auc: 0.94638 |  0:00:15s\n",
            "epoch 2  | loss: 0.24963 | val_0_auc: 0.94848 |  0:00:22s\n",
            "epoch 3  | loss: 0.23261 | val_0_auc: 0.96546 |  0:00:29s\n",
            "epoch 4  | loss: 0.21964 | val_0_auc: 0.95413 |  0:00:39s\n",
            "epoch 5  | loss: 0.20703 | val_0_auc: 0.93324 |  0:00:52s\n",
            "epoch 6  | loss: 0.20084 | val_0_auc: 0.93406 |  0:01:03s\n",
            "epoch 7  | loss: 0.19472 | val_0_auc: 0.95044 |  0:01:10s\n",
            "epoch 8  | loss: 0.20023 | val_0_auc: 0.97695 |  0:01:17s\n",
            "epoch 9  | loss: 0.18539 | val_0_auc: 0.88393 |  0:01:24s\n",
            "epoch 10 | loss: 0.18844 | val_0_auc: 0.93131 |  0:01:32s\n",
            "epoch 11 | loss: 0.18395 | val_0_auc: 0.91736 |  0:01:39s\n",
            "epoch 12 | loss: 0.17269 | val_0_auc: 0.88627 |  0:01:46s\n",
            "epoch 13 | loss: 0.17707 | val_0_auc: 0.92668 |  0:01:53s\n",
            "epoch 14 | loss: 0.16421 | val_0_auc: 0.9255  |  0:02:00s\n",
            "epoch 15 | loss: 0.15196 | val_0_auc: 0.94931 |  0:02:07s\n",
            "epoch 16 | loss: 0.15755 | val_0_auc: 0.8992  |  0:02:14s\n",
            "epoch 17 | loss: 0.13977 | val_0_auc: 0.90982 |  0:02:21s\n",
            "epoch 18 | loss: 0.12724 | val_0_auc: 0.92828 |  0:02:28s\n",
            "\n",
            "Early stopping occured at epoch 18 with best_epoch = 8 and best_val_0_auc = 0.97695\n",
            "Best weights from best epoch are automatically used!\n"
          ]
        }
      ],
      "source": [
        "# get train, test and validation set\n",
        "# X_train, X_test, X_val, y_train, y_test, y_val = get_train_test_val_split()\n",
        "\n",
        "# initialize model\n",
        "clf = TabNetClassifier()  #TabNetRegressor()\n",
        "# fit model\n",
        "clf.fit(\n",
        "  New_X_train, y_train,\n",
        "  eval_set=[(New_X_val, y_val)]\n",
        ")"
      ]
    },
    {
      "cell_type": "markdown",
      "id": "185f67aa",
      "metadata": {
        "id": "185f67aa"
      },
      "source": [
        "## make predictions"
      ]
    },
    {
      "cell_type": "code",
      "execution_count": null,
      "id": "c2717b36",
      "metadata": {
        "colab": {
          "base_uri": "https://localhost:8080/",
          "height": 557
        },
        "id": "c2717b36",
        "outputId": "71b50cb3-de58-4d6a-e07a-83a565af77b4"
      },
      "outputs": [
        {
          "output_type": "stream",
          "name": "stdout",
          "text": [
            "========== TabNet Model ==========\n",
            "\n",
            "Accuracy on validation set: 0.9218\n",
            "\n",
            "Classification report : \n",
            "               precision    recall  f1-score   support\n",
            "\n",
            "           0       0.93      0.89      0.91     10055\n",
            "           1       0.92      0.95      0.93     12520\n",
            "\n",
            "    accuracy                           0.92     22575\n",
            "   macro avg       0.92      0.92      0.92     22575\n",
            "weighted avg       0.92      0.92      0.92     22575\n",
            "\n"
          ]
        },
        {
          "output_type": "display_data",
          "data": {
            "text/plain": [
              "<Figure size 432x288 with 2 Axes>"
            ],
            "image/png": "[encoded data removed]"
          },
          "metadata": {
            "needs_background": "light"
          }
        },
        {
          "output_type": "execute_result",
          "data": {
            "text/plain": [
              "[0.9218161683277962, 0.922744860366839, 0.9189293550011677, 0.920539031002421]"
            ]
          },
          "metadata": {},
          "execution_count": 37
        }
      ],
      "source": [
        "# make prediction using trained model\n",
        "y_pred = clf.predict(New_X_test)\n",
        "# calculate accuracy and other evaluation measures\n",
        "modelEvaluation(y_test, y_pred, 'TabNet Model')"
      ]
    },
    {
      "cell_type": "markdown",
      "id": "3f01045c",
      "metadata": {
        "id": "3f01045c"
      },
      "source": [
        "# 02 Light Gradient Boosted Machine"
      ]
    },
    {
      "cell_type": "code",
      "execution_count": null,
      "id": "2c8d4559",
      "metadata": {
        "colab": {
          "base_uri": "https://localhost:8080/"
        },
        "id": "2c8d4559",
        "outputId": "fbe52c8a-28fa-49ed-93ac-38e28a1fb5f3"
      },
      "outputs": [
        {
          "output_type": "execute_result",
          "data": {
            "text/plain": [
              "LGBMClassifier()"
            ]
          },
          "metadata": {},
          "execution_count": 38
        }
      ],
      "source": [
        "# get train, test and validation set\n",
        "# X_train, X_test, y_train, y_test = get_train_test_split()\n",
        "# initialize model\n",
        "clf = lgb.LGBMClassifier()\n",
        "# fit model\n",
        "clf.fit(New_X_train, y_train)"
      ]
    },
    {
      "cell_type": "markdown",
      "id": "e2e79cb6",
      "metadata": {
        "id": "e2e79cb6"
      },
      "source": [
        "## make predictions"
      ]
    },
    {
      "cell_type": "code",
      "execution_count": null,
      "id": "797c020e",
      "metadata": {
        "colab": {
          "base_uri": "https://localhost:8080/",
          "height": 609
        },
        "id": "797c020e",
        "outputId": "87f721e4-efb7-4621-a724-cb031d986682"
      },
      "outputs": [
        {
          "output_type": "stream",
          "name": "stdout",
          "text": [
            "========== Light Gradient Boosted Machine ==========\n",
            "\n",
            "Accuracy on validation set: 0.9833\n",
            "\n",
            "Classification report : \n",
            "               precision    recall  f1-score   support\n",
            "\n",
            "           0       0.97      0.99      0.98      9479\n",
            "           1       0.99      0.98      0.99     13096\n",
            "\n",
            "    accuracy                           0.98     22575\n",
            "   macro avg       0.98      0.98      0.98     22575\n",
            "weighted avg       0.98      0.98      0.98     22575\n",
            "\n"
          ]
        },
        {
          "output_type": "display_data",
          "data": {
            "text/plain": [
              "<Figure size 432x288 with 2 Axes>"
            ],
            "image/png": "[encoded data removed]"
          },
          "metadata": {
            "needs_background": "light"
          }
        },
        {
          "output_type": "execute_result",
          "data": {
            "text/plain": [
              "[0.9833001107419712,\n",
              " 0.9817756271210716,\n",
              " 0.9841640022444882,\n",
              " 0.9829035944482689]"
            ]
          },
          "metadata": {},
          "execution_count": 39
        }
      ],
      "source": [
        "# make prediction using trained model\n",
        "y_pred = clf.predict(New_X_test)\n",
        "# calculate accuracy and other evaluation measures\n",
        "modelEvaluation(y_test, y_pred, 'Light Gradient Boosted Machine')"
      ]
    },
    {
      "cell_type": "markdown",
      "id": "3310ac73",
      "metadata": {
        "id": "3310ac73"
      },
      "source": [
        "# 03 CatBoost\n",
        "“CatBoost” name comes from two words “Category” and “Boosting”. As discussed, the library works well with multiple Categories of data, such as audio, text, image including historical data. “Boost” comes from gradient boosting machine learning algorithm as this library is based on gradient boosting library."
      ]
    },
    {
      "cell_type": "code",
      "execution_count": null,
      "id": "f0159675",
      "metadata": {
        "id": "f0159675"
      },
      "outputs": [],
      "source": [
        "# get train, test and validation set\n",
        "# X_train, X_test, y_train, y_test = get_train_test_split()\n",
        "\n",
        "# preparing data for model training\n",
        "train_pool = Pool(New_X_train, y_train)\n",
        "test_pool = Pool(New_X_test, y_test)"
      ]
    },
    {
      "cell_type": "code",
      "execution_count": null,
      "id": "986da0b0",
      "metadata": {
        "colab": {
          "base_uri": "https://localhost:8080/"
        },
        "id": "986da0b0",
        "outputId": "57eb2156-20c4-4b2b-d024-1eb01ca1bb23"
      },
      "outputs": [
        {
          "output_type": "stream",
          "name": "stdout",
          "text": [
            "0:\tlearn: 0.2519369\ttotal: 143ms\tremaining: 14.2s\n",
            "1:\tlearn: 0.1675090\ttotal: 226ms\tremaining: 11.1s\n",
            "2:\tlearn: 0.1332770\ttotal: 313ms\tremaining: 10.1s\n",
            "3:\tlearn: 0.1170912\ttotal: 398ms\tremaining: 9.55s\n",
            "4:\tlearn: 0.1055318\ttotal: 477ms\tremaining: 9.06s\n",
            "5:\tlearn: 0.0985099\ttotal: 559ms\tremaining: 8.75s\n",
            "6:\tlearn: 0.0928032\ttotal: 655ms\tremaining: 8.7s\n",
            "7:\tlearn: 0.0874984\ttotal: 741ms\tremaining: 8.52s\n",
            "8:\tlearn: 0.0822325\ttotal: 818ms\tremaining: 8.27s\n",
            "9:\tlearn: 0.0798069\ttotal: 904ms\tremaining: 8.14s\n",
            "10:\tlearn: 0.0783715\ttotal: 978ms\tremaining: 7.91s\n",
            "11:\tlearn: 0.0738930\ttotal: 1.05s\tremaining: 7.74s\n",
            "12:\tlearn: 0.0735389\ttotal: 1.13s\tremaining: 7.55s\n",
            "13:\tlearn: 0.0688337\ttotal: 1.21s\tremaining: 7.45s\n",
            "14:\tlearn: 0.0624845\ttotal: 1.3s\tremaining: 7.35s\n",
            "15:\tlearn: 0.0600969\ttotal: 1.38s\tremaining: 7.25s\n",
            "16:\tlearn: 0.0587208\ttotal: 1.46s\tremaining: 7.11s\n",
            "17:\tlearn: 0.0553485\ttotal: 1.53s\tremaining: 6.99s\n",
            "18:\tlearn: 0.0532254\ttotal: 1.63s\tremaining: 6.93s\n",
            "19:\tlearn: 0.0506684\ttotal: 1.71s\tremaining: 6.83s\n",
            "20:\tlearn: 0.0489174\ttotal: 1.79s\tremaining: 6.72s\n",
            "21:\tlearn: 0.0471245\ttotal: 1.87s\tremaining: 6.64s\n",
            "22:\tlearn: 0.0462235\ttotal: 1.96s\tremaining: 6.55s\n",
            "23:\tlearn: 0.0439485\ttotal: 2.04s\tremaining: 6.46s\n",
            "24:\tlearn: 0.0436039\ttotal: 2.12s\tremaining: 6.37s\n",
            "25:\tlearn: 0.0434779\ttotal: 2.19s\tremaining: 6.24s\n",
            "26:\tlearn: 0.0434335\ttotal: 2.26s\tremaining: 6.12s\n",
            "27:\tlearn: 0.0420396\ttotal: 2.35s\tremaining: 6.05s\n",
            "28:\tlearn: 0.0411377\ttotal: 2.43s\tremaining: 5.96s\n",
            "29:\tlearn: 0.0397638\ttotal: 2.52s\tremaining: 5.87s\n",
            "30:\tlearn: 0.0391101\ttotal: 2.6s\tremaining: 5.79s\n",
            "31:\tlearn: 0.0382262\ttotal: 2.69s\tremaining: 5.71s\n",
            "32:\tlearn: 0.0373670\ttotal: 2.77s\tremaining: 5.62s\n",
            "33:\tlearn: 0.0363595\ttotal: 2.85s\tremaining: 5.54s\n",
            "34:\tlearn: 0.0354224\ttotal: 2.93s\tremaining: 5.45s\n",
            "35:\tlearn: 0.0350153\ttotal: 3.02s\tremaining: 5.37s\n",
            "36:\tlearn: 0.0340353\ttotal: 3.1s\tremaining: 5.28s\n",
            "37:\tlearn: 0.0333914\ttotal: 3.18s\tremaining: 5.19s\n",
            "38:\tlearn: 0.0317736\ttotal: 3.26s\tremaining: 5.1s\n",
            "39:\tlearn: 0.0313446\ttotal: 3.34s\tremaining: 5s\n",
            "40:\tlearn: 0.0308105\ttotal: 3.41s\tremaining: 4.91s\n",
            "41:\tlearn: 0.0307298\ttotal: 3.49s\tremaining: 4.82s\n",
            "42:\tlearn: 0.0307055\ttotal: 3.57s\tremaining: 4.73s\n",
            "43:\tlearn: 0.0298742\ttotal: 3.65s\tremaining: 4.65s\n",
            "44:\tlearn: 0.0292448\ttotal: 3.74s\tremaining: 4.57s\n",
            "45:\tlearn: 0.0283511\ttotal: 3.82s\tremaining: 4.48s\n",
            "46:\tlearn: 0.0278412\ttotal: 3.9s\tremaining: 4.4s\n",
            "47:\tlearn: 0.0276284\ttotal: 3.98s\tremaining: 4.32s\n",
            "48:\tlearn: 0.0271969\ttotal: 4.07s\tremaining: 4.24s\n",
            "49:\tlearn: 0.0268281\ttotal: 4.15s\tremaining: 4.15s\n",
            "50:\tlearn: 0.0265133\ttotal: 4.23s\tremaining: 4.07s\n",
            "51:\tlearn: 0.0259218\ttotal: 4.32s\tremaining: 3.98s\n",
            "52:\tlearn: 0.0252728\ttotal: 4.4s\tremaining: 3.9s\n",
            "53:\tlearn: 0.0248217\ttotal: 4.48s\tremaining: 3.82s\n",
            "54:\tlearn: 0.0246504\ttotal: 4.56s\tremaining: 3.73s\n",
            "55:\tlearn: 0.0246202\ttotal: 4.65s\tremaining: 3.65s\n",
            "56:\tlearn: 0.0242889\ttotal: 4.74s\tremaining: 3.57s\n",
            "57:\tlearn: 0.0237456\ttotal: 4.82s\tremaining: 3.49s\n",
            "58:\tlearn: 0.0237278\ttotal: 4.89s\tremaining: 3.4s\n",
            "59:\tlearn: 0.0232050\ttotal: 4.97s\tremaining: 3.31s\n",
            "60:\tlearn: 0.0229395\ttotal: 5.05s\tremaining: 3.23s\n",
            "61:\tlearn: 0.0226811\ttotal: 5.13s\tremaining: 3.15s\n",
            "62:\tlearn: 0.0224605\ttotal: 5.21s\tremaining: 3.06s\n",
            "63:\tlearn: 0.0222969\ttotal: 5.29s\tremaining: 2.98s\n",
            "64:\tlearn: 0.0221205\ttotal: 5.37s\tremaining: 2.89s\n",
            "65:\tlearn: 0.0216959\ttotal: 5.45s\tremaining: 2.81s\n",
            "66:\tlearn: 0.0213242\ttotal: 5.56s\tremaining: 2.74s\n",
            "67:\tlearn: 0.0210914\ttotal: 5.64s\tremaining: 2.66s\n",
            "68:\tlearn: 0.0208310\ttotal: 5.75s\tremaining: 2.58s\n",
            "69:\tlearn: 0.0206709\ttotal: 5.84s\tremaining: 2.5s\n",
            "70:\tlearn: 0.0205251\ttotal: 5.91s\tremaining: 2.42s\n",
            "71:\tlearn: 0.0202168\ttotal: 5.99s\tremaining: 2.33s\n",
            "72:\tlearn: 0.0200370\ttotal: 6.08s\tremaining: 2.25s\n",
            "73:\tlearn: 0.0198646\ttotal: 6.16s\tremaining: 2.16s\n",
            "74:\tlearn: 0.0198334\ttotal: 6.23s\tremaining: 2.08s\n",
            "75:\tlearn: 0.0196985\ttotal: 6.31s\tremaining: 1.99s\n",
            "76:\tlearn: 0.0195818\ttotal: 6.39s\tremaining: 1.91s\n",
            "77:\tlearn: 0.0195577\ttotal: 6.46s\tremaining: 1.82s\n",
            "78:\tlearn: 0.0194835\ttotal: 6.55s\tremaining: 1.74s\n",
            "79:\tlearn: 0.0193285\ttotal: 6.63s\tremaining: 1.66s\n",
            "80:\tlearn: 0.0189903\ttotal: 6.71s\tremaining: 1.57s\n",
            "81:\tlearn: 0.0186444\ttotal: 6.8s\tremaining: 1.49s\n",
            "82:\tlearn: 0.0185197\ttotal: 6.88s\tremaining: 1.41s\n",
            "83:\tlearn: 0.0183149\ttotal: 6.96s\tremaining: 1.33s\n",
            "84:\tlearn: 0.0183031\ttotal: 7.04s\tremaining: 1.24s\n",
            "85:\tlearn: 0.0182971\ttotal: 7.11s\tremaining: 1.16s\n",
            "86:\tlearn: 0.0182203\ttotal: 7.19s\tremaining: 1.07s\n",
            "87:\tlearn: 0.0180864\ttotal: 7.27s\tremaining: 991ms\n",
            "88:\tlearn: 0.0178698\ttotal: 7.36s\tremaining: 909ms\n",
            "89:\tlearn: 0.0178517\ttotal: 7.43s\tremaining: 826ms\n",
            "90:\tlearn: 0.0177157\ttotal: 7.51s\tremaining: 743ms\n",
            "91:\tlearn: 0.0175478\ttotal: 7.6s\tremaining: 661ms\n",
            "92:\tlearn: 0.0173892\ttotal: 7.68s\tremaining: 578ms\n",
            "93:\tlearn: 0.0173830\ttotal: 7.76s\tremaining: 496ms\n",
            "94:\tlearn: 0.0171982\ttotal: 7.85s\tremaining: 413ms\n",
            "95:\tlearn: 0.0170560\ttotal: 7.92s\tremaining: 330ms\n",
            "96:\tlearn: 0.0168937\ttotal: 8.01s\tremaining: 248ms\n",
            "97:\tlearn: 0.0167904\ttotal: 8.09s\tremaining: 165ms\n",
            "98:\tlearn: 0.0164811\ttotal: 8.18s\tremaining: 82.6ms\n",
            "99:\tlearn: 0.0164061\ttotal: 8.25s\tremaining: 0us\n"
          ]
        },
        {
          "output_type": "execute_result",
          "data": {
            "text/plain": [
              "<catboost.core.CatBoostClassifier at 0x7f261543f4d0>"
            ]
          },
          "metadata": {},
          "execution_count": 16
        }
      ],
      "source": [
        "# model hyper paramete settings\n",
        "search_space = {'iterations': hp.quniform('iterations', 10, 1000, 10),\n",
        "                'depth': hp.quniform('depth', 2, 12, 1),\n",
        "                'lr': hp.uniform('lr', 0.01, 1)\n",
        "               }\n",
        "\n",
        "# model initialization and training\n",
        "model = CatBoostClassifier(iterations=100,\n",
        "                             depth=8,\n",
        "                             learning_rate=1,\n",
        "                             loss_function='MultiClass') \n",
        "model.fit(train_pool)"
      ]
    },
    {
      "cell_type": "code",
      "execution_count": null,
      "id": "941dadde",
      "metadata": {
        "colab": {
          "base_uri": "https://localhost:8080/",
          "height": 557
        },
        "id": "941dadde",
        "outputId": "9e72681d-3782-455e-814f-cfe7f8118711"
      },
      "outputs": [
        {
          "output_type": "stream",
          "name": "stdout",
          "text": [
            "========== CatBoost ==========\n",
            "\n",
            "Accuracy on validation set: 0.9949\n",
            "\n",
            "Classification report : \n",
            "               precision    recall  f1-score   support\n",
            "\n",
            "           0       0.99      1.00      0.99      9627\n",
            "           1       1.00      0.99      1.00     12948\n",
            "\n",
            "    accuracy                           0.99     22575\n",
            "   macro avg       0.99      0.99      0.99     22575\n",
            "weighted avg       0.99      0.99      0.99     22575\n",
            "\n"
          ]
        },
        {
          "output_type": "display_data",
          "data": {
            "text/plain": [
              "<Figure size 432x288 with 2 Axes>"
            ],
            "image/png": "[encoded data removed]"
          },
          "metadata": {
            "needs_background": "light"
          }
        },
        {
          "output_type": "execute_result",
          "data": {
            "text/plain": [
              "[0.994905869324474, 0.994594985141206, 0.9949996669083987, 0.9947953267050786]"
            ]
          },
          "metadata": {},
          "execution_count": 17
        }
      ],
      "source": [
        "# make prediction using trained model\n",
        "predictions = model.predict(test_pool)\n",
        "# calculate accuracy and other evaluation measures\n",
        "y_pred = [pred[0] for pred in predictions]\n",
        "# make_predictions(y_test, y_pred)\n",
        "modelEvaluation(y_test, y_pred, 'CatBoost')"
      ]
    },
    {
      "cell_type": "markdown",
      "id": "f1f20bc2",
      "metadata": {
        "id": "f1f20bc2"
      },
      "source": [
        "# 04 Deeptables"
      ]
    },
    {
      "cell_type": "code",
      "execution_count": null,
      "id": "3ae79a15",
      "metadata": {
        "colab": {
          "base_uri": "https://localhost:8080/"
        },
        "id": "3ae79a15",
        "outputId": "61e6d1e9-fe6b-49f3-f392-574d71f8ea0a"
      },
      "outputs": [
        {
          "output_type": "stream",
          "name": "stdout",
          "text": [
            "04-26 10:43:17 I deeptables.m.deeptable.py 338 - X.Shape=(158472, 15), y.Shape=(158472,), batch_size=128, config=ModelConfig(name='conf-1', nets=['dnn_nets'], categorical_columns='auto', exclude_columns=[], task='auto', pos_label=None, metrics=['accuracy'], auto_categorize=False, cat_exponent=0.5, cat_remain_numeric=True, auto_encode_label=True, auto_imputation=True, auto_discrete=False, auto_discard_unique=True, apply_gbm_features=False, gbm_params={}, gbm_feature_type='embedding', fixed_embedding_dim=True, embeddings_output_dim=4, embeddings_initializer='uniform', embeddings_regularizer=None, embeddings_activity_regularizer=None, dense_dropout=0, embedding_dropout=0.3, stacking_op='add', output_use_bias=True, apply_class_weight=False, optimizer='auto', loss='auto', dnn_params={'hidden_units': ((128, 0, False), (64, 0, False)), 'activation': 'relu'}, autoint_params={'num_attention': 3, 'num_heads': 1, 'dropout_rate': 0, 'use_residual': True}, fgcnn_params={'fg_filters': (14, 16), 'fg_heights': (7, 7), 'fg_pool_heights': (2, 2), 'fg_new_feat_filters': (2, 2)}, fibinet_params={'senet_pooling_op': 'mean', 'senet_reduction_ratio': 3, 'bilinear_type': 'field_interaction'}, cross_params={'num_cross_layer': 4}, pnn_params={'outer_product_kernel_type': 'mat'}, afm_params={'attention_factor': 4, 'dropout_rate': 0}, cin_params={'cross_layer_size': (128, 128), 'activation': 'relu', 'use_residual': False, 'use_bias': False, 'direct': False, 'reduce_D': False}, home_dir=None, monitor_metric=None, earlystopping_patience=1, earlystopping_mode='auto', gpu_usage_strategy='memory_growth', distribute_strategy=None, var_len_categorical_columns=None)\n",
            "04-26 10:43:17 I deeptables.m.deeptable.py 339 - metrics:['accuracy']\n",
            "04-26 10:43:17 I hypernets.t.toolbox.py 329 - 2 class detected, {0, 1}, so inferred as a [binary classification] task\n"
          ]
        },
        {
          "output_type": "stream",
          "name": "stderr",
          "text": [
            "04-26 10:43:17 W deeptables.m.__init__.py 1395 - Column index of X has been converted: Index(['x_0', 'x_1', 'x_2', 'x_3', 'x_4', 'x_5', 'x_6', 'x_7', 'x_8', 'x_9',\n",
            "       'x_10', 'x_11', 'x_12', 'x_13', 'x_14'],\n",
            "      dtype='object')\n"
          ]
        },
        {
          "output_type": "stream",
          "name": "stdout",
          "text": [
            "04-26 10:43:17 I deeptables.m.preprocessor.py 261 - Preparing features...\n",
            "04-26 10:43:18 I deeptables.m.preprocessor.py 336 - Preparing features taken 0.07300734519958496s\n",
            "04-26 10:43:18 I deeptables.m.preprocessor.py 341 - Data imputation...\n",
            "04-26 10:43:18 I deeptables.m.preprocessor.py 383 - Imputation taken 0.07718205451965332s\n",
            "04-26 10:43:18 I deeptables.m.preprocessor.py 388 - Categorical encoding...\n",
            "04-26 10:43:18 I deeptables.m.preprocessor.py 393 - Categorical encoding taken 0.0027887821197509766s\n",
            "04-26 10:43:18 I deeptables.m.preprocessor.py 196 - fit_transform taken 0.23541927337646484s\n",
            "04-26 10:43:18 I deeptables.m.preprocessor.py 242 - Transform [X]...\n"
          ]
        },
        {
          "output_type": "stream",
          "name": "stderr",
          "text": [
            "04-26 10:43:18 W deeptables.m.__init__.py 1395 - Column index of X has been converted: Index(['x_0', 'x_1', 'x_2', 'x_3', 'x_4', 'x_5', 'x_6', 'x_7', 'x_8', 'x_9',\n",
            "       'x_10', 'x_11', 'x_12', 'x_13', 'x_14'],\n",
            "      dtype='object')\n"
          ]
        },
        {
          "output_type": "stream",
          "name": "stdout",
          "text": [
            "04-26 10:43:18 I deeptables.m.preprocessor.py 249 - transform_X taken 0.01923966407775879s\n",
            "04-26 10:43:18 I deeptables.m.preprocessor.py 230 - Transform [y]...\n",
            "04-26 10:43:18 I deeptables.m.preprocessor.py 236 - transform_y taken 0.0030202865600585938s\n",
            "04-26 10:43:18 I deeptables.m.deeptable.py 354 - Training...\n",
            "04-26 10:43:18 I deeptables.m.deeptable.py 752 - Injected a callback [EarlyStopping]. monitor:val_accuracy, patience:1, mode:max\n",
            "04-26 10:43:18 I deeptables.u.dataset_generator.py 240 - create dataset generator with _TFDGForPandas, batch_size=128, shuffle=True, drop_remainder=True\n",
            "04-26 10:43:18 I deeptables.u.dataset_generator.py 240 - create dataset generator with _TFDGForPandas, batch_size=128, shuffle=True, drop_remainder=True\n",
            "04-26 10:43:18 I deeptables.m.deepmodel.py 231 - Building model...\n",
            "04-26 10:43:18 I deeptables.m.deepmodel.py 287 - >>>>>>>>>>>>>>>>>>>>>> Model Desc <<<<<<<<<<<<<<<<<<<<<<< \n",
            "---------------------------------------------------------\n",
            "inputs:\n",
            "---------------------------------------------------------\n",
            "['input_continuous_all: (14)']\n",
            "---------------------------------------------------------\n",
            "embeddings:\n",
            "---------------------------------------------------------\n",
            "None\n",
            "---------------------------------------------------------\n",
            "dense: dropout: 0\n",
            "batch_normalization: False\n",
            "---------------------------------------------------------\n",
            "concat_embed_dense: shape: (None, 14)\n",
            "---------------------------------------------------------\n",
            "nets: ['dnn_nets']\n",
            "---------------------------------------------------------\n",
            "dnn: input_shape (None, 14), output_shape (None, 64)\n",
            "---------------------------------------------------------\n",
            "stacking_op: add\n",
            "---------------------------------------------------------\n",
            "output: activation: sigmoid, output_shape: (None, 1), use_bias: True\n",
            "loss: binary_crossentropy\n",
            "optimizer: Adam\n",
            "---------------------------------------------------------\n",
            "\n",
            "04-26 10:43:18 I deeptables.m.deepmodel.py 105 - training...\n",
            "Epoch 1/50\n",
            "1238/1238 [==============================] - 5s 3ms/step - loss: 0.3703 - accuracy: 0.8168 - val_loss: 0.3534 - val_accuracy: 0.7971\n",
            "Epoch 2/50\n",
            "1228/1238 [============================>.] - ETA: 0s - loss: 0.3269 - accuracy: 0.8415Restoring model weights from the end of the best epoch: 1.\n",
            "1238/1238 [==============================] - 4s 3ms/step - loss: 0.3269 - accuracy: 0.8415 - val_loss: 0.3816 - val_accuracy: 0.7966\n",
            "Epoch 2: early stopping\n",
            "04-26 10:43:26 I deeptables.m.deepmodel.py 122 - Training finished.\n",
            "04-26 10:43:26 I deeptables.m.deeptable.py 370 - Training finished.\n",
            "04-26 10:43:26 I deeptables.m.deeptable.py 704 - Model has been saved to:dt_output/dt_20220426104317_dnn_nets/dnn_nets.h5\n"
          ]
        }
      ],
      "source": [
        "# get train, test and validation set\n",
        "# X_train, X_test, X_val, y_train, y_test, y_val = get_train_test_val_split()\n",
        "# initialize model\n",
        "config = deeptable.ModelConfig(nets=deepnets.DeepFM)\n",
        "dt = deeptable.DeepTable()\n",
        "# fit model\n",
        "model, history = dt.fit(New_X_train, y_train, validation_data=(New_X_val, y_val), epochs=50)"
      ]
    },
    {
      "cell_type": "code",
      "execution_count": null,
      "id": "fbaa284e",
      "metadata": {
        "colab": {
          "base_uri": "https://localhost:8080/",
          "height": 731
        },
        "id": "fbaa284e",
        "outputId": "1c5eb832-1ccb-4e96-b2e2-cda5afc23eb8"
      },
      "outputs": [
        {
          "output_type": "stream",
          "name": "stdout",
          "text": [
            "04-26 10:43:35 I deeptables.m.deeptable.py 685 - Perform prediction...\n",
            "04-26 10:43:35 I deeptables.m.preprocessor.py 242 - Transform [X]...\n"
          ]
        },
        {
          "output_type": "stream",
          "name": "stderr",
          "text": [
            "04-26 10:43:35 W deeptables.m.__init__.py 1395 - Column index of X has been converted: Index(['x_0', 'x_1', 'x_2', 'x_3', 'x_4', 'x_5', 'x_6', 'x_7', 'x_8', 'x_9',\n",
            "       'x_10', 'x_11', 'x_12', 'x_13', 'x_14'],\n",
            "      dtype='object')\n"
          ]
        },
        {
          "output_type": "stream",
          "name": "stdout",
          "text": [
            "04-26 10:43:35 I deeptables.m.preprocessor.py 249 - transform_X taken 0.01967763900756836s\n",
            "04-26 10:43:35 I deeptables.m.deepmodel.py 130 - Performing predictions...\n",
            "04-26 10:43:35 I deeptables.u.dataset_generator.py 240 - create dataset generator with _TFDGForPandas, batch_size=128, shuffle=False, drop_remainder=False\n",
            "04-26 10:43:35 I deeptables.m.deeptable.py 559 - predict_proba taken 0.295025110244751s\n",
            "04-26 10:43:35 I deeptables.m.deeptable.py 594 - Reverse indicators to labels.\n",
            "========== DeepTables ==========\n",
            "\n",
            "Accuracy on validation set: 0.7954\n",
            "\n",
            "Classification report : \n",
            "               precision    recall  f1-score   support\n",
            "\n",
            "           0       0.91      0.70      0.79     12468\n",
            "           1       0.71      0.91      0.80     10107\n",
            "\n",
            "    accuracy                           0.80     22575\n",
            "   macro avg       0.81      0.81      0.80     22575\n",
            "weighted avg       0.82      0.80      0.79     22575\n",
            "\n"
          ]
        },
        {
          "output_type": "display_data",
          "data": {
            "text/plain": [
              "<Figure size 432x288 with 2 Axes>"
            ],
            "image/png": "[encoded data removed]"
          },
          "metadata": {
            "needs_background": "light"
          }
        },
        {
          "output_type": "execute_result",
          "data": {
            "text/plain": [
              "[0.7954374307862679, 0.8094353882738563, 0.8063372301361, 0.7953564773725967]"
            ]
          },
          "metadata": {},
          "execution_count": 41
        }
      ],
      "source": [
        "# make prediction using trained model\n",
        "preds = dt.predict(New_X_test)\n",
        "# calculate accuracy and other evaluation measures\n",
        "# make_predictions(y_test, preds)\n",
        "modelEvaluation(y_test, preds, 'DeepTables')"
      ]
    },
    {
      "cell_type": "code",
      "source": [
        ""
      ],
      "metadata": {
        "id": "xlLWtlWaIotF"
      },
      "id": "xlLWtlWaIotF",
      "execution_count": null,
      "outputs": []
    }
  ],
  "metadata": {
    "kernelspec": {
      "display_name": "Python 3 (ipykernel)",
      "language": "python",
      "name": "python3"
    },
    "language_info": {
      "codemirror_mode": {
        "name": "ipython",
        "version": 3
      },
      "file_extension": ".py",
      "mimetype": "text/x-python",
      "name": "python",
      "nbconvert_exporter": "python",
      "pygments_lexer": "ipython3",
      "version": "3.7.11"
    },
    "colab": {
      "name": "DL_Binary_on__CICD_2017.ipynb",
      "provenance": [],
      "collapsed_sections": [],
      "include_colab_link": true
    }
  },
  "nbformat": 4,
  "nbformat_minor": 5
}