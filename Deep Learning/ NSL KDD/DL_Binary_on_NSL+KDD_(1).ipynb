{
  "cells": [
    {
      "cell_type": "markdown",
      "metadata": {
        "id": "view-in-github",
        "colab_type": "text"
      },
      "source": [
        "<a href=\"https://colab.research.google.com/github/Isha-Ismail/Network-Intrusion-Implementation/blob/main/Deep%20Learning/%20NSL%20KDD/DL_Binary_on_NSL%2BKDD_(1).ipynb\" target=\"_parent\"><img src=\"https://colab.research.google.com/assets/colab-badge.svg\" alt=\"Open In Colab\"/></a>"
      ]
    },
    {
      "cell_type": "markdown",
      "id": "c5d613a3",
      "metadata": {
        "id": "c5d613a3"
      },
      "source": [
        "## import libraries"
      ]
    },
    {
      "cell_type": "code",
      "source": [
        "!pip install pytorch_tabnet\n",
        "!pip install pytorch_tabular\n",
        "!pip install catboost\n",
        "!pip install deeptables"
      ],
      "metadata": {
        "id": "Ku8Y2yLly2Gc",
        "colab": {
          "base_uri": "https://localhost:8080/",
          "height": 1000
        },
        "outputId": "6d107218-7bef-4d02-a916-4a0548ab7202"
      },
      "id": "Ku8Y2yLly2Gc",
      "execution_count": 3,
      "outputs": [
        {
          "output_type": "stream",
          "name": "stdout",
          "text": [
            "Collecting pytorch_tabnet\n",
            "  Downloading pytorch_tabnet-3.1.1-py3-none-any.whl (39 kB)\n",
            "Requirement already satisfied: scipy>1.4 in /usr/local/lib/python3.7/dist-packages (from pytorch_tabnet) (1.4.1)\n",
            "Requirement already satisfied: numpy<2.0,>=1.17 in /usr/local/lib/python3.7/dist-packages (from pytorch_tabnet) (1.21.6)\n",
            "Requirement already satisfied: torch<2.0,>=1.2 in /usr/local/lib/python3.7/dist-packages (from pytorch_tabnet) (1.11.0+cu113)\n",
            "Requirement already satisfied: scikit_learn>0.21 in /usr/local/lib/python3.7/dist-packages (from pytorch_tabnet) (1.0.2)\n",
            "Requirement already satisfied: tqdm<5.0,>=4.36 in /usr/local/lib/python3.7/dist-packages (from pytorch_tabnet) (4.64.0)\n",
            "Requirement already satisfied: joblib>=0.11 in /usr/local/lib/python3.7/dist-packages (from scikit_learn>0.21->pytorch_tabnet) (1.1.0)\n",
            "Requirement already satisfied: threadpoolctl>=2.0.0 in /usr/local/lib/python3.7/dist-packages (from scikit_learn>0.21->pytorch_tabnet) (3.1.0)\n",
            "Requirement already satisfied: typing-extensions in /usr/local/lib/python3.7/dist-packages (from torch<2.0,>=1.2->pytorch_tabnet) (4.2.0)\n",
            "Installing collected packages: pytorch-tabnet\n",
            "Successfully installed pytorch-tabnet-3.1.1\n",
            "Collecting pytorch_tabular\n",
            "  Downloading pytorch_tabular-0.7.0.tar.gz (2.0 MB)\n",
            "\u001b[K     |████████████████████████████████| 2.0 MB 3.9 MB/s \n",
            "\u001b[?25hRequirement already satisfied: torch>=1.4 in /usr/local/lib/python3.7/dist-packages (from pytorch_tabular) (1.11.0+cu113)\n",
            "Collecting category-encoders==2.2.2\n",
            "  Downloading category_encoders-2.2.2-py2.py3-none-any.whl (80 kB)\n",
            "\u001b[K     |████████████████████████████████| 80 kB 5.5 MB/s \n",
            "\u001b[?25hRequirement already satisfied: numpy>=1.17.2 in /usr/local/lib/python3.7/dist-packages (from pytorch_tabular) (1.21.6)\n",
            "Collecting pandas==1.1.5\n",
            "  Downloading pandas-1.1.5-cp37-cp37m-manylinux1_x86_64.whl (9.5 MB)\n",
            "\u001b[K     |████████████████████████████████| 9.5 MB 28.3 MB/s \n",
            "\u001b[?25hRequirement already satisfied: scikit-learn>=0.23.2 in /usr/local/lib/python3.7/dist-packages (from pytorch_tabular) (1.0.2)\n",
            "Collecting pytorch-lightning==1.3.6\n",
            "  Downloading pytorch_lightning-1.3.6-py3-none-any.whl (809 kB)\n",
            "\u001b[K     |████████████████████████████████| 809 kB 41.8 MB/s \n",
            "\u001b[?25hCollecting omegaconf>=2.0.1\n",
            "  Downloading omegaconf-2.2.1-py3-none-any.whl (78 kB)\n",
            "\u001b[K     |████████████████████████████████| 78 kB 5.3 MB/s \n",
            "\u001b[?25hCollecting torchmetrics>=0.3.2\n",
            "  Downloading torchmetrics-0.8.2-py3-none-any.whl (409 kB)\n",
            "\u001b[K     |████████████████████████████████| 409 kB 40.8 MB/s \n",
            "\u001b[?25hRequirement already satisfied: tensorboard!=2.5.0,>=2.2.0 in /usr/local/lib/python3.7/dist-packages (from pytorch_tabular) (2.8.0)\n",
            "Collecting pytorch-tabnet==3.0.0\n",
            "  Downloading pytorch_tabnet-3.0.0-py3-none-any.whl (38 kB)\n",
            "Collecting PyYAML>=5.1.*\n",
            "  Downloading PyYAML-6.0-cp37-cp37m-manylinux_2_5_x86_64.manylinux1_x86_64.manylinux_2_12_x86_64.manylinux2010_x86_64.whl (596 kB)\n",
            "\u001b[K     |████████████████████████████████| 596 kB 44.9 MB/s \n",
            "\u001b[?25hRequirement already satisfied: matplotlib>3.1 in /usr/local/lib/python3.7/dist-packages (from pytorch_tabular) (3.2.2)\n",
            "Requirement already satisfied: ipywidgets in /usr/local/lib/python3.7/dist-packages (from pytorch_tabular) (7.7.0)\n",
            "Collecting einops==0.3.0\n",
            "  Downloading einops-0.3.0-py2.py3-none-any.whl (25 kB)\n",
            "Requirement already satisfied: statsmodels>=0.9.0 in /usr/local/lib/python3.7/dist-packages (from category-encoders==2.2.2->pytorch_tabular) (0.10.2)\n",
            "Requirement already satisfied: patsy>=0.5.1 in /usr/local/lib/python3.7/dist-packages (from category-encoders==2.2.2->pytorch_tabular) (0.5.2)\n",
            "Requirement already satisfied: scipy>=1.0.0 in /usr/local/lib/python3.7/dist-packages (from category-encoders==2.2.2->pytorch_tabular) (1.4.1)\n",
            "Requirement already satisfied: pytz>=2017.2 in /usr/local/lib/python3.7/dist-packages (from pandas==1.1.5->pytorch_tabular) (2022.1)\n",
            "Requirement already satisfied: python-dateutil>=2.7.3 in /usr/local/lib/python3.7/dist-packages (from pandas==1.1.5->pytorch_tabular) (2.8.2)\n",
            "Collecting pyDeprecate==0.3.0\n",
            "  Downloading pyDeprecate-0.3.0-py3-none-any.whl (10 kB)\n",
            "Collecting PyYAML>=5.1.*\n",
            "  Downloading PyYAML-5.4.1-cp37-cp37m-manylinux1_x86_64.whl (636 kB)\n",
            "\u001b[K     |████████████████████████████████| 636 kB 43.4 MB/s \n",
            "\u001b[?25hCollecting fsspec[http]!=2021.06.0,>=2021.05.0\n",
            "  Downloading fsspec-2022.3.0-py3-none-any.whl (136 kB)\n",
            "\u001b[K     |████████████████████████████████| 136 kB 47.9 MB/s \n",
            "\u001b[?25hRequirement already satisfied: tqdm>=4.41.0 in /usr/local/lib/python3.7/dist-packages (from pytorch-lightning==1.3.6->pytorch_tabular) (4.64.0)\n",
            "Requirement already satisfied: packaging in /usr/local/lib/python3.7/dist-packages (from pytorch-lightning==1.3.6->pytorch_tabular) (21.3)\n",
            "Collecting future>=0.17.1\n",
            "  Downloading future-0.18.2.tar.gz (829 kB)\n",
            "\u001b[K     |████████████████████████████████| 829 kB 47.8 MB/s \n",
            "\u001b[?25hRequirement already satisfied: requests in /usr/local/lib/python3.7/dist-packages (from fsspec[http]!=2021.06.0,>=2021.05.0->pytorch-lightning==1.3.6->pytorch_tabular) (2.23.0)\n",
            "Collecting aiohttp\n",
            "  Downloading aiohttp-3.8.1-cp37-cp37m-manylinux_2_5_x86_64.manylinux1_x86_64.manylinux_2_12_x86_64.manylinux2010_x86_64.whl (1.1 MB)\n",
            "\u001b[K     |████████████████████████████████| 1.1 MB 42.6 MB/s \n",
            "\u001b[?25hRequirement already satisfied: kiwisolver>=1.0.1 in /usr/local/lib/python3.7/dist-packages (from matplotlib>3.1->pytorch_tabular) (1.4.2)\n",
            "Requirement already satisfied: cycler>=0.10 in /usr/local/lib/python3.7/dist-packages (from matplotlib>3.1->pytorch_tabular) (0.11.0)\n",
            "Requirement already satisfied: pyparsing!=2.0.4,!=2.1.2,!=2.1.6,>=2.0.1 in /usr/local/lib/python3.7/dist-packages (from matplotlib>3.1->pytorch_tabular) (3.0.9)\n",
            "Requirement already satisfied: typing-extensions in /usr/local/lib/python3.7/dist-packages (from kiwisolver>=1.0.1->matplotlib>3.1->pytorch_tabular) (4.2.0)\n",
            "Collecting antlr4-python3-runtime==4.9.*\n",
            "  Downloading antlr4-python3-runtime-4.9.3.tar.gz (117 kB)\n",
            "\u001b[K     |████████████████████████████████| 117 kB 18.5 MB/s \n",
            "\u001b[?25hRequirement already satisfied: six in /usr/local/lib/python3.7/dist-packages (from patsy>=0.5.1->category-encoders==2.2.2->pytorch_tabular) (1.15.0)\n",
            "Requirement already satisfied: threadpoolctl>=2.0.0 in /usr/local/lib/python3.7/dist-packages (from scikit-learn>=0.23.2->pytorch_tabular) (3.1.0)\n",
            "Requirement already satisfied: joblib>=0.11 in /usr/local/lib/python3.7/dist-packages (from scikit-learn>=0.23.2->pytorch_tabular) (1.1.0)\n",
            "Requirement already satisfied: google-auth-oauthlib<0.5,>=0.4.1 in /usr/local/lib/python3.7/dist-packages (from tensorboard!=2.5.0,>=2.2.0->pytorch_tabular) (0.4.6)\n",
            "Requirement already satisfied: protobuf>=3.6.0 in /usr/local/lib/python3.7/dist-packages (from tensorboard!=2.5.0,>=2.2.0->pytorch_tabular) (3.17.3)\n",
            "Requirement already satisfied: markdown>=2.6.8 in /usr/local/lib/python3.7/dist-packages (from tensorboard!=2.5.0,>=2.2.0->pytorch_tabular) (3.3.7)\n",
            "Requirement already satisfied: setuptools>=41.0.0 in /usr/local/lib/python3.7/dist-packages (from tensorboard!=2.5.0,>=2.2.0->pytorch_tabular) (57.4.0)\n",
            "Requirement already satisfied: tensorboard-data-server<0.7.0,>=0.6.0 in /usr/local/lib/python3.7/dist-packages (from tensorboard!=2.5.0,>=2.2.0->pytorch_tabular) (0.6.1)\n",
            "Requirement already satisfied: werkzeug>=0.11.15 in /usr/local/lib/python3.7/dist-packages (from tensorboard!=2.5.0,>=2.2.0->pytorch_tabular) (1.0.1)\n",
            "Requirement already satisfied: google-auth<3,>=1.6.3 in /usr/local/lib/python3.7/dist-packages (from tensorboard!=2.5.0,>=2.2.0->pytorch_tabular) (1.35.0)\n",
            "Requirement already satisfied: grpcio>=1.24.3 in /usr/local/lib/python3.7/dist-packages (from tensorboard!=2.5.0,>=2.2.0->pytorch_tabular) (1.46.1)\n",
            "Requirement already satisfied: tensorboard-plugin-wit>=1.6.0 in /usr/local/lib/python3.7/dist-packages (from tensorboard!=2.5.0,>=2.2.0->pytorch_tabular) (1.8.1)\n",
            "Requirement already satisfied: absl-py>=0.4 in /usr/local/lib/python3.7/dist-packages (from tensorboard!=2.5.0,>=2.2.0->pytorch_tabular) (1.0.0)\n",
            "Requirement already satisfied: wheel>=0.26 in /usr/local/lib/python3.7/dist-packages (from tensorboard!=2.5.0,>=2.2.0->pytorch_tabular) (0.37.1)\n",
            "Requirement already satisfied: pyasn1-modules>=0.2.1 in /usr/local/lib/python3.7/dist-packages (from google-auth<3,>=1.6.3->tensorboard!=2.5.0,>=2.2.0->pytorch_tabular) (0.2.8)\n",
            "Requirement already satisfied: rsa<5,>=3.1.4 in /usr/local/lib/python3.7/dist-packages (from google-auth<3,>=1.6.3->tensorboard!=2.5.0,>=2.2.0->pytorch_tabular) (4.8)\n",
            "Requirement already satisfied: cachetools<5.0,>=2.0.0 in /usr/local/lib/python3.7/dist-packages (from google-auth<3,>=1.6.3->tensorboard!=2.5.0,>=2.2.0->pytorch_tabular) (4.2.4)\n",
            "Requirement already satisfied: requests-oauthlib>=0.7.0 in /usr/local/lib/python3.7/dist-packages (from google-auth-oauthlib<0.5,>=0.4.1->tensorboard!=2.5.0,>=2.2.0->pytorch_tabular) (1.3.1)\n",
            "Requirement already satisfied: importlib-metadata>=4.4 in /usr/local/lib/python3.7/dist-packages (from markdown>=2.6.8->tensorboard!=2.5.0,>=2.2.0->pytorch_tabular) (4.11.3)\n",
            "Requirement already satisfied: zipp>=0.5 in /usr/local/lib/python3.7/dist-packages (from importlib-metadata>=4.4->markdown>=2.6.8->tensorboard!=2.5.0,>=2.2.0->pytorch_tabular) (3.8.0)\n",
            "Requirement already satisfied: pyasn1<0.5.0,>=0.4.6 in /usr/local/lib/python3.7/dist-packages (from pyasn1-modules>=0.2.1->google-auth<3,>=1.6.3->tensorboard!=2.5.0,>=2.2.0->pytorch_tabular) (0.4.8)\n",
            "Requirement already satisfied: idna<3,>=2.5 in /usr/local/lib/python3.7/dist-packages (from requests->fsspec[http]!=2021.06.0,>=2021.05.0->pytorch-lightning==1.3.6->pytorch_tabular) (2.10)\n",
            "Requirement already satisfied: chardet<4,>=3.0.2 in /usr/local/lib/python3.7/dist-packages (from requests->fsspec[http]!=2021.06.0,>=2021.05.0->pytorch-lightning==1.3.6->pytorch_tabular) (3.0.4)\n",
            "Requirement already satisfied: certifi>=2017.4.17 in /usr/local/lib/python3.7/dist-packages (from requests->fsspec[http]!=2021.06.0,>=2021.05.0->pytorch-lightning==1.3.6->pytorch_tabular) (2021.10.8)\n",
            "Requirement already satisfied: urllib3!=1.25.0,!=1.25.1,<1.26,>=1.21.1 in /usr/local/lib/python3.7/dist-packages (from requests->fsspec[http]!=2021.06.0,>=2021.05.0->pytorch-lightning==1.3.6->pytorch_tabular) (1.24.3)\n",
            "Requirement already satisfied: oauthlib>=3.0.0 in /usr/local/lib/python3.7/dist-packages (from requests-oauthlib>=0.7.0->google-auth-oauthlib<0.5,>=0.4.1->tensorboard!=2.5.0,>=2.2.0->pytorch_tabular) (3.2.0)\n",
            "Collecting yarl<2.0,>=1.0\n",
            "  Downloading yarl-1.7.2-cp37-cp37m-manylinux_2_5_x86_64.manylinux1_x86_64.manylinux_2_12_x86_64.manylinux2010_x86_64.whl (271 kB)\n",
            "\u001b[K     |████████████████████████████████| 271 kB 57.8 MB/s \n",
            "\u001b[?25hCollecting multidict<7.0,>=4.5\n",
            "  Downloading multidict-6.0.2-cp37-cp37m-manylinux_2_17_x86_64.manylinux2014_x86_64.whl (94 kB)\n",
            "\u001b[K     |████████████████████████████████| 94 kB 3.2 MB/s \n",
            "\u001b[?25hCollecting async-timeout<5.0,>=4.0.0a3\n",
            "  Downloading async_timeout-4.0.2-py3-none-any.whl (5.8 kB)\n",
            "Collecting asynctest==0.13.0\n",
            "  Downloading asynctest-0.13.0-py3-none-any.whl (26 kB)\n",
            "Collecting aiosignal>=1.1.2\n",
            "  Downloading aiosignal-1.2.0-py3-none-any.whl (8.2 kB)\n",
            "Requirement already satisfied: charset-normalizer<3.0,>=2.0 in /usr/local/lib/python3.7/dist-packages (from aiohttp->fsspec[http]!=2021.06.0,>=2021.05.0->pytorch-lightning==1.3.6->pytorch_tabular) (2.0.12)\n",
            "Collecting frozenlist>=1.1.1\n",
            "  Downloading frozenlist-1.3.0-cp37-cp37m-manylinux_2_5_x86_64.manylinux1_x86_64.manylinux_2_17_x86_64.manylinux2014_x86_64.whl (144 kB)\n",
            "\u001b[K     |████████████████████████████████| 144 kB 55.9 MB/s \n",
            "\u001b[?25hRequirement already satisfied: attrs>=17.3.0 in /usr/local/lib/python3.7/dist-packages (from aiohttp->fsspec[http]!=2021.06.0,>=2021.05.0->pytorch-lightning==1.3.6->pytorch_tabular) (21.4.0)\n",
            "Requirement already satisfied: ipython-genutils~=0.2.0 in /usr/local/lib/python3.7/dist-packages (from ipywidgets->pytorch_tabular) (0.2.0)\n",
            "Requirement already satisfied: ipykernel>=4.5.1 in /usr/local/lib/python3.7/dist-packages (from ipywidgets->pytorch_tabular) (4.10.1)\n",
            "Requirement already satisfied: ipython>=4.0.0 in /usr/local/lib/python3.7/dist-packages (from ipywidgets->pytorch_tabular) (5.5.0)\n",
            "Requirement already satisfied: traitlets>=4.3.1 in /usr/local/lib/python3.7/dist-packages (from ipywidgets->pytorch_tabular) (5.2.0)\n",
            "Requirement already satisfied: nbformat>=4.2.0 in /usr/local/lib/python3.7/dist-packages (from ipywidgets->pytorch_tabular) (5.4.0)\n",
            "Requirement already satisfied: jupyterlab-widgets>=1.0.0 in /usr/local/lib/python3.7/dist-packages (from ipywidgets->pytorch_tabular) (1.1.0)\n",
            "Requirement already satisfied: widgetsnbextension~=3.6.0 in /usr/local/lib/python3.7/dist-packages (from ipywidgets->pytorch_tabular) (3.6.0)\n",
            "Requirement already satisfied: tornado>=4.0 in /usr/local/lib/python3.7/dist-packages (from ipykernel>=4.5.1->ipywidgets->pytorch_tabular) (5.1.1)\n",
            "Requirement already satisfied: jupyter-client in /usr/local/lib/python3.7/dist-packages (from ipykernel>=4.5.1->ipywidgets->pytorch_tabular) (5.3.5)\n",
            "Requirement already satisfied: pygments in /usr/local/lib/python3.7/dist-packages (from ipython>=4.0.0->ipywidgets->pytorch_tabular) (2.6.1)\n",
            "Requirement already satisfied: pickleshare in /usr/local/lib/python3.7/dist-packages (from ipython>=4.0.0->ipywidgets->pytorch_tabular) (0.7.5)\n",
            "Requirement already satisfied: decorator in /usr/local/lib/python3.7/dist-packages (from ipython>=4.0.0->ipywidgets->pytorch_tabular) (4.4.2)\n",
            "Requirement already satisfied: prompt-toolkit<2.0.0,>=1.0.4 in /usr/local/lib/python3.7/dist-packages (from ipython>=4.0.0->ipywidgets->pytorch_tabular) (1.0.18)\n",
            "Requirement already satisfied: simplegeneric>0.8 in /usr/local/lib/python3.7/dist-packages (from ipython>=4.0.0->ipywidgets->pytorch_tabular) (0.8.1)\n",
            "Requirement already satisfied: pexpect in /usr/local/lib/python3.7/dist-packages (from ipython>=4.0.0->ipywidgets->pytorch_tabular) (4.8.0)\n",
            "Requirement already satisfied: fastjsonschema in /usr/local/lib/python3.7/dist-packages (from nbformat>=4.2.0->ipywidgets->pytorch_tabular) (2.15.3)\n",
            "Requirement already satisfied: jupyter-core in /usr/local/lib/python3.7/dist-packages (from nbformat>=4.2.0->ipywidgets->pytorch_tabular) (4.10.0)\n",
            "Requirement already satisfied: jsonschema>=2.6 in /usr/local/lib/python3.7/dist-packages (from nbformat>=4.2.0->ipywidgets->pytorch_tabular) (4.3.3)\n",
            "Requirement already satisfied: importlib-resources>=1.4.0 in /usr/local/lib/python3.7/dist-packages (from jsonschema>=2.6->nbformat>=4.2.0->ipywidgets->pytorch_tabular) (5.7.1)\n",
            "Requirement already satisfied: pyrsistent!=0.17.0,!=0.17.1,!=0.17.2,>=0.14.0 in /usr/local/lib/python3.7/dist-packages (from jsonschema>=2.6->nbformat>=4.2.0->ipywidgets->pytorch_tabular) (0.18.1)\n",
            "Requirement already satisfied: wcwidth in /usr/local/lib/python3.7/dist-packages (from prompt-toolkit<2.0.0,>=1.0.4->ipython>=4.0.0->ipywidgets->pytorch_tabular) (0.2.5)\n",
            "Requirement already satisfied: notebook>=4.4.1 in /usr/local/lib/python3.7/dist-packages (from widgetsnbextension~=3.6.0->ipywidgets->pytorch_tabular) (5.3.1)\n",
            "Requirement already satisfied: terminado>=0.8.1 in /usr/local/lib/python3.7/dist-packages (from notebook>=4.4.1->widgetsnbextension~=3.6.0->ipywidgets->pytorch_tabular) (0.13.3)\n",
            "Requirement already satisfied: jinja2 in /usr/local/lib/python3.7/dist-packages (from notebook>=4.4.1->widgetsnbextension~=3.6.0->ipywidgets->pytorch_tabular) (2.11.3)\n",
            "Requirement already satisfied: nbconvert in /usr/local/lib/python3.7/dist-packages (from notebook>=4.4.1->widgetsnbextension~=3.6.0->ipywidgets->pytorch_tabular) (5.6.1)\n",
            "Requirement already satisfied: Send2Trash in /usr/local/lib/python3.7/dist-packages (from notebook>=4.4.1->widgetsnbextension~=3.6.0->ipywidgets->pytorch_tabular) (1.8.0)\n",
            "Requirement already satisfied: pyzmq>=13 in /usr/local/lib/python3.7/dist-packages (from jupyter-client->ipykernel>=4.5.1->ipywidgets->pytorch_tabular) (22.3.0)\n",
            "Requirement already satisfied: ptyprocess in /usr/local/lib/python3.7/dist-packages (from terminado>=0.8.1->notebook>=4.4.1->widgetsnbextension~=3.6.0->ipywidgets->pytorch_tabular) (0.7.0)\n",
            "Requirement already satisfied: MarkupSafe>=0.23 in /usr/local/lib/python3.7/dist-packages (from jinja2->notebook>=4.4.1->widgetsnbextension~=3.6.0->ipywidgets->pytorch_tabular) (2.0.1)\n",
            "Requirement already satisfied: entrypoints>=0.2.2 in /usr/local/lib/python3.7/dist-packages (from nbconvert->notebook>=4.4.1->widgetsnbextension~=3.6.0->ipywidgets->pytorch_tabular) (0.4)\n",
            "Requirement already satisfied: bleach in /usr/local/lib/python3.7/dist-packages (from nbconvert->notebook>=4.4.1->widgetsnbextension~=3.6.0->ipywidgets->pytorch_tabular) (5.0.0)\n",
            "Requirement already satisfied: testpath in /usr/local/lib/python3.7/dist-packages (from nbconvert->notebook>=4.4.1->widgetsnbextension~=3.6.0->ipywidgets->pytorch_tabular) (0.6.0)\n",
            "Requirement already satisfied: defusedxml in /usr/local/lib/python3.7/dist-packages (from nbconvert->notebook>=4.4.1->widgetsnbextension~=3.6.0->ipywidgets->pytorch_tabular) (0.7.1)\n",
            "Requirement already satisfied: mistune<2,>=0.8.1 in /usr/local/lib/python3.7/dist-packages (from nbconvert->notebook>=4.4.1->widgetsnbextension~=3.6.0->ipywidgets->pytorch_tabular) (0.8.4)\n",
            "Requirement already satisfied: pandocfilters>=1.4.1 in /usr/local/lib/python3.7/dist-packages (from nbconvert->notebook>=4.4.1->widgetsnbextension~=3.6.0->ipywidgets->pytorch_tabular) (1.5.0)\n",
            "Requirement already satisfied: webencodings in /usr/local/lib/python3.7/dist-packages (from bleach->nbconvert->notebook>=4.4.1->widgetsnbextension~=3.6.0->ipywidgets->pytorch_tabular) (0.5.1)\n",
            "Building wheels for collected packages: pytorch-tabular, future, antlr4-python3-runtime\n",
            "  Building wheel for pytorch-tabular (setup.py) ... \u001b[?25l\u001b[?25hdone\n",
            "  Created wheel for pytorch-tabular: filename=pytorch_tabular-0.7.0-py2.py3-none-any.whl size=83790 sha256=82e9781426c65dc79d6e98a8a0900c4cd0d27290acd1a0292740ef7b3106d2b2\n",
            "  Stored in directory: /root/.cache/pip/wheels/39/a8/39/0450c2a84e019ed5c8a2d36913c72b93371c452e98bf3e661a\n",
            "  Building wheel for future (setup.py) ... \u001b[?25l\u001b[?25hdone\n",
            "  Created wheel for future: filename=future-0.18.2-py3-none-any.whl size=491070 sha256=e507f194d853d071a10f2863676c357c1cef7e4abb7d10513a78d4766450ca9e\n",
            "  Stored in directory: /root/.cache/pip/wheels/56/b0/fe/4410d17b32f1f0c3cf54cdfb2bc04d7b4b8f4ae377e2229ba0\n",
            "  Building wheel for antlr4-python3-runtime (setup.py) ... \u001b[?25l\u001b[?25hdone\n",
            "  Created wheel for antlr4-python3-runtime: filename=antlr4_python3_runtime-4.9.3-py3-none-any.whl size=144575 sha256=fd8d2328444e023ce8a9e12af52cfa7dfca5ff75cbc80f5777f3c377b181deb1\n",
            "  Stored in directory: /root/.cache/pip/wheels/8b/8d/53/2af8772d9aec614e3fc65e53d4a993ad73c61daa8bbd85a873\n",
            "Successfully built pytorch-tabular future antlr4-python3-runtime\n",
            "Installing collected packages: multidict, frozenlist, yarl, asynctest, async-timeout, aiosignal, pyDeprecate, pandas, fsspec, aiohttp, torchmetrics, PyYAML, future, antlr4-python3-runtime, pytorch-tabnet, pytorch-lightning, omegaconf, einops, category-encoders, pytorch-tabular\n",
            "  Attempting uninstall: pandas\n",
            "    Found existing installation: pandas 1.3.5\n",
            "    Uninstalling pandas-1.3.5:\n",
            "      Successfully uninstalled pandas-1.3.5\n",
            "  Attempting uninstall: PyYAML\n",
            "    Found existing installation: PyYAML 3.13\n",
            "    Uninstalling PyYAML-3.13:\n",
            "      Successfully uninstalled PyYAML-3.13\n",
            "  Attempting uninstall: future\n",
            "    Found existing installation: future 0.16.0\n",
            "    Uninstalling future-0.16.0:\n",
            "      Successfully uninstalled future-0.16.0\n",
            "  Attempting uninstall: pytorch-tabnet\n",
            "    Found existing installation: pytorch-tabnet 3.1.1\n",
            "    Uninstalling pytorch-tabnet-3.1.1:\n",
            "      Successfully uninstalled pytorch-tabnet-3.1.1\n",
            "Successfully installed PyYAML-5.4.1 aiohttp-3.8.1 aiosignal-1.2.0 antlr4-python3-runtime-4.9.3 async-timeout-4.0.2 asynctest-0.13.0 category-encoders-2.2.2 einops-0.3.0 frozenlist-1.3.0 fsspec-2022.3.0 future-0.18.2 multidict-6.0.2 omegaconf-2.2.1 pandas-1.1.5 pyDeprecate-0.3.0 pytorch-lightning-1.3.6 pytorch-tabnet-3.0.0 pytorch-tabular-0.7.0 torchmetrics-0.8.2 yarl-1.7.2\n"
          ]
        },
        {
          "output_type": "display_data",
          "data": {
            "application/vnd.colab-display-data+json": {
              "pip_warning": {
                "packages": [
                  "pydevd_plugins"
                ]
              }
            }
          },
          "metadata": {}
        },
        {
          "output_type": "stream",
          "name": "stdout",
          "text": [
            "Collecting catboost\n",
            "  Downloading catboost-1.0.5-cp37-none-manylinux1_x86_64.whl (76.6 MB)\n",
            "\u001b[K     |████████████████████████████████| 76.6 MB 1.1 MB/s \n",
            "\u001b[?25hRequirement already satisfied: plotly in /usr/local/lib/python3.7/dist-packages (from catboost) (5.5.0)\n",
            "Requirement already satisfied: graphviz in /usr/local/lib/python3.7/dist-packages (from catboost) (0.10.1)\n",
            "Requirement already satisfied: pandas>=0.24.0 in /usr/local/lib/python3.7/dist-packages (from catboost) (1.1.5)\n",
            "Requirement already satisfied: numpy>=1.16.0 in /usr/local/lib/python3.7/dist-packages (from catboost) (1.21.6)\n",
            "Requirement already satisfied: matplotlib in /usr/local/lib/python3.7/dist-packages (from catboost) (3.2.2)\n",
            "Requirement already satisfied: six in /usr/local/lib/python3.7/dist-packages (from catboost) (1.15.0)\n",
            "Requirement already satisfied: scipy in /usr/local/lib/python3.7/dist-packages (from catboost) (1.4.1)\n",
            "Requirement already satisfied: python-dateutil>=2.7.3 in /usr/local/lib/python3.7/dist-packages (from pandas>=0.24.0->catboost) (2.8.2)\n",
            "Requirement already satisfied: pytz>=2017.2 in /usr/local/lib/python3.7/dist-packages (from pandas>=0.24.0->catboost) (2022.1)\n",
            "Requirement already satisfied: pyparsing!=2.0.4,!=2.1.2,!=2.1.6,>=2.0.1 in /usr/local/lib/python3.7/dist-packages (from matplotlib->catboost) (3.0.9)\n",
            "Requirement already satisfied: kiwisolver>=1.0.1 in /usr/local/lib/python3.7/dist-packages (from matplotlib->catboost) (1.4.2)\n",
            "Requirement already satisfied: cycler>=0.10 in /usr/local/lib/python3.7/dist-packages (from matplotlib->catboost) (0.11.0)\n",
            "Requirement already satisfied: typing-extensions in /usr/local/lib/python3.7/dist-packages (from kiwisolver>=1.0.1->matplotlib->catboost) (4.2.0)\n",
            "Requirement already satisfied: tenacity>=6.2.0 in /usr/local/lib/python3.7/dist-packages (from plotly->catboost) (8.0.1)\n",
            "Installing collected packages: catboost\n",
            "Successfully installed catboost-1.0.5\n",
            "Collecting deeptables\n",
            "  Downloading deeptables-0.2.3.1-py3-none-any.whl (832 kB)\n",
            "\u001b[K     |████████████████████████████████| 832 kB 3.9 MB/s \n",
            "\u001b[?25hRequirement already satisfied: category-encoders>=2.1.0 in /usr/local/lib/python3.7/dist-packages (from deeptables) (2.2.2)\n",
            "Collecting hypernets==0.2.5.1\n",
            "  Downloading hypernets-0.2.5.1-py3-none-any.whl (1.7 MB)\n",
            "\u001b[K     |████████████████████████████████| 1.7 MB 53.0 MB/s \n",
            "\u001b[?25hRequirement already satisfied: packaging in /usr/local/lib/python3.7/dist-packages (from deeptables) (21.3)\n",
            "Requirement already satisfied: scikit-learn>=0.22.1 in /usr/local/lib/python3.7/dist-packages (from deeptables) (1.0.2)\n",
            "Requirement already satisfied: pandas>=0.25.3 in /usr/local/lib/python3.7/dist-packages (from deeptables) (1.1.5)\n",
            "Collecting h5py==2.10.0\n",
            "  Downloading h5py-2.10.0-cp37-cp37m-manylinux1_x86_64.whl (2.9 MB)\n",
            "\u001b[K     |████████████████████████████████| 2.9 MB 45.1 MB/s \n",
            "\u001b[?25hRequirement already satisfied: scipy>=1.3.1 in /usr/local/lib/python3.7/dist-packages (from deeptables) (1.4.1)\n",
            "Collecting eli5\n",
            "  Downloading eli5-0.13.0.tar.gz (216 kB)\n",
            "\u001b[K     |████████████████████████████████| 216 kB 45.4 MB/s \n",
            "\u001b[?25hRequirement already satisfied: lightgbm>=2.2.0 in /usr/local/lib/python3.7/dist-packages (from deeptables) (2.2.3)\n",
            "Requirement already satisfied: numpy>=1.16.5 in /usr/local/lib/python3.7/dist-packages (from deeptables) (1.21.6)\n",
            "Requirement already satisfied: six in /usr/local/lib/python3.7/dist-packages (from h5py==2.10.0->deeptables) (1.15.0)\n",
            "Requirement already satisfied: seaborn>=0.11.0 in /usr/local/lib/python3.7/dist-packages (from hypernets==0.2.5.1->deeptables) (0.11.2)\n",
            "Collecting paramiko\n",
            "  Downloading paramiko-2.11.0-py2.py3-none-any.whl (212 kB)\n",
            "\u001b[K     |████████████████████████████████| 212 kB 54.4 MB/s \n",
            "\u001b[?25hRequirement already satisfied: requests in /usr/local/lib/python3.7/dist-packages (from hypernets==0.2.5.1->deeptables) (2.23.0)\n",
            "Collecting XlsxWriter>=3.0.2\n",
            "  Downloading XlsxWriter-3.0.3-py3-none-any.whl (149 kB)\n",
            "\u001b[K     |████████████████████████████████| 149 kB 59.7 MB/s \n",
            "\u001b[?25hRequirement already satisfied: ipython in /usr/local/lib/python3.7/dist-packages (from hypernets==0.2.5.1->deeptables) (5.5.0)\n",
            "Collecting python-geohash\n",
            "  Downloading python-geohash-0.8.5.tar.gz (17 kB)\n",
            "Requirement already satisfied: pyyaml in /usr/local/lib/python3.7/dist-packages (from hypernets==0.2.5.1->deeptables) (5.4.1)\n",
            "Requirement already satisfied: joblib in /usr/local/lib/python3.7/dist-packages (from hypernets==0.2.5.1->deeptables) (1.1.0)\n",
            "Requirement already satisfied: psutil in /usr/local/lib/python3.7/dist-packages (from hypernets==0.2.5.1->deeptables) (5.4.8)\n",
            "Collecting featuretools>=0.23.0\n",
            "  Downloading featuretools-1.9.0-py3-none-any.whl (353 kB)\n",
            "\u001b[K     |████████████████████████████████| 353 kB 64.1 MB/s \n",
            "\u001b[?25hRequirement already satisfied: traitlets in /usr/local/lib/python3.7/dist-packages (from hypernets==0.2.5.1->deeptables) (5.2.0)\n",
            "Requirement already satisfied: tornado in /usr/local/lib/python3.7/dist-packages (from hypernets==0.2.5.1->deeptables) (5.1.1)\n",
            "Requirement already satisfied: pyarrow in /usr/local/lib/python3.7/dist-packages (from hypernets==0.2.5.1->deeptables) (6.0.1)\n",
            "Requirement already satisfied: prettytable in /usr/local/lib/python3.7/dist-packages (from hypernets==0.2.5.1->deeptables) (3.3.0)\n",
            "Requirement already satisfied: fsspec>=0.8.0 in /usr/local/lib/python3.7/dist-packages (from hypernets==0.2.5.1->deeptables) (2022.3.0)\n",
            "Requirement already satisfied: statsmodels>=0.9.0 in /usr/local/lib/python3.7/dist-packages (from category-encoders>=2.1.0->deeptables) (0.10.2)\n",
            "Requirement already satisfied: patsy>=0.5.1 in /usr/local/lib/python3.7/dist-packages (from category-encoders>=2.1.0->deeptables) (0.5.2)\n",
            "Collecting woodwork>=0.16.2\n",
            "  Downloading woodwork-0.16.3-py3-none-any.whl (207 kB)\n",
            "\u001b[K     |████████████████████████████████| 207 kB 60.6 MB/s \n",
            "\u001b[?25hRequirement already satisfied: click>=7.0.0 in /usr/local/lib/python3.7/dist-packages (from featuretools>=0.23.0->hypernets==0.2.5.1->deeptables) (7.1.2)\n",
            "Collecting cloudpickle>=1.5.0\n",
            "  Downloading cloudpickle-2.0.0-py3-none-any.whl (25 kB)\n",
            "Collecting distributed>=2021.10.0\n",
            "  Downloading distributed-2022.2.0-py3-none-any.whl (837 kB)\n",
            "\u001b[K     |████████████████████████████████| 837 kB 49.7 MB/s \n",
            "\u001b[?25hCollecting holidays>=0.13\n",
            "  Downloading holidays-0.13-py3-none-any.whl (172 kB)\n",
            "\u001b[K     |████████████████████████████████| 172 kB 60.1 MB/s \n",
            "\u001b[?25hCollecting psutil\n",
            "  Downloading psutil-5.9.0-cp37-cp37m-manylinux_2_12_x86_64.manylinux2010_x86_64.manylinux_2_17_x86_64.manylinux2014_x86_64.whl (280 kB)\n",
            "\u001b[K     |████████████████████████████████| 280 kB 57.2 MB/s \n",
            "\u001b[?25hRequirement already satisfied: tqdm>=4.32.0 in /usr/local/lib/python3.7/dist-packages (from featuretools>=0.23.0->hypernets==0.2.5.1->deeptables) (4.64.0)\n",
            "Collecting dask[dataframe]>=2021.10.0\n",
            "  Downloading dask-2022.2.0-py3-none-any.whl (1.1 MB)\n",
            "\u001b[K     |████████████████████████████████| 1.1 MB 58.2 MB/s \n",
            "\u001b[?25hCollecting pandas>=0.25.3\n",
            "  Downloading pandas-1.3.5-cp37-cp37m-manylinux_2_17_x86_64.manylinux2014_x86_64.whl (11.3 MB)\n",
            "\u001b[K     |████████████████████████████████| 11.3 MB 40.9 MB/s \n",
            "\u001b[?25hCollecting partd>=0.3.10\n",
            "  Downloading partd-1.2.0-py3-none-any.whl (19 kB)\n",
            "Requirement already satisfied: toolz>=0.8.2 in /usr/local/lib/python3.7/dist-packages (from dask[dataframe]>=2021.10.0->featuretools>=0.23.0->hypernets==0.2.5.1->deeptables) (0.11.2)\n",
            "Requirement already satisfied: tblib>=1.6.0 in /usr/local/lib/python3.7/dist-packages (from distributed>=2021.10.0->featuretools>=0.23.0->hypernets==0.2.5.1->deeptables) (1.7.0)\n",
            "Requirement already satisfied: msgpack>=0.6.0 in /usr/local/lib/python3.7/dist-packages (from distributed>=2021.10.0->featuretools>=0.23.0->hypernets==0.2.5.1->deeptables) (1.0.3)\n",
            "Requirement already satisfied: zict>=0.1.3 in /usr/local/lib/python3.7/dist-packages (from distributed>=2021.10.0->featuretools>=0.23.0->hypernets==0.2.5.1->deeptables) (2.2.0)\n",
            "Requirement already satisfied: setuptools in /usr/local/lib/python3.7/dist-packages (from distributed>=2021.10.0->featuretools>=0.23.0->hypernets==0.2.5.1->deeptables) (57.4.0)\n",
            "Requirement already satisfied: jinja2 in /usr/local/lib/python3.7/dist-packages (from distributed>=2021.10.0->featuretools>=0.23.0->hypernets==0.2.5.1->deeptables) (2.11.3)\n",
            "Requirement already satisfied: sortedcontainers!=2.0.0,!=2.0.1 in /usr/local/lib/python3.7/dist-packages (from distributed>=2021.10.0->featuretools>=0.23.0->hypernets==0.2.5.1->deeptables) (2.4.0)\n",
            "Requirement already satisfied: korean-lunar-calendar in /usr/local/lib/python3.7/dist-packages (from holidays>=0.13->featuretools>=0.23.0->hypernets==0.2.5.1->deeptables) (0.2.1)\n",
            "Requirement already satisfied: convertdate>=2.3.0 in /usr/local/lib/python3.7/dist-packages (from holidays>=0.13->featuretools>=0.23.0->hypernets==0.2.5.1->deeptables) (2.4.0)\n",
            "Requirement already satisfied: hijri-converter in /usr/local/lib/python3.7/dist-packages (from holidays>=0.13->featuretools>=0.23.0->hypernets==0.2.5.1->deeptables) (2.2.3)\n",
            "Requirement already satisfied: python-dateutil in /usr/local/lib/python3.7/dist-packages (from holidays>=0.13->featuretools>=0.23.0->hypernets==0.2.5.1->deeptables) (2.8.2)\n",
            "Requirement already satisfied: pymeeus<=1,>=0.3.13 in /usr/local/lib/python3.7/dist-packages (from convertdate>=2.3.0->holidays>=0.13->featuretools>=0.23.0->hypernets==0.2.5.1->deeptables) (0.5.11)\n",
            "Requirement already satisfied: pyparsing!=3.0.5,>=2.0.2 in /usr/local/lib/python3.7/dist-packages (from packaging->deeptables) (3.0.9)\n",
            "Requirement already satisfied: pytz>=2017.3 in /usr/local/lib/python3.7/dist-packages (from pandas>=0.25.3->deeptables) (2022.1)\n",
            "Collecting locket\n",
            "  Downloading locket-1.0.0-py2.py3-none-any.whl (4.4 kB)\n",
            "Requirement already satisfied: threadpoolctl>=2.0.0 in /usr/local/lib/python3.7/dist-packages (from scikit-learn>=0.22.1->deeptables) (3.1.0)\n",
            "Requirement already satisfied: matplotlib>=2.2 in /usr/local/lib/python3.7/dist-packages (from seaborn>=0.11.0->hypernets==0.2.5.1->deeptables) (3.2.2)\n",
            "Requirement already satisfied: cycler>=0.10 in /usr/local/lib/python3.7/dist-packages (from matplotlib>=2.2->seaborn>=0.11.0->hypernets==0.2.5.1->deeptables) (0.11.0)\n",
            "Requirement already satisfied: kiwisolver>=1.0.1 in /usr/local/lib/python3.7/dist-packages (from matplotlib>=2.2->seaborn>=0.11.0->hypernets==0.2.5.1->deeptables) (1.4.2)\n",
            "Requirement already satisfied: typing-extensions in /usr/local/lib/python3.7/dist-packages (from kiwisolver>=1.0.1->matplotlib>=2.2->seaborn>=0.11.0->hypernets==0.2.5.1->deeptables) (4.2.0)\n",
            "Requirement already satisfied: heapdict in /usr/local/lib/python3.7/dist-packages (from zict>=0.1.3->distributed>=2021.10.0->featuretools>=0.23.0->hypernets==0.2.5.1->deeptables) (1.0.1)\n",
            "Requirement already satisfied: attrs>17.1.0 in /usr/local/lib/python3.7/dist-packages (from eli5->deeptables) (21.4.0)\n",
            "Collecting jinja2\n",
            "  Downloading Jinja2-3.1.2-py3-none-any.whl (133 kB)\n",
            "\u001b[K     |████████████████████████████████| 133 kB 59.4 MB/s \n",
            "\u001b[?25hRequirement already satisfied: graphviz in /usr/local/lib/python3.7/dist-packages (from eli5->deeptables) (0.10.1)\n",
            "Requirement already satisfied: tabulate>=0.7.7 in /usr/local/lib/python3.7/dist-packages (from eli5->deeptables) (0.8.9)\n",
            "Requirement already satisfied: MarkupSafe>=2.0 in /usr/local/lib/python3.7/dist-packages (from jinja2->distributed>=2021.10.0->featuretools>=0.23.0->hypernets==0.2.5.1->deeptables) (2.0.1)\n",
            "Requirement already satisfied: pygments in /usr/local/lib/python3.7/dist-packages (from ipython->hypernets==0.2.5.1->deeptables) (2.6.1)\n",
            "Requirement already satisfied: simplegeneric>0.8 in /usr/local/lib/python3.7/dist-packages (from ipython->hypernets==0.2.5.1->deeptables) (0.8.1)\n",
            "Requirement already satisfied: pexpect in /usr/local/lib/python3.7/dist-packages (from ipython->hypernets==0.2.5.1->deeptables) (4.8.0)\n",
            "Requirement already satisfied: pickleshare in /usr/local/lib/python3.7/dist-packages (from ipython->hypernets==0.2.5.1->deeptables) (0.7.5)\n",
            "Requirement already satisfied: prompt-toolkit<2.0.0,>=1.0.4 in /usr/local/lib/python3.7/dist-packages (from ipython->hypernets==0.2.5.1->deeptables) (1.0.18)\n",
            "Requirement already satisfied: decorator in /usr/local/lib/python3.7/dist-packages (from ipython->hypernets==0.2.5.1->deeptables) (4.4.2)\n",
            "Requirement already satisfied: wcwidth in /usr/local/lib/python3.7/dist-packages (from prompt-toolkit<2.0.0,>=1.0.4->ipython->hypernets==0.2.5.1->deeptables) (0.2.5)\n",
            "Collecting pynacl>=1.0.1\n",
            "  Downloading PyNaCl-1.5.0-cp36-abi3-manylinux_2_17_x86_64.manylinux2014_x86_64.manylinux_2_24_x86_64.whl (856 kB)\n",
            "\u001b[K     |████████████████████████████████| 856 kB 56.5 MB/s \n",
            "\u001b[?25hCollecting bcrypt>=3.1.3\n",
            "  Downloading bcrypt-3.2.2-cp36-abi3-manylinux_2_17_x86_64.manylinux2014_x86_64.manylinux_2_24_x86_64.whl (62 kB)\n",
            "\u001b[K     |████████████████████████████████| 62 kB 831 kB/s \n",
            "\u001b[?25hCollecting cryptography>=2.5\n",
            "  Downloading cryptography-37.0.2-cp36-abi3-manylinux_2_24_x86_64.whl (4.0 MB)\n",
            "\u001b[K     |████████████████████████████████| 4.0 MB 36.1 MB/s \n",
            "\u001b[?25hRequirement already satisfied: cffi>=1.1 in /usr/local/lib/python3.7/dist-packages (from bcrypt>=3.1.3->paramiko->hypernets==0.2.5.1->deeptables) (1.15.0)\n",
            "Requirement already satisfied: pycparser in /usr/local/lib/python3.7/dist-packages (from cffi>=1.1->bcrypt>=3.1.3->paramiko->hypernets==0.2.5.1->deeptables) (2.21)\n",
            "Requirement already satisfied: ptyprocess>=0.5 in /usr/local/lib/python3.7/dist-packages (from pexpect->ipython->hypernets==0.2.5.1->deeptables) (0.7.0)\n",
            "Requirement already satisfied: importlib-metadata in /usr/local/lib/python3.7/dist-packages (from prettytable->hypernets==0.2.5.1->deeptables) (4.11.3)\n",
            "Requirement already satisfied: zipp>=0.5 in /usr/local/lib/python3.7/dist-packages (from importlib-metadata->prettytable->hypernets==0.2.5.1->deeptables) (3.8.0)\n",
            "Requirement already satisfied: urllib3!=1.25.0,!=1.25.1,<1.26,>=1.21.1 in /usr/local/lib/python3.7/dist-packages (from requests->hypernets==0.2.5.1->deeptables) (1.24.3)\n",
            "Requirement already satisfied: certifi>=2017.4.17 in /usr/local/lib/python3.7/dist-packages (from requests->hypernets==0.2.5.1->deeptables) (2021.10.8)\n",
            "Requirement already satisfied: idna<3,>=2.5 in /usr/local/lib/python3.7/dist-packages (from requests->hypernets==0.2.5.1->deeptables) (2.10)\n",
            "Requirement already satisfied: chardet<4,>=3.0.2 in /usr/local/lib/python3.7/dist-packages (from requests->hypernets==0.2.5.1->deeptables) (3.0.4)\n",
            "Building wheels for collected packages: eli5, python-geohash\n",
            "  Building wheel for eli5 (setup.py) ... \u001b[?25l\u001b[?25hdone\n",
            "  Created wheel for eli5: filename=eli5-0.13.0-py2.py3-none-any.whl size=107748 sha256=5b414adf9fb21335913d13d59cceb162362f8387222732106a03f25a661f2da5\n",
            "  Stored in directory: /root/.cache/pip/wheels/cc/3c/96/3ead31a8e6c20fc0f1a707fde2e05d49a80b1b4b30096573be\n",
            "  Building wheel for python-geohash (setup.py) ... \u001b[?25l\u001b[?25hdone\n",
            "  Created wheel for python-geohash: filename=python_geohash-0.8.5-cp37-cp37m-linux_x86_64.whl size=44800 sha256=178a83189a9c6fc4a0e2bf6aa1fae39a60822ed42af85cd9924e863b241fc587\n",
            "  Stored in directory: /root/.cache/pip/wheels/ea/62/7a/e8b943f1d8025cd93a93928a162319e56843301c8c06610ffe\n",
            "Successfully built eli5 python-geohash\n",
            "Installing collected packages: locket, partd, cloudpickle, psutil, pandas, jinja2, dask, woodwork, pynacl, holidays, distributed, cryptography, bcrypt, XlsxWriter, python-geohash, paramiko, featuretools, hypernets, h5py, eli5, deeptables\n",
            "  Attempting uninstall: cloudpickle\n",
            "    Found existing installation: cloudpickle 1.3.0\n",
            "    Uninstalling cloudpickle-1.3.0:\n",
            "      Successfully uninstalled cloudpickle-1.3.0\n",
            "  Attempting uninstall: psutil\n",
            "    Found existing installation: psutil 5.4.8\n",
            "    Uninstalling psutil-5.4.8:\n",
            "      Successfully uninstalled psutil-5.4.8\n",
            "  Attempting uninstall: pandas\n",
            "    Found existing installation: pandas 1.1.5\n",
            "    Uninstalling pandas-1.1.5:\n",
            "      Successfully uninstalled pandas-1.1.5\n",
            "  Attempting uninstall: jinja2\n",
            "    Found existing installation: Jinja2 2.11.3\n",
            "    Uninstalling Jinja2-2.11.3:\n",
            "      Successfully uninstalled Jinja2-2.11.3\n",
            "  Attempting uninstall: dask\n",
            "    Found existing installation: dask 2.12.0\n",
            "    Uninstalling dask-2.12.0:\n",
            "      Successfully uninstalled dask-2.12.0\n",
            "  Attempting uninstall: holidays\n",
            "    Found existing installation: holidays 0.10.5.2\n",
            "    Uninstalling holidays-0.10.5.2:\n",
            "      Successfully uninstalled holidays-0.10.5.2\n",
            "  Attempting uninstall: distributed\n",
            "    Found existing installation: distributed 1.25.3\n",
            "    Uninstalling distributed-1.25.3:\n",
            "      Successfully uninstalled distributed-1.25.3\n",
            "  Attempting uninstall: h5py\n",
            "    Found existing installation: h5py 3.1.0\n",
            "    Uninstalling h5py-3.1.0:\n",
            "      Successfully uninstalled h5py-3.1.0\n",
            "\u001b[31mERROR: pip's dependency resolver does not currently take into account all the packages that are installed. This behaviour is the source of the following dependency conflicts.\n",
            "tensorflow 2.8.0+zzzcolab20220506162203 requires tf-estimator-nightly==2.8.0.dev2021122109, which is not installed.\n",
            "pytorch-tabular 0.7.0 requires pandas==1.1.5, but you have pandas 1.3.5 which is incompatible.\n",
            "gym 0.17.3 requires cloudpickle<1.7.0,>=1.2.0, but you have cloudpickle 2.0.0 which is incompatible.\n",
            "flask 1.1.4 requires Jinja2<3.0,>=2.10.1, but you have jinja2 3.1.2 which is incompatible.\n",
            "datascience 0.10.6 requires folium==0.2.1, but you have folium 0.8.3 which is incompatible.\u001b[0m\n",
            "Successfully installed XlsxWriter-3.0.3 bcrypt-3.2.2 cloudpickle-2.0.0 cryptography-37.0.2 dask-2022.2.0 deeptables-0.2.3.1 distributed-2022.2.0 eli5-0.13.0 featuretools-1.9.0 h5py-2.10.0 holidays-0.13 hypernets-0.2.5.1 jinja2-3.1.2 locket-1.0.0 pandas-1.3.5 paramiko-2.11.0 partd-1.2.0 psutil-5.9.0 pynacl-1.5.0 python-geohash-0.8.5 woodwork-0.16.3\n"
          ]
        },
        {
          "output_type": "display_data",
          "data": {
            "application/vnd.colab-display-data+json": {
              "pip_warning": {
                "packages": [
                  "psutil"
                ]
              }
            }
          },
          "metadata": {}
        }
      ]
    },
    {
      "cell_type": "code",
      "execution_count": 4,
      "id": "2067e91b",
      "metadata": {
        "id": "2067e91b"
      },
      "outputs": [],
      "source": [
        "import warnings\n",
        "warnings.filterwarnings('ignore')\n",
        "\n",
        "from pytorch_tabnet.tab_model import TabNetClassifier, TabNetRegressor\n",
        "import numpy as np\n",
        "import pandas as pd\n",
        "from sklearn.preprocessing import StandardScaler\n",
        "from sklearn.model_selection import train_test_split\n",
        "\n",
        "\n",
        "from sklearn.metrics import accuracy_score, balanced_accuracy_score\n",
        "from sklearn.metrics import classification_report\n",
        "import pickle\n",
        "from sklearn.metrics import precision_recall_fscore_support\n",
        "# build the lightgbm model\n",
        "import lightgbm as lgb\n",
        "\n",
        "from catboost import CatBoostClassifier, Pool\n",
        "from hyperopt import fmin, hp, tpe\n",
        "import pandas as pd\n",
        "from sklearn.model_selection import StratifiedKFold\n",
        "\n",
        "import numpy as np\n",
        "from deeptables.models import deeptable, deepnets\n",
        "from deeptables.datasets import dsutils\n",
        "from sklearn.model_selection import train_test_split"
      ]
    },
    {
      "cell_type": "code",
      "source": [
        "!pip  install wget"
      ],
      "metadata": {
        "colab": {
          "base_uri": "https://localhost:8080/"
        },
        "id": "mGXe6slc_C5P",
        "outputId": "763bf676-a712-4328-9ad2-30d4d53fbcd0"
      },
      "id": "mGXe6slc_C5P",
      "execution_count": 1,
      "outputs": [
        {
          "output_type": "stream",
          "name": "stdout",
          "text": [
            "Collecting wget\n",
            "  Downloading wget-3.2.zip (10 kB)\n",
            "Building wheels for collected packages: wget\n",
            "  Building wheel for wget (setup.py) ... \u001b[?25l\u001b[?25hdone\n",
            "  Created wheel for wget: filename=wget-3.2-py3-none-any.whl size=9675 sha256=51ed2aabb5f78ae5a0d52932ad76f4079763bbd62feae0d0de1b1c39601b1f43\n",
            "  Stored in directory: /root/.cache/pip/wheels/a1/b6/7c/0e63e34eb06634181c63adacca38b79ff8f35c37e3c13e3c02\n",
            "Successfully built wget\n",
            "Installing collected packages: wget\n",
            "Successfully installed wget-3.2\n"
          ]
        }
      ]
    },
    {
      "cell_type": "code",
      "source": [
        "import wget\n",
        "print('Downloading binary dataset.....')\n",
        "data = wget.download('https://dl.dropboxusercontent.com/s/ceup379ooybbpyo/bin_data.csv?dl=0')"
      ],
      "metadata": {
        "colab": {
          "base_uri": "https://localhost:8080/"
        },
        "id": "kP02egXV_AL2",
        "outputId": "d62aab29-3e09-4a30-ed2d-ee61ba75221b"
      },
      "id": "kP02egXV_AL2",
      "execution_count": 2,
      "outputs": [
        {
          "output_type": "stream",
          "name": "stdout",
          "text": [
            "Downloading binary dataset.....\n"
          ]
        }
      ]
    },
    {
      "cell_type": "markdown",
      "id": "eaccd884",
      "metadata": {
        "id": "eaccd884"
      },
      "source": [
        "# read csv"
      ]
    },
    {
      "cell_type": "code",
      "execution_count": 5,
      "id": "f8cee4fc",
      "metadata": {
        "colab": {
          "base_uri": "https://localhost:8080/",
          "height": 300
        },
        "id": "f8cee4fc",
        "outputId": "049c1147-2ecc-4b9c-f460-082a5ac31ad6"
      },
      "outputs": [
        {
          "output_type": "execute_result",
          "data": {
            "text/plain": [
              "      count  srv_serror_rate  serror_rate  dst_host_serror_rate  \\\n",
              "0 -0.717045        -0.631929    -0.637209             -0.639532   \n",
              "1 -0.620982        -0.631929    -0.637209             -0.639532   \n",
              "2  0.339648         1.605104     1.602664              1.608759   \n",
              "3 -0.690846        -0.184522    -0.189235             -0.572083   \n",
              "4 -0.472521        -0.631929    -0.637209             -0.639532   \n",
              "\n",
              "   dst_host_srv_serror_rate  logged_in  dst_host_same_srv_rate  \\\n",
              "0                 -0.624871  -0.809262               -0.782367   \n",
              "1                 -0.624871  -0.809262               -1.161030   \n",
              "2                  1.618955  -0.809262               -0.938287   \n",
              "3                 -0.602433   1.235694                1.066401   \n",
              "4                 -0.624871   1.235694                1.066401   \n",
              "\n",
              "   dst_host_srv_count  same_srv_rate  protocol_type_icmp  ...  flag_S0  \\\n",
              "0           -0.818890       0.771283                   0  ...        0   \n",
              "1           -1.035688      -1.321428                   0  ...        0   \n",
              "2           -0.809857      -1.389669                   0  ...        1   \n",
              "3            1.258754       0.771283                   0  ...        0   \n",
              "4            1.258754       0.771283                   0  ...        0   \n",
              "\n",
              "   flag_S1  flag_S2  flag_S3  flag_SF  flag_SH  intrusion  abnormal  normal  \\\n",
              "0        0        0        0        1        0          1         0       1   \n",
              "1        0        0        0        1        0          1         0       1   \n",
              "2        0        0        0        0        0          0         1       0   \n",
              "3        0        0        0        1        0          1         0       1   \n",
              "4        0        0        0        1        0          1         0       1   \n",
              "\n",
              "      label  \n",
              "0    normal  \n",
              "1    normal  \n",
              "2  abnormal  \n",
              "3    normal  \n",
              "4    normal  \n",
              "\n",
              "[5 rows x 97 columns]"
            ],
            "text/html": [
              "\n",
              "  <div id=\"df-8fa2b6a9-ce55-42d7-987d-b5c2b00194e7\">\n",
              "    <div class=\"colab-df-container\">\n",
              "      <div>\n",
              "<style scoped>\n",
              "    .dataframe tbody tr th:only-of-type {\n",
              "        vertical-align: middle;\n",
              "    }\n",
              "\n",
              "    .dataframe tbody tr th {\n",
              "        vertical-align: top;\n",
              "    }\n",
              "\n",
              "    .dataframe thead th {\n",
              "        text-align: right;\n",
              "    }\n",
              "</style>\n",
              "<table border=\"1\" class=\"dataframe\">\n",
              "  <thead>\n",
              "    <tr style=\"text-align: right;\">\n",
              "      <th></th>\n",
              "      <th>count</th>\n",
              "      <th>srv_serror_rate</th>\n",
              "      <th>serror_rate</th>\n",
              "      <th>dst_host_serror_rate</th>\n",
              "      <th>dst_host_srv_serror_rate</th>\n",
              "      <th>logged_in</th>\n",
              "      <th>dst_host_same_srv_rate</th>\n",
              "      <th>dst_host_srv_count</th>\n",
              "      <th>same_srv_rate</th>\n",
              "      <th>protocol_type_icmp</th>\n",
              "      <th>...</th>\n",
              "      <th>flag_S0</th>\n",
              "      <th>flag_S1</th>\n",
              "      <th>flag_S2</th>\n",
              "      <th>flag_S3</th>\n",
              "      <th>flag_SF</th>\n",
              "      <th>flag_SH</th>\n",
              "      <th>intrusion</th>\n",
              "      <th>abnormal</th>\n",
              "      <th>normal</th>\n",
              "      <th>label</th>\n",
              "    </tr>\n",
              "  </thead>\n",
              "  <tbody>\n",
              "    <tr>\n",
              "      <th>0</th>\n",
              "      <td>-0.717045</td>\n",
              "      <td>-0.631929</td>\n",
              "      <td>-0.637209</td>\n",
              "      <td>-0.639532</td>\n",
              "      <td>-0.624871</td>\n",
              "      <td>-0.809262</td>\n",
              "      <td>-0.782367</td>\n",
              "      <td>-0.818890</td>\n",
              "      <td>0.771283</td>\n",
              "      <td>0</td>\n",
              "      <td>...</td>\n",
              "      <td>0</td>\n",
              "      <td>0</td>\n",
              "      <td>0</td>\n",
              "      <td>0</td>\n",
              "      <td>1</td>\n",
              "      <td>0</td>\n",
              "      <td>1</td>\n",
              "      <td>0</td>\n",
              "      <td>1</td>\n",
              "      <td>normal</td>\n",
              "    </tr>\n",
              "    <tr>\n",
              "      <th>1</th>\n",
              "      <td>-0.620982</td>\n",
              "      <td>-0.631929</td>\n",
              "      <td>-0.637209</td>\n",
              "      <td>-0.639532</td>\n",
              "      <td>-0.624871</td>\n",
              "      <td>-0.809262</td>\n",
              "      <td>-1.161030</td>\n",
              "      <td>-1.035688</td>\n",
              "      <td>-1.321428</td>\n",
              "      <td>0</td>\n",
              "      <td>...</td>\n",
              "      <td>0</td>\n",
              "      <td>0</td>\n",
              "      <td>0</td>\n",
              "      <td>0</td>\n",
              "      <td>1</td>\n",
              "      <td>0</td>\n",
              "      <td>1</td>\n",
              "      <td>0</td>\n",
              "      <td>1</td>\n",
              "      <td>normal</td>\n",
              "    </tr>\n",
              "    <tr>\n",
              "      <th>2</th>\n",
              "      <td>0.339648</td>\n",
              "      <td>1.605104</td>\n",
              "      <td>1.602664</td>\n",
              "      <td>1.608759</td>\n",
              "      <td>1.618955</td>\n",
              "      <td>-0.809262</td>\n",
              "      <td>-0.938287</td>\n",
              "      <td>-0.809857</td>\n",
              "      <td>-1.389669</td>\n",
              "      <td>0</td>\n",
              "      <td>...</td>\n",
              "      <td>1</td>\n",
              "      <td>0</td>\n",
              "      <td>0</td>\n",
              "      <td>0</td>\n",
              "      <td>0</td>\n",
              "      <td>0</td>\n",
              "      <td>0</td>\n",
              "      <td>1</td>\n",
              "      <td>0</td>\n",
              "      <td>abnormal</td>\n",
              "    </tr>\n",
              "    <tr>\n",
              "      <th>3</th>\n",
              "      <td>-0.690846</td>\n",
              "      <td>-0.184522</td>\n",
              "      <td>-0.189235</td>\n",
              "      <td>-0.572083</td>\n",
              "      <td>-0.602433</td>\n",
              "      <td>1.235694</td>\n",
              "      <td>1.066401</td>\n",
              "      <td>1.258754</td>\n",
              "      <td>0.771283</td>\n",
              "      <td>0</td>\n",
              "      <td>...</td>\n",
              "      <td>0</td>\n",
              "      <td>0</td>\n",
              "      <td>0</td>\n",
              "      <td>0</td>\n",
              "      <td>1</td>\n",
              "      <td>0</td>\n",
              "      <td>1</td>\n",
              "      <td>0</td>\n",
              "      <td>1</td>\n",
              "      <td>normal</td>\n",
              "    </tr>\n",
              "    <tr>\n",
              "      <th>4</th>\n",
              "      <td>-0.472521</td>\n",
              "      <td>-0.631929</td>\n",
              "      <td>-0.637209</td>\n",
              "      <td>-0.639532</td>\n",
              "      <td>-0.624871</td>\n",
              "      <td>1.235694</td>\n",
              "      <td>1.066401</td>\n",
              "      <td>1.258754</td>\n",
              "      <td>0.771283</td>\n",
              "      <td>0</td>\n",
              "      <td>...</td>\n",
              "      <td>0</td>\n",
              "      <td>0</td>\n",
              "      <td>0</td>\n",
              "      <td>0</td>\n",
              "      <td>1</td>\n",
              "      <td>0</td>\n",
              "      <td>1</td>\n",
              "      <td>0</td>\n",
              "      <td>1</td>\n",
              "      <td>normal</td>\n",
              "    </tr>\n",
              "  </tbody>\n",
              "</table>\n",
              "<p>5 rows × 97 columns</p>\n",
              "</div>\n",
              "      <button class=\"colab-df-convert\" onclick=\"convertToInteractive('df-8fa2b6a9-ce55-42d7-987d-b5c2b00194e7')\"\n",
              "              title=\"Convert this dataframe to an interactive table.\"\n",
              "              style=\"display:none;\">\n",
              "        \n",
              "  <svg xmlns=\"http://www.w3.org/2000/svg\" height=\"24px\"viewBox=\"0 0 24 24\"\n",
              "       width=\"24px\">\n",
              "    <path d=\"M0 0h24v24H0V0z\" fill=\"none\"/>\n",
              "    <path d=\"M18.56 5.44l.94 2.06.94-2.06 2.06-.94-2.06-.94-.94-2.06-.94 2.06-2.06.94zm-11 1L8.5 8.5l.94-2.06 2.06-.94-2.06-.94L8.5 2.5l-.94 2.06-2.06.94zm10 10l.94 2.06.94-2.06 2.06-.94-2.06-.94-.94-2.06-.94 2.06-2.06.94z\"/><path d=\"M17.41 7.96l-1.37-1.37c-.4-.4-.92-.59-1.43-.59-.52 0-1.04.2-1.43.59L10.3 9.45l-7.72 7.72c-.78.78-.78 2.05 0 2.83L4 21.41c.39.39.9.59 1.41.59.51 0 1.02-.2 1.41-.59l7.78-7.78 2.81-2.81c.8-.78.8-2.07 0-2.86zM5.41 20L4 18.59l7.72-7.72 1.47 1.35L5.41 20z\"/>\n",
              "  </svg>\n",
              "      </button>\n",
              "      \n",
              "  <style>\n",
              "    .colab-df-container {\n",
              "      display:flex;\n",
              "      flex-wrap:wrap;\n",
              "      gap: 12px;\n",
              "    }\n",
              "\n",
              "    .colab-df-convert {\n",
              "      background-color: #E8F0FE;\n",
              "      border: none;\n",
              "      border-radius: 50%;\n",
              "      cursor: pointer;\n",
              "      display: none;\n",
              "      fill: #1967D2;\n",
              "      height: 32px;\n",
              "      padding: 0 0 0 0;\n",
              "      width: 32px;\n",
              "    }\n",
              "\n",
              "    .colab-df-convert:hover {\n",
              "      background-color: #E2EBFA;\n",
              "      box-shadow: 0px 1px 2px rgba(60, 64, 67, 0.3), 0px 1px 3px 1px rgba(60, 64, 67, 0.15);\n",
              "      fill: #174EA6;\n",
              "    }\n",
              "\n",
              "    [theme=dark] .colab-df-convert {\n",
              "      background-color: #3B4455;\n",
              "      fill: #D2E3FC;\n",
              "    }\n",
              "\n",
              "    [theme=dark] .colab-df-convert:hover {\n",
              "      background-color: #434B5C;\n",
              "      box-shadow: 0px 1px 3px 1px rgba(0, 0, 0, 0.15);\n",
              "      filter: drop-shadow(0px 1px 2px rgba(0, 0, 0, 0.3));\n",
              "      fill: #FFFFFF;\n",
              "    }\n",
              "  </style>\n",
              "\n",
              "      <script>\n",
              "        const buttonEl =\n",
              "          document.querySelector('#df-8fa2b6a9-ce55-42d7-987d-b5c2b00194e7 button.colab-df-convert');\n",
              "        buttonEl.style.display =\n",
              "          google.colab.kernel.accessAllowed ? 'block' : 'none';\n",
              "\n",
              "        async function convertToInteractive(key) {\n",
              "          const element = document.querySelector('#df-8fa2b6a9-ce55-42d7-987d-b5c2b00194e7');\n",
              "          const dataTable =\n",
              "            await google.colab.kernel.invokeFunction('convertToInteractive',\n",
              "                                                     [key], {});\n",
              "          if (!dataTable) return;\n",
              "\n",
              "          const docLinkHtml = 'Like what you see? Visit the ' +\n",
              "            '<a target=\"_blank\" href=https://colab.research.google.com/notebooks/data_table.ipynb>data table notebook</a>'\n",
              "            + ' to learn more about interactive tables.';\n",
              "          element.innerHTML = '';\n",
              "          dataTable['output_type'] = 'display_data';\n",
              "          await google.colab.output.renderOutput(dataTable, element);\n",
              "          const docLink = document.createElement('div');\n",
              "          docLink.innerHTML = docLinkHtml;\n",
              "          element.appendChild(docLink);\n",
              "        }\n",
              "      </script>\n",
              "    </div>\n",
              "  </div>\n",
              "  "
            ]
          },
          "metadata": {},
          "execution_count": 5
        }
      ],
      "source": [
        "df  = pd.read_csv(data)\n",
        "df.drop(df.columns[0],axis=1,inplace=True)\n",
        "df.head()"
      ]
    },
    {
      "cell_type": "code",
      "source": [
        "import matplotlib.pyplot as plt\n",
        "plt.title('Continuous features')\n",
        "df.nunique().plot(kind='bar', figsize=(20,7))"
      ],
      "metadata": {
        "colab": {
          "base_uri": "https://localhost:8080/",
          "height": 573
        },
        "id": "38UyhNDCBGsH",
        "outputId": "34d83d05-7746-40ee-d06d-b4f3f3b822f6"
      },
      "id": "38UyhNDCBGsH",
      "execution_count": null,
      "outputs": [
        {
          "output_type": "execute_result",
          "data": {
            "text/plain": [
              "<matplotlib.axes._subplots.AxesSubplot at 0x7fb76de76910>"
            ]
          },
          "metadata": {},
          "execution_count": 3
        },
        {
          "output_type": "display_data",
          "data": {
            "text/plain": [
              "<Figure size 1440x504 with 1 Axes>"
            ],
            "image/png": "[encoded data removed]"
          },
          "metadata": {
            "needs_background": "light"
          }
        }
      ]
    },
    {
      "cell_type": "code",
      "source": [
        "# df.info()\n",
        "from sklearn import preprocessing\n",
        " \n",
        "# label_encoder object knows how to understand word labels.\n",
        "label_encoder = preprocessing.LabelEncoder()\n",
        "df['label']= label_encoder.fit_transform(df['label'])"
      ],
      "metadata": {
        "id": "UoUZZMmuBmNw"
      },
      "id": "UoUZZMmuBmNw",
      "execution_count": null,
      "outputs": []
    },
    {
      "cell_type": "code",
      "source": [
        "X = df[['count', 'srv_serror_rate', 'serror_rate', 'dst_host_serror_rate',\n",
        "       'dst_host_srv_serror_rate', 'logged_in', 'dst_host_same_srv_rate',\n",
        "       'dst_host_srv_count', 'same_srv_rate']]\n",
        "y = df['label']"
      ],
      "metadata": {
        "id": "Z--fEcKeBl6j"
      },
      "id": "Z--fEcKeBl6j",
      "execution_count": null,
      "outputs": []
    },
    {
      "cell_type": "markdown",
      "source": [
        "Spliting for TabNEt"
      ],
      "metadata": {
        "id": "tJ0vcOUnDe7J"
      },
      "id": "tJ0vcOUnDe7J"
    },
    {
      "cell_type": "code",
      "source": [
        "# split data into train, test and validation set with splitted feature and class\n",
        "def get_train_test_val_split():\n",
        "    X_train, X_test, y_train, y_test = train_test_split(X, y, test_size=0.1, random_state=42)\n",
        "    X_train, X_val, y_train, y_val = train_test_split(X_train, y_train, test_size=0.22, random_state=2)\n",
        "    return X_train, X_test, X_val, y_train, y_test, y_val\n",
        "# get train, test and validation set\n",
        "X_train, X_test, X_val, y_train, y_test, y_val = get_train_test_val_split()\n"
      ],
      "metadata": {
        "id": "8l-BIpbUCZhf"
      },
      "id": "8l-BIpbUCZhf",
      "execution_count": null,
      "outputs": []
    },
    {
      "cell_type": "markdown",
      "source": [
        "Build CNN"
      ],
      "metadata": {
        "id": "BQUsCz45CUXq"
      },
      "id": "BQUsCz45CUXq"
    },
    {
      "cell_type": "code",
      "source": [
        "import tensorflow as tf\n",
        "from tensorflow.keras.models import Sequential \n",
        "from tensorflow.keras.layers import Dense,Activation,Dropout \n",
        "from tensorflow.keras.layers import BatchNormalization \n",
        "from tensorflow.keras.utils import to_categorical"
      ],
      "metadata": {
        "id": "DoBfq4X4COzS"
      },
      "id": "DoBfq4X4COzS",
      "execution_count": null,
      "outputs": []
    },
    {
      "cell_type": "code",
      "source": [
        "# deep learning model initialization\n",
        "model = tf.keras.models.Sequential()  \n",
        "model.add(Dense(1000,input_dim=X_train.shape[1],activation='relu'))\n",
        "model.add(Dense(500,activation='relu'))\n",
        "model.add(Dense(300,activation='relu'))\n",
        "model.add(Dense(150,activation='relu'))\n",
        "model.add(Dense(75,activation='relu'))\n",
        "model.add(Dense(30,activation='relu'))\n",
        "model.add(Dense(15,activation='relu'))\n",
        "model.add(Dropout(0.5))\n",
        "\n",
        "New_X_train = model.predict(X_train)\n",
        "New_X_test = model.predict(X_test)\n",
        "New_X_val = model.predict(X_val)"
      ],
      "metadata": {
        "id": "qDkpR2UvCOv7"
      },
      "id": "qDkpR2UvCOv7",
      "execution_count": null,
      "outputs": []
    },
    {
      "cell_type": "markdown",
      "source": [
        "Evaluation Function"
      ],
      "metadata": {
        "id": "tgmqR5P0Fh5n"
      },
      "id": "tgmqR5P0Fh5n"
    },
    {
      "cell_type": "code",
      "execution_count": null,
      "id": "c8d68f58",
      "metadata": {
        "id": "c8d68f58"
      },
      "outputs": [],
      "source": [
        "# function for evaluation metrics precision, recall, f1 etc\n",
        "def modelEvaluation(predictions, y_test_set, model_name):\n",
        "    import seaborn as sns\n",
        "    from sklearn.metrics import classification_report, confusion_matrix,accuracy_score\n",
        "    from sklearn.metrics import plot_confusion_matrix, precision_score, recall_score, f1_score\n",
        "    # Print model evaluation to predicted result    \n",
        "    print(\"==========\",model_name,\"==========\")\n",
        "    print (\"\\nAccuracy on validation set: {:.4f}\".format(accuracy_score(y_test_set, predictions)))    \n",
        "    print (\"\\nClassification report : \\n\", classification_report(y_test_set, predictions))\n",
        "#     print (\"\\nConfusion Matrix : \\n\", confusion_matrix(y_test_set, predictions))\n",
        "    sns.heatmap(confusion_matrix(y_test_set, predictions),annot=True, fmt='g',cmap='viridis')\n",
        "    plt.tight_layout()\n",
        "    plt.show()\n",
        "    results = [accuracy_score(y_test_set, predictions), precision_score(y_test_set, predictions, average='macro'),\n",
        "              recall_score(y_test_set, predictions, average='macro'),f1_score(y_test_set, predictions, average='macro')]\n",
        "    return results"
      ]
    },
    {
      "cell_type": "markdown",
      "id": "169a0d98",
      "metadata": {
        "id": "169a0d98"
      },
      "source": [
        "# 01 TabNet"
      ]
    },
    {
      "cell_type": "markdown",
      "source": [
        "TabNet provides a high-performance and interpretable tabular data deep learning architecture. It uses a method called sequential attention mechanism to enabling which feature to choose to cause high interpretability and efficient training."
      ],
      "metadata": {
        "id": "P8mdXz7CSRC5"
      },
      "id": "P8mdXz7CSRC5"
    },
    {
      "cell_type": "code",
      "execution_count": null,
      "id": "88f036b0",
      "metadata": {
        "colab": {
          "base_uri": "https://localhost:8080/"
        },
        "id": "88f036b0",
        "outputId": "05956cfa-5878-4856-a5e9-40462898fad8"
      },
      "outputs": [
        {
          "output_type": "stream",
          "name": "stdout",
          "text": [
            "Device used : cpu\n",
            "epoch 0  | loss: 0.23566 | val_0_auc: 0.89356 |  0:00:04s\n",
            "epoch 1  | loss: 0.1886  | val_0_auc: 0.86553 |  0:00:08s\n",
            "epoch 2  | loss: 0.1893  | val_0_auc: 0.86931 |  0:00:12s\n",
            "epoch 3  | loss: 0.18682 | val_0_auc: 0.84832 |  0:00:16s\n",
            "epoch 4  | loss: 0.17859 | val_0_auc: 0.85051 |  0:00:20s\n",
            "epoch 5  | loss: 0.17721 | val_0_auc: 0.85723 |  0:00:24s\n",
            "epoch 6  | loss: 0.1726  | val_0_auc: 0.88099 |  0:00:28s\n",
            "epoch 7  | loss: 0.17415 | val_0_auc: 0.92131 |  0:00:31s\n",
            "epoch 8  | loss: 0.17042 | val_0_auc: 0.96809 |  0:00:35s\n",
            "epoch 9  | loss: 0.17231 | val_0_auc: 0.97475 |  0:00:39s\n",
            "epoch 10 | loss: 0.1703  | val_0_auc: 0.97896 |  0:00:43s\n",
            "epoch 11 | loss: 0.16959 | val_0_auc: 0.97979 |  0:00:47s\n",
            "epoch 12 | loss: 0.16846 | val_0_auc: 0.97997 |  0:00:51s\n",
            "epoch 13 | loss: 0.17314 | val_0_auc: 0.97934 |  0:00:55s\n",
            "epoch 14 | loss: 0.17535 | val_0_auc: 0.98044 |  0:00:59s\n",
            "epoch 15 | loss: 0.16955 | val_0_auc: 0.98051 |  0:01:03s\n",
            "epoch 16 | loss: 0.17345 | val_0_auc: 0.97948 |  0:01:06s\n",
            "epoch 17 | loss: 0.17441 | val_0_auc: 0.98001 |  0:01:10s\n",
            "epoch 18 | loss: 0.17245 | val_0_auc: 0.98019 |  0:01:14s\n",
            "epoch 19 | loss: 0.16896 | val_0_auc: 0.97869 |  0:01:18s\n",
            "epoch 20 | loss: 0.17176 | val_0_auc: 0.98043 |  0:01:22s\n",
            "epoch 21 | loss: 0.1687  | val_0_auc: 0.97895 |  0:01:26s\n",
            "epoch 22 | loss: 0.17056 | val_0_auc: 0.98052 |  0:01:29s\n",
            "epoch 23 | loss: 0.1655  | val_0_auc: 0.98155 |  0:01:33s\n",
            "epoch 24 | loss: 0.16429 | val_0_auc: 0.98113 |  0:01:37s\n",
            "epoch 25 | loss: 0.16327 | val_0_auc: 0.9813  |  0:01:42s\n",
            "epoch 26 | loss: 0.17021 | val_0_auc: 0.98077 |  0:01:46s\n",
            "epoch 27 | loss: 0.16552 | val_0_auc: 0.98077 |  0:01:50s\n",
            "epoch 28 | loss: 0.16857 | val_0_auc: 0.97999 |  0:01:54s\n",
            "epoch 29 | loss: 0.16954 | val_0_auc: 0.98115 |  0:01:57s\n",
            "epoch 30 | loss: 0.16504 | val_0_auc: 0.98134 |  0:02:01s\n",
            "epoch 31 | loss: 0.16554 | val_0_auc: 0.98149 |  0:02:05s\n",
            "epoch 32 | loss: 0.1617  | val_0_auc: 0.98222 |  0:02:09s\n",
            "epoch 33 | loss: 0.16042 | val_0_auc: 0.98234 |  0:02:13s\n",
            "epoch 34 | loss: 0.16341 | val_0_auc: 0.98123 |  0:02:17s\n",
            "epoch 35 | loss: 0.16137 | val_0_auc: 0.9823  |  0:02:21s\n",
            "epoch 36 | loss: 0.15923 | val_0_auc: 0.98261 |  0:02:24s\n",
            "epoch 37 | loss: 0.16119 | val_0_auc: 0.9821  |  0:02:28s\n",
            "epoch 38 | loss: 0.16615 | val_0_auc: 0.98215 |  0:02:32s\n",
            "epoch 39 | loss: 0.15978 | val_0_auc: 0.9822  |  0:02:36s\n",
            "epoch 40 | loss: 0.15851 | val_0_auc: 0.9824  |  0:02:40s\n",
            "epoch 41 | loss: 0.15871 | val_0_auc: 0.98249 |  0:02:44s\n",
            "epoch 42 | loss: 0.15788 | val_0_auc: 0.98264 |  0:02:48s\n",
            "epoch 43 | loss: 0.1608  | val_0_auc: 0.98222 |  0:02:52s\n",
            "epoch 44 | loss: 0.16031 | val_0_auc: 0.98221 |  0:02:59s\n",
            "epoch 45 | loss: 0.16158 | val_0_auc: 0.98287 |  0:03:05s\n",
            "epoch 46 | loss: 0.16216 | val_0_auc: 0.98208 |  0:03:09s\n",
            "epoch 47 | loss: 0.15905 | val_0_auc: 0.98249 |  0:03:12s\n",
            "epoch 48 | loss: 0.16085 | val_0_auc: 0.98278 |  0:03:16s\n",
            "epoch 49 | loss: 0.15792 | val_0_auc: 0.98192 |  0:03:20s\n",
            "epoch 50 | loss: 0.16027 | val_0_auc: 0.98146 |  0:03:24s\n",
            "epoch 51 | loss: 0.15931 | val_0_auc: 0.98264 |  0:03:29s\n",
            "epoch 52 | loss: 0.1585  | val_0_auc: 0.98269 |  0:03:33s\n",
            "epoch 53 | loss: 0.15755 | val_0_auc: 0.98213 |  0:03:37s\n",
            "epoch 54 | loss: 0.16431 | val_0_auc: 0.98009 |  0:03:41s\n",
            "epoch 55 | loss: 0.16484 | val_0_auc: 0.97857 |  0:03:45s\n",
            "\n",
            "Early stopping occured at epoch 55 with best_epoch = 45 and best_val_0_auc = 0.98287\n",
            "Best weights from best epoch are automatically used!\n"
          ]
        }
      ],
      "source": [
        "# get train, test and validation set\n",
        "# X_train, X_test, X_val, y_train, y_test, y_val = get_train_test_val_split()\n",
        "\n",
        "# initialize model\n",
        "clf = TabNetClassifier()  #TabNetRegressor()\n",
        "# fit model\n",
        "clf.fit(\n",
        "  New_X_train, y_train,\n",
        "  eval_set=[(New_X_val, y_val)]\n",
        ")"
      ]
    },
    {
      "cell_type": "markdown",
      "id": "185f67aa",
      "metadata": {
        "id": "185f67aa"
      },
      "source": [
        "## make predictions"
      ]
    },
    {
      "cell_type": "code",
      "execution_count": null,
      "id": "c2717b36",
      "metadata": {
        "colab": {
          "base_uri": "https://localhost:8080/",
          "height": 609
        },
        "id": "c2717b36",
        "outputId": "47a8e16f-42b1-4a40-d3fd-59357bcd02fe"
      },
      "outputs": [
        {
          "output_type": "stream",
          "name": "stdout",
          "text": [
            "========== TabNet Model ==========\n",
            "\n",
            "Accuracy on validation set: 0.9315\n",
            "\n",
            "Classification report : \n",
            "               precision    recall  f1-score   support\n",
            "\n",
            "           0       0.93      0.92      0.93      5872\n",
            "           1       0.93      0.94      0.94      6726\n",
            "\n",
            "    accuracy                           0.93     12598\n",
            "   macro avg       0.93      0.93      0.93     12598\n",
            "weighted avg       0.93      0.93      0.93     12598\n",
            "\n"
          ]
        },
        {
          "output_type": "display_data",
          "data": {
            "text/plain": [
              "<Figure size 432x288 with 2 Axes>"
            ],
            "image/png": "[encoded data removed]"
          },
          "metadata": {
            "needs_background": "light"
          }
        },
        {
          "output_type": "execute_result",
          "data": {
            "text/plain": [
              "[0.9314970630258771,\n",
              " 0.9312856424718841,\n",
              " 0.9310456757744359,\n",
              " 0.9311619408561124]"
            ]
          },
          "metadata": {},
          "execution_count": 15
        }
      ],
      "source": [
        "# make prediction using trained model\n",
        "y_pred = clf.predict(New_X_test)\n",
        "# calculate accuracy and other evaluation measures\n",
        "modelEvaluation(y_test, y_pred, 'TabNet Model')"
      ]
    },
    {
      "cell_type": "markdown",
      "id": "3f01045c",
      "metadata": {
        "id": "3f01045c"
      },
      "source": [
        "# 02 Light Gradient Boosted Machine"
      ]
    },
    {
      "cell_type": "code",
      "execution_count": null,
      "id": "2c8d4559",
      "metadata": {
        "colab": {
          "base_uri": "https://localhost:8080/"
        },
        "id": "2c8d4559",
        "outputId": "d1f14fc5-07b6-4559-981e-075675461426"
      },
      "outputs": [
        {
          "output_type": "execute_result",
          "data": {
            "text/plain": [
              "LGBMClassifier()"
            ]
          },
          "metadata": {},
          "execution_count": 16
        }
      ],
      "source": [
        "# get train, test and validation set\n",
        "# X_train, X_test, y_train, y_test = get_train_test_split()\n",
        "# initialize model\n",
        "clf = lgb.LGBMClassifier()\n",
        "# fit model\n",
        "clf.fit(New_X_train, y_train)"
      ]
    },
    {
      "cell_type": "markdown",
      "id": "e2e79cb6",
      "metadata": {
        "id": "e2e79cb6"
      },
      "source": [
        "## make predictions"
      ]
    },
    {
      "cell_type": "code",
      "execution_count": null,
      "id": "797c020e",
      "metadata": {
        "colab": {
          "base_uri": "https://localhost:8080/",
          "height": 609
        },
        "id": "797c020e",
        "outputId": "0324d610-de02-4866-c2da-129e3eac2e61"
      },
      "outputs": [
        {
          "output_type": "stream",
          "name": "stdout",
          "text": [
            "========== Light Gradient Boosted Machine ==========\n",
            "\n",
            "Accuracy on validation set: 0.9521\n",
            "\n",
            "Classification report : \n",
            "               precision    recall  f1-score   support\n",
            "\n",
            "           0       0.94      0.95      0.95      5804\n",
            "           1       0.96      0.95      0.96      6794\n",
            "\n",
            "    accuracy                           0.95     12598\n",
            "   macro avg       0.95      0.95      0.95     12598\n",
            "weighted avg       0.95      0.95      0.95     12598\n",
            "\n"
          ]
        },
        {
          "output_type": "display_data",
          "data": {
            "text/plain": [
              "<Figure size 432x288 with 2 Axes>"
            ],
            "image/png": "[encoded data removed]"
          },
          "metadata": {
            "needs_background": "light"
          }
        },
        {
          "output_type": "execute_result",
          "data": {
            "text/plain": [
              "[0.9521352595650103,\n",
              " 0.9516413292830811,\n",
              " 0.9521077299526663,\n",
              " 0.9518632567150211]"
            ]
          },
          "metadata": {},
          "execution_count": 17
        }
      ],
      "source": [
        "# make prediction using trained model\n",
        "y_pred = clf.predict(New_X_test)\n",
        "# calculate accuracy and other evaluation measures\n",
        "modelEvaluation(y_test, y_pred, 'Light Gradient Boosted Machine')"
      ]
    },
    {
      "cell_type": "markdown",
      "id": "3310ac73",
      "metadata": {
        "id": "3310ac73"
      },
      "source": [
        "# 03 CatBoost\n",
        "“CatBoost” name comes from two words “Category” and “Boosting”. As discussed, the library works well with multiple Categories of data, such as audio, text, image including historical data. “Boost” comes from gradient boosting machine learning algorithm as this library is based on gradient boosting library."
      ]
    },
    {
      "cell_type": "code",
      "execution_count": null,
      "id": "f0159675",
      "metadata": {
        "id": "f0159675"
      },
      "outputs": [],
      "source": [
        "# get train, test and validation set\n",
        "# X_train, X_test, y_train, y_test = get_train_test_split()\n",
        "\n",
        "# preparing data for model training\n",
        "train_pool = Pool(New_X_train, y_train)\n",
        "test_pool = Pool(New_X_test, y_test)"
      ]
    },
    {
      "cell_type": "code",
      "execution_count": null,
      "id": "986da0b0",
      "metadata": {
        "colab": {
          "base_uri": "https://localhost:8080/"
        },
        "id": "986da0b0",
        "outputId": "9587617a-0286-42ae-8a8d-db0560b90717"
      },
      "outputs": [
        {
          "output_type": "stream",
          "name": "stdout",
          "text": [
            "0:\tlearn: 0.2614993\ttotal: 120ms\tremaining: 11.8s\n",
            "1:\tlearn: 0.1937991\ttotal: 179ms\tremaining: 8.77s\n",
            "2:\tlearn: 0.1686545\ttotal: 239ms\tremaining: 7.73s\n",
            "3:\tlearn: 0.1583732\ttotal: 299ms\tremaining: 7.18s\n",
            "4:\tlearn: 0.1519975\ttotal: 363ms\tremaining: 6.89s\n",
            "5:\tlearn: 0.1483731\ttotal: 420ms\tremaining: 6.58s\n",
            "6:\tlearn: 0.1444885\ttotal: 479ms\tremaining: 6.37s\n",
            "7:\tlearn: 0.1414195\ttotal: 546ms\tremaining: 6.27s\n",
            "8:\tlearn: 0.1393525\ttotal: 607ms\tremaining: 6.14s\n",
            "9:\tlearn: 0.1381852\ttotal: 677ms\tremaining: 6.09s\n",
            "10:\tlearn: 0.1363115\ttotal: 730ms\tremaining: 5.91s\n",
            "11:\tlearn: 0.1352618\ttotal: 792ms\tremaining: 5.81s\n",
            "12:\tlearn: 0.1338097\ttotal: 856ms\tremaining: 5.73s\n",
            "13:\tlearn: 0.1328127\ttotal: 912ms\tremaining: 5.6s\n",
            "14:\tlearn: 0.1318187\ttotal: 969ms\tremaining: 5.49s\n",
            "15:\tlearn: 0.1302870\ttotal: 1.03s\tremaining: 5.4s\n",
            "16:\tlearn: 0.1297938\ttotal: 1.09s\tremaining: 5.31s\n",
            "17:\tlearn: 0.1287006\ttotal: 1.14s\tremaining: 5.2s\n",
            "18:\tlearn: 0.1281057\ttotal: 1.19s\tremaining: 5.09s\n",
            "19:\tlearn: 0.1272892\ttotal: 1.26s\tremaining: 5.03s\n",
            "20:\tlearn: 0.1250954\ttotal: 1.32s\tremaining: 4.96s\n",
            "21:\tlearn: 0.1235452\ttotal: 1.38s\tremaining: 4.88s\n",
            "22:\tlearn: 0.1229069\ttotal: 1.44s\tremaining: 4.8s\n",
            "23:\tlearn: 0.1219257\ttotal: 1.49s\tremaining: 4.72s\n",
            "24:\tlearn: 0.1206531\ttotal: 1.55s\tremaining: 4.65s\n",
            "25:\tlearn: 0.1202329\ttotal: 1.61s\tremaining: 4.58s\n",
            "26:\tlearn: 0.1190438\ttotal: 1.68s\tremaining: 4.53s\n",
            "27:\tlearn: 0.1184513\ttotal: 1.73s\tremaining: 4.46s\n",
            "28:\tlearn: 0.1177991\ttotal: 1.8s\tremaining: 4.4s\n",
            "29:\tlearn: 0.1171751\ttotal: 1.85s\tremaining: 4.32s\n",
            "30:\tlearn: 0.1161733\ttotal: 1.91s\tremaining: 4.26s\n",
            "31:\tlearn: 0.1155388\ttotal: 1.98s\tremaining: 4.21s\n",
            "32:\tlearn: 0.1150594\ttotal: 2.04s\tremaining: 4.15s\n",
            "33:\tlearn: 0.1148133\ttotal: 2.1s\tremaining: 4.08s\n",
            "34:\tlearn: 0.1144263\ttotal: 2.16s\tremaining: 4s\n",
            "35:\tlearn: 0.1139563\ttotal: 2.21s\tremaining: 3.94s\n",
            "36:\tlearn: 0.1135583\ttotal: 2.27s\tremaining: 3.87s\n",
            "37:\tlearn: 0.1131626\ttotal: 2.33s\tremaining: 3.8s\n",
            "38:\tlearn: 0.1129223\ttotal: 2.39s\tremaining: 3.74s\n",
            "39:\tlearn: 0.1125494\ttotal: 2.45s\tremaining: 3.67s\n",
            "40:\tlearn: 0.1121962\ttotal: 2.5s\tremaining: 3.6s\n",
            "41:\tlearn: 0.1120122\ttotal: 2.56s\tremaining: 3.54s\n",
            "42:\tlearn: 0.1116089\ttotal: 2.62s\tremaining: 3.47s\n",
            "43:\tlearn: 0.1112966\ttotal: 2.69s\tremaining: 3.42s\n",
            "44:\tlearn: 0.1107086\ttotal: 2.75s\tremaining: 3.36s\n",
            "45:\tlearn: 0.1101816\ttotal: 2.81s\tremaining: 3.3s\n",
            "46:\tlearn: 0.1100384\ttotal: 2.87s\tremaining: 3.23s\n",
            "47:\tlearn: 0.1096384\ttotal: 2.93s\tremaining: 3.17s\n",
            "48:\tlearn: 0.1093090\ttotal: 2.99s\tremaining: 3.11s\n",
            "49:\tlearn: 0.1090512\ttotal: 3.04s\tremaining: 3.04s\n",
            "50:\tlearn: 0.1088917\ttotal: 3.1s\tremaining: 2.98s\n",
            "51:\tlearn: 0.1086771\ttotal: 3.16s\tremaining: 2.92s\n",
            "52:\tlearn: 0.1082985\ttotal: 3.23s\tremaining: 2.86s\n",
            "53:\tlearn: 0.1079103\ttotal: 3.28s\tremaining: 2.79s\n",
            "54:\tlearn: 0.1076906\ttotal: 3.34s\tremaining: 2.73s\n",
            "55:\tlearn: 0.1075257\ttotal: 3.4s\tremaining: 2.67s\n",
            "56:\tlearn: 0.1072952\ttotal: 3.46s\tremaining: 2.61s\n",
            "57:\tlearn: 0.1071348\ttotal: 3.52s\tremaining: 2.55s\n",
            "58:\tlearn: 0.1068128\ttotal: 3.58s\tremaining: 2.48s\n",
            "59:\tlearn: 0.1065242\ttotal: 3.63s\tremaining: 2.42s\n",
            "60:\tlearn: 0.1062912\ttotal: 3.7s\tremaining: 2.37s\n",
            "61:\tlearn: 0.1061294\ttotal: 3.76s\tremaining: 2.3s\n",
            "62:\tlearn: 0.1059725\ttotal: 3.82s\tremaining: 2.24s\n",
            "63:\tlearn: 0.1057251\ttotal: 3.88s\tremaining: 2.18s\n",
            "64:\tlearn: 0.1055912\ttotal: 3.94s\tremaining: 2.12s\n",
            "65:\tlearn: 0.1054341\ttotal: 3.99s\tremaining: 2.06s\n",
            "66:\tlearn: 0.1053458\ttotal: 4.05s\tremaining: 1.99s\n",
            "67:\tlearn: 0.1052704\ttotal: 4.1s\tremaining: 1.93s\n",
            "68:\tlearn: 0.1050314\ttotal: 4.16s\tremaining: 1.87s\n",
            "69:\tlearn: 0.1049034\ttotal: 4.21s\tremaining: 1.8s\n",
            "70:\tlearn: 0.1045804\ttotal: 4.28s\tremaining: 1.75s\n",
            "71:\tlearn: 0.1044250\ttotal: 4.33s\tremaining: 1.69s\n",
            "72:\tlearn: 0.1042340\ttotal: 4.39s\tremaining: 1.63s\n",
            "73:\tlearn: 0.1039762\ttotal: 4.45s\tremaining: 1.56s\n",
            "74:\tlearn: 0.1039273\ttotal: 4.51s\tremaining: 1.5s\n",
            "75:\tlearn: 0.1038493\ttotal: 4.56s\tremaining: 1.44s\n",
            "76:\tlearn: 0.1036179\ttotal: 4.62s\tremaining: 1.38s\n",
            "77:\tlearn: 0.1035634\ttotal: 4.67s\tremaining: 1.32s\n",
            "78:\tlearn: 0.1033408\ttotal: 4.75s\tremaining: 1.26s\n",
            "79:\tlearn: 0.1031031\ttotal: 4.8s\tremaining: 1.2s\n",
            "80:\tlearn: 0.1029248\ttotal: 4.87s\tremaining: 1.14s\n",
            "81:\tlearn: 0.1028796\ttotal: 4.92s\tremaining: 1.08s\n",
            "82:\tlearn: 0.1027436\ttotal: 4.97s\tremaining: 1.02s\n",
            "83:\tlearn: 0.1026047\ttotal: 5.04s\tremaining: 959ms\n",
            "84:\tlearn: 0.1025413\ttotal: 5.09s\tremaining: 899ms\n",
            "85:\tlearn: 0.1023679\ttotal: 5.16s\tremaining: 839ms\n",
            "86:\tlearn: 0.1022544\ttotal: 5.21s\tremaining: 779ms\n",
            "87:\tlearn: 0.1021760\ttotal: 5.27s\tremaining: 719ms\n",
            "88:\tlearn: 0.1020887\ttotal: 5.33s\tremaining: 659ms\n",
            "89:\tlearn: 0.1019042\ttotal: 5.39s\tremaining: 599ms\n",
            "90:\tlearn: 0.1018263\ttotal: 5.45s\tremaining: 539ms\n",
            "91:\tlearn: 0.1016521\ttotal: 5.5s\tremaining: 479ms\n",
            "92:\tlearn: 0.1016184\ttotal: 5.56s\tremaining: 418ms\n",
            "93:\tlearn: 0.1014872\ttotal: 5.61s\tremaining: 358ms\n",
            "94:\tlearn: 0.1014307\ttotal: 5.67s\tremaining: 298ms\n",
            "95:\tlearn: 0.1012918\ttotal: 5.74s\tremaining: 239ms\n",
            "96:\tlearn: 0.1012216\ttotal: 5.8s\tremaining: 179ms\n",
            "97:\tlearn: 0.1010165\ttotal: 5.86s\tremaining: 120ms\n",
            "98:\tlearn: 0.1009673\ttotal: 5.91s\tremaining: 59.7ms\n",
            "99:\tlearn: 0.1008886\ttotal: 5.97s\tremaining: 0us\n"
          ]
        },
        {
          "output_type": "execute_result",
          "data": {
            "text/plain": [
              "<catboost.core.CatBoostClassifier at 0x7fb76903a790>"
            ]
          },
          "metadata": {},
          "execution_count": 19
        }
      ],
      "source": [
        "# model hyper paramete settings\n",
        "search_space = {'iterations': hp.quniform('iterations', 10, 1000, 10),\n",
        "                'depth': hp.quniform('depth', 2, 12, 1),\n",
        "                'lr': hp.uniform('lr', 0.01, 1)\n",
        "               }\n",
        "\n",
        "# model initialization and training\n",
        "model = CatBoostClassifier(iterations=100,\n",
        "                             depth=8,\n",
        "                             learning_rate=1,\n",
        "                             loss_function='MultiClass') \n",
        "model.fit(train_pool)"
      ]
    },
    {
      "cell_type": "code",
      "execution_count": null,
      "id": "941dadde",
      "metadata": {
        "colab": {
          "base_uri": "https://localhost:8080/",
          "height": 609
        },
        "id": "941dadde",
        "outputId": "f0163edd-c224-404b-964b-07902019a47e"
      },
      "outputs": [
        {
          "output_type": "stream",
          "name": "stdout",
          "text": [
            "========== CatBoost ==========\n",
            "\n",
            "Accuracy on validation set: 0.9525\n",
            "\n",
            "Classification report : \n",
            "               precision    recall  f1-score   support\n",
            "\n",
            "           0       0.95      0.95      0.95      5857\n",
            "           1       0.95      0.96      0.96      6741\n",
            "\n",
            "    accuracy                           0.95     12598\n",
            "   macro avg       0.95      0.95      0.95     12598\n",
            "weighted avg       0.95      0.95      0.95     12598\n",
            "\n"
          ]
        },
        {
          "output_type": "display_data",
          "data": {
            "text/plain": [
              "<Figure size 432x288 with 2 Axes>"
            ],
            "image/png": "[encoded data removed]"
          },
          "metadata": {
            "needs_background": "light"
          }
        },
        {
          "output_type": "execute_result",
          "data": {
            "text/plain": [
              "[0.9525321479599936,\n",
              " 0.9523437190651648,\n",
              " 0.9522412939332385,\n",
              " 0.9522918976415784]"
            ]
          },
          "metadata": {},
          "execution_count": 20
        }
      ],
      "source": [
        "# make prediction using trained model\n",
        "predictions = model.predict(test_pool)\n",
        "# calculate accuracy and other evaluation measures\n",
        "y_pred = [pred[0] for pred in predictions]\n",
        "# make_predictions(y_test, y_pred)\n",
        "modelEvaluation(y_test, y_pred, 'CatBoost')"
      ]
    },
    {
      "cell_type": "markdown",
      "id": "f1f20bc2",
      "metadata": {
        "id": "f1f20bc2"
      },
      "source": [
        "# 04 Deeptables"
      ]
    },
    {
      "cell_type": "code",
      "execution_count": null,
      "id": "3ae79a15",
      "metadata": {
        "colab": {
          "base_uri": "https://localhost:8080/"
        },
        "id": "3ae79a15",
        "outputId": "522ce1b6-edb2-470b-f7c1-6bc0caffc288"
      },
      "outputs": [
        {
          "output_type": "stream",
          "name": "stdout",
          "text": [
            "04-26 09:07:36 I deeptables.m.deeptable.py 338 - X.Shape=(88432, 15), y.Shape=(88432,), batch_size=128, config=ModelConfig(name='conf-1', nets=['dnn_nets'], categorical_columns='auto', exclude_columns=[], task='auto', pos_label=None, metrics=['accuracy'], auto_categorize=False, cat_exponent=0.5, cat_remain_numeric=True, auto_encode_label=True, auto_imputation=True, auto_discrete=False, auto_discard_unique=True, apply_gbm_features=False, gbm_params={}, gbm_feature_type='embedding', fixed_embedding_dim=True, embeddings_output_dim=4, embeddings_initializer='uniform', embeddings_regularizer=None, embeddings_activity_regularizer=None, dense_dropout=0, embedding_dropout=0.3, stacking_op='add', output_use_bias=True, apply_class_weight=False, optimizer='auto', loss='auto', dnn_params={'hidden_units': ((128, 0, False), (64, 0, False)), 'activation': 'relu'}, autoint_params={'num_attention': 3, 'num_heads': 1, 'dropout_rate': 0, 'use_residual': True}, fgcnn_params={'fg_filters': (14, 16), 'fg_heights': (7, 7), 'fg_pool_heights': (2, 2), 'fg_new_feat_filters': (2, 2)}, fibinet_params={'senet_pooling_op': 'mean', 'senet_reduction_ratio': 3, 'bilinear_type': 'field_interaction'}, cross_params={'num_cross_layer': 4}, pnn_params={'outer_product_kernel_type': 'mat'}, afm_params={'attention_factor': 4, 'dropout_rate': 0}, cin_params={'cross_layer_size': (128, 128), 'activation': 'relu', 'use_residual': False, 'use_bias': False, 'direct': False, 'reduce_D': False}, home_dir=None, monitor_metric=None, earlystopping_patience=1, earlystopping_mode='auto', gpu_usage_strategy='memory_growth', distribute_strategy=None, var_len_categorical_columns=None)\n",
            "04-26 09:07:36 I deeptables.m.deeptable.py 339 - metrics:['accuracy']\n",
            "04-26 09:07:36 I hypernets.t.toolbox.py 329 - 2 class detected, {0, 1}, so inferred as a [binary classification] task\n"
          ]
        },
        {
          "output_type": "stream",
          "name": "stderr",
          "text": [
            "04-26 09:07:36 W deeptables.m.__init__.py 1395 - Column index of X has been converted: Index(['x_0', 'x_1', 'x_2', 'x_3', 'x_4', 'x_5', 'x_6', 'x_7', 'x_8', 'x_9',\n",
            "       'x_10', 'x_11', 'x_12', 'x_13', 'x_14'],\n",
            "      dtype='object')\n"
          ]
        },
        {
          "output_type": "stream",
          "name": "stdout",
          "text": [
            "04-26 09:07:36 I deeptables.m.preprocessor.py 261 - Preparing features...\n",
            "04-26 09:07:36 I deeptables.m.preprocessor.py 336 - Preparing features taken 0.05325007438659668s\n",
            "04-26 09:07:36 I deeptables.m.preprocessor.py 341 - Data imputation...\n",
            "04-26 09:07:36 I deeptables.m.preprocessor.py 383 - Imputation taken 0.09333300590515137s\n",
            "04-26 09:07:36 I deeptables.m.preprocessor.py 388 - Categorical encoding...\n",
            "04-26 09:07:36 I deeptables.m.preprocessor.py 393 - Categorical encoding taken 0.005875349044799805s\n",
            "04-26 09:07:36 I deeptables.m.preprocessor.py 196 - fit_transform taken 0.24115395545959473s\n",
            "04-26 09:07:36 I deeptables.m.preprocessor.py 242 - Transform [X]...\n"
          ]
        },
        {
          "output_type": "stream",
          "name": "stderr",
          "text": [
            "04-26 09:07:36 W deeptables.m.__init__.py 1395 - Column index of X has been converted: Index(['x_0', 'x_1', 'x_2', 'x_3', 'x_4', 'x_5', 'x_6', 'x_7', 'x_8', 'x_9',\n",
            "       'x_10', 'x_11', 'x_12', 'x_13', 'x_14'],\n",
            "      dtype='object')\n"
          ]
        },
        {
          "output_type": "stream",
          "name": "stdout",
          "text": [
            "04-26 09:07:36 I deeptables.m.preprocessor.py 249 - transform_X taken 0.02574467658996582s\n",
            "04-26 09:07:36 I deeptables.m.preprocessor.py 230 - Transform [y]...\n",
            "04-26 09:07:36 I deeptables.m.preprocessor.py 236 - transform_y taken 0.0017552375793457031s\n",
            "04-26 09:07:36 I deeptables.m.deeptable.py 354 - Training...\n",
            "04-26 09:07:36 I deeptables.m.deeptable.py 752 - Injected a callback [EarlyStopping]. monitor:val_accuracy, patience:1, mode:max\n",
            "04-26 09:07:36 I deeptables.u.dataset_generator.py 240 - create dataset generator with _TFDGForPandas, batch_size=128, shuffle=True, drop_remainder=True\n",
            "04-26 09:07:36 I deeptables.u.dataset_generator.py 240 - create dataset generator with _TFDGForPandas, batch_size=128, shuffle=True, drop_remainder=True\n",
            "04-26 09:07:36 I deeptables.m.deepmodel.py 231 - Building model...\n",
            "04-26 09:07:37 I deeptables.m.deepmodel.py 287 - >>>>>>>>>>>>>>>>>>>>>> Model Desc <<<<<<<<<<<<<<<<<<<<<<< \n",
            "---------------------------------------------------------\n",
            "inputs:\n",
            "---------------------------------------------------------\n",
            "['input_continuous_all: (14)']\n",
            "---------------------------------------------------------\n",
            "embeddings:\n",
            "---------------------------------------------------------\n",
            "None\n",
            "---------------------------------------------------------\n",
            "dense: dropout: 0\n",
            "batch_normalization: False\n",
            "---------------------------------------------------------\n",
            "concat_embed_dense: shape: (None, 14)\n",
            "---------------------------------------------------------\n",
            "nets: ['dnn_nets']\n",
            "---------------------------------------------------------\n",
            "dnn: input_shape (None, 14), output_shape (None, 64)\n",
            "---------------------------------------------------------\n",
            "stacking_op: add\n",
            "---------------------------------------------------------\n",
            "output: activation: sigmoid, output_shape: (None, 1), use_bias: True\n",
            "loss: binary_crossentropy\n",
            "optimizer: Adam\n",
            "---------------------------------------------------------\n",
            "\n",
            "04-26 09:07:37 I deeptables.m.deepmodel.py 105 - training...\n",
            "Epoch 1/50\n",
            "690/690 [==============================] - 5s 5ms/step - loss: 0.2083 - accuracy: 0.9064 - val_loss: 0.2079 - val_accuracy: 0.8938\n",
            "Epoch 2/50\n",
            "690/690 [==============================] - 4s 5ms/step - loss: 0.1752 - accuracy: 0.9252 - val_loss: 0.1776 - val_accuracy: 0.9170\n",
            "Epoch 3/50\n",
            "690/690 [==============================] - 4s 6ms/step - loss: 0.1697 - accuracy: 0.9275 - val_loss: 0.1709 - val_accuracy: 0.9278\n",
            "Epoch 4/50\n",
            "690/690 [==============================] - 3s 3ms/step - loss: 0.1668 - accuracy: 0.9290 - val_loss: 0.1677 - val_accuracy: 0.9307\n",
            "Epoch 5/50\n",
            "690/690 [==============================] - 2s 3ms/step - loss: 0.1647 - accuracy: 0.9301 - val_loss: 0.1650 - val_accuracy: 0.9317\n",
            "Epoch 6/50\n",
            "690/690 [==============================] - 2s 3ms/step - loss: 0.1630 - accuracy: 0.9313 - val_loss: 0.1653 - val_accuracy: 0.9323\n",
            "Epoch 7/50\n",
            "689/690 [============================>.] - ETA: 0s - loss: 0.1619 - accuracy: 0.9308Restoring model weights from the end of the best epoch: 6.\n",
            "690/690 [==============================] - 2s 3ms/step - loss: 0.1619 - accuracy: 0.9308 - val_loss: 0.1632 - val_accuracy: 0.9299\n",
            "Epoch 7: early stopping\n",
            "04-26 09:07:59 I deeptables.m.deepmodel.py 122 - Training finished.\n",
            "04-26 09:07:59 I deeptables.m.deeptable.py 370 - Training finished.\n",
            "04-26 09:07:59 I deeptables.m.deeptable.py 704 - Model has been saved to:dt_output/dt_20220426090736_dnn_nets/dnn_nets.h5\n"
          ]
        }
      ],
      "source": [
        "# get train, test and validation set\n",
        "# X_train, X_test, X_val, y_train, y_test, y_val = get_train_test_val_split()\n",
        "# initialize model\n",
        "config = deeptable.ModelConfig(nets=deepnets.DeepFM)\n",
        "dt = deeptable.DeepTable()\n",
        "# fit model\n",
        "model, history = dt.fit(New_X_train, y_train, validation_data=(New_X_val, y_val), epochs=50)"
      ]
    },
    {
      "cell_type": "code",
      "execution_count": null,
      "id": "fbaa284e",
      "metadata": {
        "colab": {
          "base_uri": "https://localhost:8080/",
          "height": 783
        },
        "id": "fbaa284e",
        "outputId": "4af4af30-6c49-4cd0-d99b-565a497d3900"
      },
      "outputs": [
        {
          "output_type": "stream",
          "name": "stdout",
          "text": [
            "04-26 09:10:06 I deeptables.m.deeptable.py 685 - Perform prediction...\n",
            "04-26 09:10:06 I deeptables.m.preprocessor.py 242 - Transform [X]...\n"
          ]
        },
        {
          "output_type": "stream",
          "name": "stderr",
          "text": [
            "04-26 09:10:06 W deeptables.m.__init__.py 1395 - Column index of X has been converted: Index(['x_0', 'x_1', 'x_2', 'x_3', 'x_4', 'x_5', 'x_6', 'x_7', 'x_8', 'x_9',\n",
            "       'x_10', 'x_11', 'x_12', 'x_13', 'x_14'],\n",
            "      dtype='object')\n"
          ]
        },
        {
          "output_type": "stream",
          "name": "stdout",
          "text": [
            "04-26 09:10:06 I deeptables.m.preprocessor.py 249 - transform_X taken 0.04150795936584473s\n",
            "04-26 09:10:06 I deeptables.m.deepmodel.py 130 - Performing predictions...\n",
            "04-26 09:10:06 I deeptables.u.dataset_generator.py 240 - create dataset generator with _TFDGForPandas, batch_size=128, shuffle=False, drop_remainder=False\n",
            "04-26 09:10:06 I deeptables.m.deeptable.py 559 - predict_proba taken 0.6865286827087402s\n",
            "04-26 09:10:06 I deeptables.m.deeptable.py 594 - Reverse indicators to labels.\n",
            "========== DeepTables ==========\n",
            "\n",
            "Accuracy on validation set: 0.9340\n",
            "\n",
            "Classification report : \n",
            "               precision    recall  f1-score   support\n",
            "\n",
            "           0       0.93      0.93      0.93      5853\n",
            "           1       0.94      0.94      0.94      6745\n",
            "\n",
            "    accuracy                           0.93     12598\n",
            "   macro avg       0.93      0.93      0.93     12598\n",
            "weighted avg       0.93      0.93      0.93     12598\n",
            "\n"
          ]
        },
        {
          "output_type": "display_data",
          "data": {
            "text/plain": [
              "<Figure size 432x288 with 2 Axes>"
            ],
            "image/png": "[encoded data removed]"
          },
          "metadata": {
            "needs_background": "light"
          }
        },
        {
          "output_type": "execute_result",
          "data": {
            "text/plain": [
              "[0.9339577710747737,\n",
              " 0.9336503036485837,\n",
              " 0.9335911193147357,\n",
              " 0.9336204966080485]"
            ]
          },
          "metadata": {},
          "execution_count": 22
        }
      ],
      "source": [
        "# make prediction using trained model\n",
        "preds = dt.predict(New_X_test)\n",
        "# calculate accuracy and other evaluation measures\n",
        "# make_predictions(y_test, preds)\n",
        "modelEvaluation(y_test, preds, 'DeepTables')"
      ]
    },
    {
      "cell_type": "code",
      "source": [
        ""
      ],
      "metadata": {
        "id": "xlLWtlWaIotF"
      },
      "id": "xlLWtlWaIotF",
      "execution_count": null,
      "outputs": []
    }
  ],
  "metadata": {
    "kernelspec": {
      "display_name": "Python 3 (ipykernel)",
      "language": "python",
      "name": "python3"
    },
    "language_info": {
      "codemirror_mode": {
        "name": "ipython",
        "version": 3
      },
      "file_extension": ".py",
      "mimetype": "text/x-python",
      "name": "python",
      "nbconvert_exporter": "python",
      "pygments_lexer": "ipython3",
      "version": "3.7.11"
    },
    "colab": {
      "name": "DL_Binary_on_NSL+KDD (1).ipynb",
      "provenance": [],
      "collapsed_sections": [],
      "include_colab_link": true
    }
  },
  "nbformat": 4,
  "nbformat_minor": 5
}